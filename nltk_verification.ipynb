{
 "cells": [
  {
   "cell_type": "code",
   "execution_count": 2,
   "id": "a5b6bdb4",
   "metadata": {},
   "outputs": [
    {
     "name": "stderr",
     "output_type": "stream",
     "text": [
      "[nltk_data] Downloading package vader_lexicon to\n",
      "[nltk_data]     C:\\Users\\SOGANG\\AppData\\Roaming\\nltk_data...\n"
     ]
    },
    {
     "data": {
      "text/plain": [
       "True"
      ]
     },
     "execution_count": 2,
     "metadata": {},
     "output_type": "execute_result"
    }
   ],
   "source": [
    "import nltk\n",
    "nltk.download('vader_lexicon')"
   ]
  },
  {
   "cell_type": "code",
   "execution_count": 40,
   "id": "dce9431f",
   "metadata": {},
   "outputs": [],
   "source": [
    "import pandas as pd\n",
    "from tqdm import tqdm \n",
    "from nltk.sentiment.vader import SentimentIntensityAnalyzer as SIA\n",
    "sia=SIA()"
   ]
  },
  {
   "cell_type": "code",
   "execution_count": 19,
   "id": "f0574af2",
   "metadata": {},
   "outputs": [],
   "source": [
    "df = pd.read_csv('./dataset.csv/dataset.csv').astype(str)"
   ]
  },
  {
   "cell_type": "code",
   "execution_count": 20,
   "id": "d080579a",
   "metadata": {},
   "outputs": [],
   "source": [
    "df = df[['review_text', 'review_score']]"
   ]
  },
  {
   "cell_type": "code",
   "execution_count": 21,
   "id": "3cc696fc",
   "metadata": {
    "scrolled": false
   },
   "outputs": [
    {
     "data": {
      "text/html": [
       "<div>\n",
       "<style scoped>\n",
       "    .dataframe tbody tr th:only-of-type {\n",
       "        vertical-align: middle;\n",
       "    }\n",
       "\n",
       "    .dataframe tbody tr th {\n",
       "        vertical-align: top;\n",
       "    }\n",
       "\n",
       "    .dataframe thead th {\n",
       "        text-align: right;\n",
       "    }\n",
       "</style>\n",
       "<table border=\"1\" class=\"dataframe\">\n",
       "  <thead>\n",
       "    <tr style=\"text-align: right;\">\n",
       "      <th></th>\n",
       "      <th>review_text</th>\n",
       "      <th>review_score</th>\n",
       "    </tr>\n",
       "  </thead>\n",
       "  <tbody>\n",
       "    <tr>\n",
       "      <th>0</th>\n",
       "      <td>Ruined my life.</td>\n",
       "      <td>1</td>\n",
       "    </tr>\n",
       "    <tr>\n",
       "      <th>1</th>\n",
       "      <td>This will be more of a ''my experience with th...</td>\n",
       "      <td>1</td>\n",
       "    </tr>\n",
       "    <tr>\n",
       "      <th>2</th>\n",
       "      <td>This game saved my virginity.</td>\n",
       "      <td>1</td>\n",
       "    </tr>\n",
       "    <tr>\n",
       "      <th>3</th>\n",
       "      <td>• Do you like original games? • Do you like ga...</td>\n",
       "      <td>1</td>\n",
       "    </tr>\n",
       "    <tr>\n",
       "      <th>4</th>\n",
       "      <td>Easy to learn, hard to master.</td>\n",
       "      <td>1</td>\n",
       "    </tr>\n",
       "    <tr>\n",
       "      <th>...</th>\n",
       "      <td>...</td>\n",
       "      <td>...</td>\n",
       "    </tr>\n",
       "    <tr>\n",
       "      <th>6417101</th>\n",
       "      <td>I really ove this game but it needs somethings...</td>\n",
       "      <td>-1</td>\n",
       "    </tr>\n",
       "    <tr>\n",
       "      <th>6417102</th>\n",
       "      <td>Used to play Puzzel Pirates 'way back when', b...</td>\n",
       "      <td>-1</td>\n",
       "    </tr>\n",
       "    <tr>\n",
       "      <th>6417103</th>\n",
       "      <td>This game was aright, though a bit annoying. W...</td>\n",
       "      <td>-1</td>\n",
       "    </tr>\n",
       "    <tr>\n",
       "      <th>6417104</th>\n",
       "      <td>I had a nice review to recommend this game, bu...</td>\n",
       "      <td>-1</td>\n",
       "    </tr>\n",
       "    <tr>\n",
       "      <th>6417105</th>\n",
       "      <td>The puzzles in this game are fun, but you have...</td>\n",
       "      <td>-1</td>\n",
       "    </tr>\n",
       "  </tbody>\n",
       "</table>\n",
       "<p>6417106 rows × 2 columns</p>\n",
       "</div>"
      ],
      "text/plain": [
       "                                               review_text review_score\n",
       "0                                          Ruined my life.            1\n",
       "1        This will be more of a ''my experience with th...            1\n",
       "2                            This game saved my virginity.            1\n",
       "3        • Do you like original games? • Do you like ga...            1\n",
       "4                 Easy to learn, hard to master.                      1\n",
       "...                                                    ...          ...\n",
       "6417101  I really ove this game but it needs somethings...           -1\n",
       "6417102  Used to play Puzzel Pirates 'way back when', b...           -1\n",
       "6417103  This game was aright, though a bit annoying. W...           -1\n",
       "6417104  I had a nice review to recommend this game, bu...           -1\n",
       "6417105  The puzzles in this game are fun, but you have...           -1\n",
       "\n",
       "[6417106 rows x 2 columns]"
      ]
     },
     "execution_count": 21,
     "metadata": {},
     "output_type": "execute_result"
    }
   ],
   "source": [
    "df"
   ]
  },
  {
   "cell_type": "code",
   "execution_count": 10,
   "id": "9ef692d2",
   "metadata": {},
   "outputs": [],
   "source": [
    "def predict(str) :\n",
    "    pol_score = sia.polarity_scores(str)\n",
    "    if(pol_score['compound'] < 0) :\n",
    "        return -1\n",
    "    return 1"
   ]
  },
  {
   "cell_type": "code",
   "execution_count": 49,
   "id": "b696b9b5",
   "metadata": {},
   "outputs": [
    {
     "name": "stderr",
     "output_type": "stream",
     "text": [
      "100%|██████████████████████████████████████████████████████████████████████| 6417106/6417106 [58:16<00:00, 1835.43it/s]\n"
     ]
    }
   ],
   "source": [
    "tqdm.pandas()\n",
    "df['nltk'] = df['review_text'].progress_apply(lambda x : predict(x))"
   ]
  },
  {
   "cell_type": "code",
   "execution_count": 50,
   "id": "33c3d8b4",
   "metadata": {
    "scrolled": false
   },
   "outputs": [
    {
     "data": {
      "text/html": [
       "<div>\n",
       "<style scoped>\n",
       "    .dataframe tbody tr th:only-of-type {\n",
       "        vertical-align: middle;\n",
       "    }\n",
       "\n",
       "    .dataframe tbody tr th {\n",
       "        vertical-align: top;\n",
       "    }\n",
       "\n",
       "    .dataframe thead th {\n",
       "        text-align: right;\n",
       "    }\n",
       "</style>\n",
       "<table border=\"1\" class=\"dataframe\">\n",
       "  <thead>\n",
       "    <tr style=\"text-align: right;\">\n",
       "      <th></th>\n",
       "      <th>review_text</th>\n",
       "      <th>review_score</th>\n",
       "      <th>nltk</th>\n",
       "    </tr>\n",
       "  </thead>\n",
       "  <tbody>\n",
       "    <tr>\n",
       "      <th>0</th>\n",
       "      <td>Ruined my life.</td>\n",
       "      <td>1</td>\n",
       "      <td>-1</td>\n",
       "    </tr>\n",
       "    <tr>\n",
       "      <th>1</th>\n",
       "      <td>This will be more of a ''my experience with th...</td>\n",
       "      <td>1</td>\n",
       "      <td>1</td>\n",
       "    </tr>\n",
       "    <tr>\n",
       "      <th>2</th>\n",
       "      <td>This game saved my virginity.</td>\n",
       "      <td>1</td>\n",
       "      <td>1</td>\n",
       "    </tr>\n",
       "    <tr>\n",
       "      <th>3</th>\n",
       "      <td>• Do you like original games? • Do you like ga...</td>\n",
       "      <td>1</td>\n",
       "      <td>1</td>\n",
       "    </tr>\n",
       "    <tr>\n",
       "      <th>4</th>\n",
       "      <td>Easy to learn, hard to master.</td>\n",
       "      <td>1</td>\n",
       "      <td>1</td>\n",
       "    </tr>\n",
       "    <tr>\n",
       "      <th>...</th>\n",
       "      <td>...</td>\n",
       "      <td>...</td>\n",
       "      <td>...</td>\n",
       "    </tr>\n",
       "    <tr>\n",
       "      <th>6417101</th>\n",
       "      <td>I really ove this game but it needs somethings...</td>\n",
       "      <td>-1</td>\n",
       "      <td>1</td>\n",
       "    </tr>\n",
       "    <tr>\n",
       "      <th>6417102</th>\n",
       "      <td>Used to play Puzzel Pirates 'way back when', b...</td>\n",
       "      <td>-1</td>\n",
       "      <td>-1</td>\n",
       "    </tr>\n",
       "    <tr>\n",
       "      <th>6417103</th>\n",
       "      <td>This game was aright, though a bit annoying. W...</td>\n",
       "      <td>-1</td>\n",
       "      <td>-1</td>\n",
       "    </tr>\n",
       "    <tr>\n",
       "      <th>6417104</th>\n",
       "      <td>I had a nice review to recommend this game, bu...</td>\n",
       "      <td>-1</td>\n",
       "      <td>-1</td>\n",
       "    </tr>\n",
       "    <tr>\n",
       "      <th>6417105</th>\n",
       "      <td>The puzzles in this game are fun, but you have...</td>\n",
       "      <td>-1</td>\n",
       "      <td>1</td>\n",
       "    </tr>\n",
       "  </tbody>\n",
       "</table>\n",
       "<p>6417106 rows × 3 columns</p>\n",
       "</div>"
      ],
      "text/plain": [
       "                                               review_text review_score  nltk\n",
       "0                                          Ruined my life.            1    -1\n",
       "1        This will be more of a ''my experience with th...            1     1\n",
       "2                            This game saved my virginity.            1     1\n",
       "3        • Do you like original games? • Do you like ga...            1     1\n",
       "4                 Easy to learn, hard to master.                      1     1\n",
       "...                                                    ...          ...   ...\n",
       "6417101  I really ove this game but it needs somethings...           -1     1\n",
       "6417102  Used to play Puzzel Pirates 'way back when', b...           -1    -1\n",
       "6417103  This game was aright, though a bit annoying. W...           -1    -1\n",
       "6417104  I had a nice review to recommend this game, bu...           -1    -1\n",
       "6417105  The puzzles in this game are fun, but you have...           -1     1\n",
       "\n",
       "[6417106 rows x 3 columns]"
      ]
     },
     "execution_count": 50,
     "metadata": {},
     "output_type": "execute_result"
    }
   ],
   "source": [
    "df"
   ]
  },
  {
   "cell_type": "code",
   "execution_count": 61,
   "id": "71b5afee",
   "metadata": {
    "scrolled": false
   },
   "outputs": [
    {
     "data": {
      "text/html": [
       "<div>\n",
       "<style scoped>\n",
       "    .dataframe tbody tr th:only-of-type {\n",
       "        vertical-align: middle;\n",
       "    }\n",
       "\n",
       "    .dataframe tbody tr th {\n",
       "        vertical-align: top;\n",
       "    }\n",
       "\n",
       "    .dataframe thead th {\n",
       "        text-align: right;\n",
       "    }\n",
       "</style>\n",
       "<table border=\"1\" class=\"dataframe\">\n",
       "  <thead>\n",
       "    <tr style=\"text-align: right;\">\n",
       "      <th></th>\n",
       "      <th>review_text</th>\n",
       "      <th>review_score</th>\n",
       "      <th>nltk</th>\n",
       "    </tr>\n",
       "  </thead>\n",
       "  <tbody>\n",
       "    <tr>\n",
       "      <th>0</th>\n",
       "      <td>Ruined my life.</td>\n",
       "      <td>1</td>\n",
       "      <td>-1</td>\n",
       "    </tr>\n",
       "    <tr>\n",
       "      <th>1</th>\n",
       "      <td>This will be more of a ''my experience with th...</td>\n",
       "      <td>1</td>\n",
       "      <td>1</td>\n",
       "    </tr>\n",
       "    <tr>\n",
       "      <th>2</th>\n",
       "      <td>This game saved my virginity.</td>\n",
       "      <td>1</td>\n",
       "      <td>1</td>\n",
       "    </tr>\n",
       "    <tr>\n",
       "      <th>3</th>\n",
       "      <td>• Do you like original games? • Do you like ga...</td>\n",
       "      <td>1</td>\n",
       "      <td>1</td>\n",
       "    </tr>\n",
       "    <tr>\n",
       "      <th>4</th>\n",
       "      <td>Easy to learn, hard to master.</td>\n",
       "      <td>1</td>\n",
       "      <td>1</td>\n",
       "    </tr>\n",
       "    <tr>\n",
       "      <th>...</th>\n",
       "      <td>...</td>\n",
       "      <td>...</td>\n",
       "      <td>...</td>\n",
       "    </tr>\n",
       "    <tr>\n",
       "      <th>6417101</th>\n",
       "      <td>I really ove this game but it needs somethings...</td>\n",
       "      <td>-1</td>\n",
       "      <td>1</td>\n",
       "    </tr>\n",
       "    <tr>\n",
       "      <th>6417102</th>\n",
       "      <td>Used to play Puzzel Pirates 'way back when', b...</td>\n",
       "      <td>-1</td>\n",
       "      <td>-1</td>\n",
       "    </tr>\n",
       "    <tr>\n",
       "      <th>6417103</th>\n",
       "      <td>This game was aright, though a bit annoying. W...</td>\n",
       "      <td>-1</td>\n",
       "      <td>-1</td>\n",
       "    </tr>\n",
       "    <tr>\n",
       "      <th>6417104</th>\n",
       "      <td>I had a nice review to recommend this game, bu...</td>\n",
       "      <td>-1</td>\n",
       "      <td>-1</td>\n",
       "    </tr>\n",
       "    <tr>\n",
       "      <th>6417105</th>\n",
       "      <td>The puzzles in this game are fun, but you have...</td>\n",
       "      <td>-1</td>\n",
       "      <td>1</td>\n",
       "    </tr>\n",
       "  </tbody>\n",
       "</table>\n",
       "<p>6417106 rows × 3 columns</p>\n",
       "</div>"
      ],
      "text/plain": [
       "                                               review_text review_score  nltk\n",
       "0                                          Ruined my life.            1    -1\n",
       "1        This will be more of a ''my experience with th...            1     1\n",
       "2                            This game saved my virginity.            1     1\n",
       "3        • Do you like original games? • Do you like ga...            1     1\n",
       "4                 Easy to learn, hard to master.                      1     1\n",
       "...                                                    ...          ...   ...\n",
       "6417101  I really ove this game but it needs somethings...           -1     1\n",
       "6417102  Used to play Puzzel Pirates 'way back when', b...           -1    -1\n",
       "6417103  This game was aright, though a bit annoying. W...           -1    -1\n",
       "6417104  I had a nice review to recommend this game, bu...           -1    -1\n",
       "6417105  The puzzles in this game are fun, but you have...           -1     1\n",
       "\n",
       "[6417106 rows x 3 columns]"
      ]
     },
     "execution_count": 61,
     "metadata": {},
     "output_type": "execute_result"
    }
   ],
   "source": [
    "df.reset_index(drop=True)"
   ]
  },
  {
   "cell_type": "code",
   "execution_count": 67,
   "id": "d10c6991",
   "metadata": {},
   "outputs": [],
   "source": [
    "df['nltk'] = df['nltk'].apply(lambda x : str(x))"
   ]
  },
  {
   "cell_type": "code",
   "execution_count": 80,
   "id": "83225185",
   "metadata": {
    "scrolled": false
   },
   "outputs": [],
   "source": [
    "wrong = df[df['review_score'] != df['nltk']]"
   ]
  },
  {
   "cell_type": "code",
   "execution_count": 83,
   "id": "1b8657c1",
   "metadata": {},
   "outputs": [
    {
     "data": {
      "text/html": [
       "<div>\n",
       "<style scoped>\n",
       "    .dataframe tbody tr th:only-of-type {\n",
       "        vertical-align: middle;\n",
       "    }\n",
       "\n",
       "    .dataframe tbody tr th {\n",
       "        vertical-align: top;\n",
       "    }\n",
       "\n",
       "    .dataframe thead th {\n",
       "        text-align: right;\n",
       "    }\n",
       "</style>\n",
       "<table border=\"1\" class=\"dataframe\">\n",
       "  <thead>\n",
       "    <tr style=\"text-align: right;\">\n",
       "      <th></th>\n",
       "      <th>review_text</th>\n",
       "      <th>review_score</th>\n",
       "      <th>nltk</th>\n",
       "    </tr>\n",
       "  </thead>\n",
       "  <tbody>\n",
       "    <tr>\n",
       "      <th>0</th>\n",
       "      <td>Ruined my life.</td>\n",
       "      <td>1</td>\n",
       "      <td>-1</td>\n",
       "    </tr>\n",
       "    <tr>\n",
       "      <th>9</th>\n",
       "      <td>Every server is spanish or french. I can now f...</td>\n",
       "      <td>1</td>\n",
       "      <td>-1</td>\n",
       "    </tr>\n",
       "    <tr>\n",
       "      <th>10</th>\n",
       "      <td>Fire in the Hole Simulator 1999</td>\n",
       "      <td>1</td>\n",
       "      <td>-1</td>\n",
       "    </tr>\n",
       "    <tr>\n",
       "      <th>11</th>\n",
       "      <td>I never played a better first person shooter. ...</td>\n",
       "      <td>1</td>\n",
       "      <td>-1</td>\n",
       "    </tr>\n",
       "    <tr>\n",
       "      <th>12</th>\n",
       "      <td>WARNING : DO NOT buy this game, if you do, you...</td>\n",
       "      <td>1</td>\n",
       "      <td>-1</td>\n",
       "    </tr>\n",
       "    <tr>\n",
       "      <th>...</th>\n",
       "      <td>...</td>\n",
       "      <td>...</td>\n",
       "      <td>...</td>\n",
       "    </tr>\n",
       "    <tr>\n",
       "      <th>6417097</th>\n",
       "      <td>This game has some serious problems. First of ...</td>\n",
       "      <td>-1</td>\n",
       "      <td>1</td>\n",
       "    </tr>\n",
       "    <tr>\n",
       "      <th>6417098</th>\n",
       "      <td>This game is good but also horrible. Its fun t...</td>\n",
       "      <td>-1</td>\n",
       "      <td>1</td>\n",
       "    </tr>\n",
       "    <tr>\n",
       "      <th>6417100</th>\n",
       "      <td>This game is good but also horrible. Its fun t...</td>\n",
       "      <td>-1</td>\n",
       "      <td>1</td>\n",
       "    </tr>\n",
       "    <tr>\n",
       "      <th>6417101</th>\n",
       "      <td>I really ove this game but it needs somethings...</td>\n",
       "      <td>-1</td>\n",
       "      <td>1</td>\n",
       "    </tr>\n",
       "    <tr>\n",
       "      <th>6417105</th>\n",
       "      <td>The puzzles in this game are fun, but you have...</td>\n",
       "      <td>-1</td>\n",
       "      <td>1</td>\n",
       "    </tr>\n",
       "  </tbody>\n",
       "</table>\n",
       "<p>1311700 rows × 3 columns</p>\n",
       "</div>"
      ],
      "text/plain": [
       "                                               review_text review_score nltk\n",
       "0                                          Ruined my life.            1   -1\n",
       "9        Every server is spanish or french. I can now f...            1   -1\n",
       "10                         Fire in the Hole Simulator 1999            1   -1\n",
       "11       I never played a better first person shooter. ...            1   -1\n",
       "12       WARNING : DO NOT buy this game, if you do, you...            1   -1\n",
       "...                                                    ...          ...  ...\n",
       "6417097  This game has some serious problems. First of ...           -1    1\n",
       "6417098  This game is good but also horrible. Its fun t...           -1    1\n",
       "6417100  This game is good but also horrible. Its fun t...           -1    1\n",
       "6417101  I really ove this game but it needs somethings...           -1    1\n",
       "6417105  The puzzles in this game are fun, but you have...           -1    1\n",
       "\n",
       "[1311700 rows x 3 columns]"
      ]
     },
     "execution_count": 83,
     "metadata": {},
     "output_type": "execute_result"
    }
   ],
   "source": [
    "wrong"
   ]
  },
  {
   "cell_type": "code",
   "execution_count": 82,
   "id": "43fc44c7",
   "metadata": {},
   "outputs": [
    {
     "data": {
      "text/plain": [
       "0.7955932160073403"
      ]
     },
     "execution_count": 82,
     "metadata": {},
     "output_type": "execute_result"
    }
   ],
   "source": [
    "1- len(wrong) / len(df)"
   ]
  }
 ],
 "metadata": {
  "kernelspec": {
   "display_name": "Python 3",
   "language": "python",
   "name": "python3"
  },
  "language_info": {
   "codemirror_mode": {
    "name": "ipython",
    "version": 3
   },
   "file_extension": ".py",
   "mimetype": "text/x-python",
   "name": "python",
   "nbconvert_exporter": "python",
   "pygments_lexer": "ipython3",
   "version": "3.8.8"
  }
 },
 "nbformat": 4,
 "nbformat_minor": 5
}
