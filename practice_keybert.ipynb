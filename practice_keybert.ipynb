{
  "nbformat": 4,
  "nbformat_minor": 0,
  "metadata": {
    "colab": {
      "name": "Untitled3.ipynb",
      "provenance": [],
      "collapsed_sections": []
    },
    "kernelspec": {
      "name": "python3",
      "display_name": "Python 3"
    },
    "language_info": {
      "name": "python"
    }
  },
  "cells": [
    {
      "cell_type": "code",
      "execution_count": 1,
      "metadata": {
        "colab": {
          "base_uri": "https://localhost:8080/"
        },
        "id": "IdbOVUaU7enZ",
        "outputId": "eed2b4b1-2ba7-416c-a2f7-7cccb4fbc99a"
      },
      "outputs": [
        {
          "output_type": "stream",
          "name": "stdout",
          "text": [
            "Collecting sentence_transformers\n",
            "  Downloading sentence-transformers-2.2.0.tar.gz (79 kB)\n",
            "\u001b[K     |████████████████████████████████| 79 kB 3.2 MB/s \n",
            "\u001b[?25hCollecting transformers<5.0.0,>=4.6.0\n",
            "  Downloading transformers-4.18.0-py3-none-any.whl (4.0 MB)\n",
            "\u001b[K     |████████████████████████████████| 4.0 MB 37.3 MB/s \n",
            "\u001b[?25hRequirement already satisfied: tqdm in /usr/local/lib/python3.7/dist-packages (from sentence_transformers) (4.64.0)\n",
            "Requirement already satisfied: torch>=1.6.0 in /usr/local/lib/python3.7/dist-packages (from sentence_transformers) (1.10.0+cu111)\n",
            "Requirement already satisfied: torchvision in /usr/local/lib/python3.7/dist-packages (from sentence_transformers) (0.11.1+cu111)\n",
            "Requirement already satisfied: numpy in /usr/local/lib/python3.7/dist-packages (from sentence_transformers) (1.21.5)\n",
            "Requirement already satisfied: scikit-learn in /usr/local/lib/python3.7/dist-packages (from sentence_transformers) (1.0.2)\n",
            "Requirement already satisfied: scipy in /usr/local/lib/python3.7/dist-packages (from sentence_transformers) (1.4.1)\n",
            "Requirement already satisfied: nltk in /usr/local/lib/python3.7/dist-packages (from sentence_transformers) (3.2.5)\n",
            "Collecting sentencepiece\n",
            "  Downloading sentencepiece-0.1.96-cp37-cp37m-manylinux_2_17_x86_64.manylinux2014_x86_64.whl (1.2 MB)\n",
            "\u001b[K     |████████████████████████████████| 1.2 MB 27.8 MB/s \n",
            "\u001b[?25hCollecting huggingface-hub\n",
            "  Downloading huggingface_hub-0.5.1-py3-none-any.whl (77 kB)\n",
            "\u001b[K     |████████████████████████████████| 77 kB 2.3 MB/s \n",
            "\u001b[?25hRequirement already satisfied: typing-extensions in /usr/local/lib/python3.7/dist-packages (from torch>=1.6.0->sentence_transformers) (4.1.1)\n",
            "Collecting tokenizers!=0.11.3,<0.13,>=0.11.1\n",
            "  Downloading tokenizers-0.12.1-cp37-cp37m-manylinux_2_12_x86_64.manylinux2010_x86_64.whl (6.6 MB)\n",
            "\u001b[K     |████████████████████████████████| 6.6 MB 31.2 MB/s \n",
            "\u001b[?25hCollecting pyyaml>=5.1\n",
            "  Downloading PyYAML-6.0-cp37-cp37m-manylinux_2_5_x86_64.manylinux1_x86_64.manylinux_2_12_x86_64.manylinux2010_x86_64.whl (596 kB)\n",
            "\u001b[K     |████████████████████████████████| 596 kB 14.3 MB/s \n",
            "\u001b[?25hRequirement already satisfied: packaging>=20.0 in /usr/local/lib/python3.7/dist-packages (from transformers<5.0.0,>=4.6.0->sentence_transformers) (21.3)\n",
            "Requirement already satisfied: requests in /usr/local/lib/python3.7/dist-packages (from transformers<5.0.0,>=4.6.0->sentence_transformers) (2.23.0)\n",
            "Requirement already satisfied: filelock in /usr/local/lib/python3.7/dist-packages (from transformers<5.0.0,>=4.6.0->sentence_transformers) (3.6.0)\n",
            "Requirement already satisfied: regex!=2019.12.17 in /usr/local/lib/python3.7/dist-packages (from transformers<5.0.0,>=4.6.0->sentence_transformers) (2019.12.20)\n",
            "Requirement already satisfied: importlib-metadata in /usr/local/lib/python3.7/dist-packages (from transformers<5.0.0,>=4.6.0->sentence_transformers) (4.11.3)\n",
            "Collecting sacremoses\n",
            "  Downloading sacremoses-0.0.49-py3-none-any.whl (895 kB)\n",
            "\u001b[K     |████████████████████████████████| 895 kB 51.2 MB/s \n",
            "\u001b[?25hRequirement already satisfied: pyparsing!=3.0.5,>=2.0.2 in /usr/local/lib/python3.7/dist-packages (from packaging>=20.0->transformers<5.0.0,>=4.6.0->sentence_transformers) (3.0.8)\n",
            "Requirement already satisfied: zipp>=0.5 in /usr/local/lib/python3.7/dist-packages (from importlib-metadata->transformers<5.0.0,>=4.6.0->sentence_transformers) (3.8.0)\n",
            "Requirement already satisfied: six in /usr/local/lib/python3.7/dist-packages (from nltk->sentence_transformers) (1.15.0)\n",
            "Requirement already satisfied: urllib3!=1.25.0,!=1.25.1,<1.26,>=1.21.1 in /usr/local/lib/python3.7/dist-packages (from requests->transformers<5.0.0,>=4.6.0->sentence_transformers) (1.24.3)\n",
            "Requirement already satisfied: idna<3,>=2.5 in /usr/local/lib/python3.7/dist-packages (from requests->transformers<5.0.0,>=4.6.0->sentence_transformers) (2.10)\n",
            "Requirement already satisfied: certifi>=2017.4.17 in /usr/local/lib/python3.7/dist-packages (from requests->transformers<5.0.0,>=4.6.0->sentence_transformers) (2021.10.8)\n",
            "Requirement already satisfied: chardet<4,>=3.0.2 in /usr/local/lib/python3.7/dist-packages (from requests->transformers<5.0.0,>=4.6.0->sentence_transformers) (3.0.4)\n",
            "Requirement already satisfied: joblib in /usr/local/lib/python3.7/dist-packages (from sacremoses->transformers<5.0.0,>=4.6.0->sentence_transformers) (1.1.0)\n",
            "Requirement already satisfied: click in /usr/local/lib/python3.7/dist-packages (from sacremoses->transformers<5.0.0,>=4.6.0->sentence_transformers) (7.1.2)\n",
            "Requirement already satisfied: threadpoolctl>=2.0.0 in /usr/local/lib/python3.7/dist-packages (from scikit-learn->sentence_transformers) (3.1.0)\n",
            "Requirement already satisfied: pillow!=8.3.0,>=5.3.0 in /usr/local/lib/python3.7/dist-packages (from torchvision->sentence_transformers) (7.1.2)\n",
            "Building wheels for collected packages: sentence-transformers\n",
            "  Building wheel for sentence-transformers (setup.py) ... \u001b[?25l\u001b[?25hdone\n",
            "  Created wheel for sentence-transformers: filename=sentence_transformers-2.2.0-py3-none-any.whl size=120747 sha256=d5cab9a457d9b5370cfe56ec3c08436252adab1565d06c75f42579f3e7aa820e\n",
            "  Stored in directory: /root/.cache/pip/wheels/83/c0/df/b6873ab7aac3f2465aa9144b6b4c41c4391cfecc027c8b07e7\n",
            "Successfully built sentence-transformers\n",
            "Installing collected packages: pyyaml, tokenizers, sacremoses, huggingface-hub, transformers, sentencepiece, sentence-transformers\n",
            "  Attempting uninstall: pyyaml\n",
            "    Found existing installation: PyYAML 3.13\n",
            "    Uninstalling PyYAML-3.13:\n",
            "      Successfully uninstalled PyYAML-3.13\n",
            "Successfully installed huggingface-hub-0.5.1 pyyaml-6.0 sacremoses-0.0.49 sentence-transformers-2.2.0 sentencepiece-0.1.96 tokenizers-0.12.1 transformers-4.18.0\n"
          ]
        }
      ],
      "source": [
        "!pip install sentence_transformers"
      ]
    },
    {
      "cell_type": "code",
      "source": [
        "import numpy as np\n",
        "import itertools\n",
        "\n",
        "from sklearn.feature_extraction.text import CountVectorizer\n",
        "from sklearn.metrics.pairwise import cosine_similarity\n",
        "from sentence_transformers import SentenceTransformer"
      ],
      "metadata": {
        "id": "9qwCgF0d7jSm"
      },
      "execution_count": 2,
      "outputs": []
    },
    {
      "cell_type": "code",
      "source": [
        "doc = \"\"\"\n",
        "      AZIR\n",
        "Health growth increased.\n",
        "\n",
        " A little birdy told us that Azir's been weak, and the numbers told us the birdy was right. His lack of Pro presence in a scaling meta that should favor him was the final confirmation, so we're giving him some base stat power that should help the Emperor of Shurima in all skill brackets. \n",
        "BASE STATS\n",
        "HEALTH GROWTH 92 ⇒ 105\n",
        "HEALTH AT LEVEL 18 2116 ⇒ 2337\n",
        "\n",
        "DARIUS\n",
        "R base damage increased.\n",
        "\n",
        " Darius has been lagging behind other juggernauts after the fighter item changes, so we're giving him a beefy damage boost. (As a reminder, his ult's total damage can increase by up to 100% based on his passive stacks.) \n",
        "R - NOXIAN GUILLOTINE\n",
        "MINIMUM TRUE DAMAGE 100/200/300 (+75% bonus AD) ⇒ 125/250/375 (+75% bonus AD)\n",
        "\n",
        "HECARIM\n",
        "Q and E base damage decreased late.\n",
        "\n",
        " Tankarim is taking over Pro again, so we're nerfing the base damage on some of his abilities to ensure fairer horseplay. \n",
        "Q - RAMPAGE\n",
        "BASE DAMAGE 60/97/134/171/208 (+85% bonus AD) ⇒ 60/90/120/150/180 (+85% bonus AD)\n",
        "E - DEVASTATING CHARGE\n",
        "MINIMUM TOTAL DAMAGE 30/50/70/90/110 (+55% bonus AD) ⇒ 30/45/60/75/90 (+55% bonus AD)\n",
        "MAXIMUM TOTAL DAMAGE 60/100/140/180/220 (+110% bonus AD) ⇒ 60/90/120/150/180 (+110% bonus AD)\n",
        "\n",
        "ILLAOI\n",
        "QoL change on R and several bugfixes.\n",
        "\n",
        " No balance changes here; instead, we fixed lots of bugs and updated Illaoi's ult to give her some more control over her tentacles. \n",
        "R - LEAP OF FAITH\n",
        "UPDATEDFACE ME R - Leap of Faith now casts with Illaoi facing toward your cursor, allowing for more favorable Tentacle spawn locations\n",
        "BUGFIXES\n",
        "When Illaoi attacks a Vessel while empowered by W - Harsh Lesson, nearby inactive Tentacles will now slam her target as soon as they become active (short delay removed)\n",
        "Spell queueing has been added to W - Harsh Lesson and R - Leap of Faith, so you can now buffer other spells while casting them\n",
        "W - Harsh Lesson's visual indicators have been fixed and will show the correct range of her empowered basic attacks\n",
        "Tentacles can no longer spawn on either team's base gates on Summoner's Rift\n",
        "Vessels no longer contribute to Illaoi's creep score when they expire or are destroyed\n",
        "Q - Tentacle Smash and E - Test of Spirit will now be visible to nearby enemy champions when cast from Fog of War\n",
        "\n",
        "JAX\n",
        "Base health increased. W base damage increased.\n",
        "\n",
        " Jax has been mediocre for a while, so we're giving him some early game power to help him get to his item power spikes. He may not have a real weapon at first, but now he can buy one a little sooner. :^) \n",
        "BASE STATS\n",
        "BASE HEALTH 593 ⇒ 615\n",
        "W - EMPOWER\n",
        "MAGIC DAMAGE 40/75/110/145/180 (+60% AP) ⇒ 50/85/120/155/190 (+60% AP)\n",
        "\n",
        "NIDALEE\n",
        "Human W cost decreased; E mana cost decreased late and cast range increased. Cougar W damage radius increased.\n",
        "\n",
        " Human-form Nidalee is a mana-hungry huntress, but her overall kit is much more compatible with the non-mana mage Mythics. We're giving her more access to her utility spells as well as making her AoE range bigger so she can claw enemies and jungle camps more effectively. Lastly, her heal cast range was pretty restrictive (especially for a character with so many other positioning constraints), so we're increasing it to match that of her Bushwhack trap placement. All in all, this should make her more accessible and stronger across all skill brackets. \n",
        "HUMAN FORM\n",
        "W - BUSHWHACK\n",
        "MANA COST 40/45/50/55/60 ⇒ 30/35/40/45/50\n",
        "E - PRIMAL SURGE\n",
        "MANA COST 50/60/70/89/90 ⇒ 50/55/60/65/70\n",
        "CAST RANGE 600 ⇒ 900 (now matches W - Bushwhack)\n",
        "COUGAR FORM\n",
        "W - POUNCE\n",
        "AOE DAMAGE RADIUS 225 ⇒ 250\n",
        "\n",
        "RENGAR\n",
        "Passive adjustments to Ferocity, leaps, and Bonetooth Necklace; new Ferocity resource bar added. Q basic attacks now always crit; damage now scales with crit chance; now applies against towers; no longer applies against plants. E cast time during leap removed; now grants true sight and some vision around target. R now also grants some vision around target.\n",
        "\n",
        "\n",
        " Our big kitty finally has some big changes coming to his kit! Our goals were to smooth out Rengar's gameplay, keep his current playstyle, and clarify his builds. We're going to keep a close eye on the Q crit damage ratio so he doesn't get too out of line. We also know that Q no longer applying on plants can be painful for seasoned players who used this mechanic to optimize Ferocity stacks, but we strongly believe it wasn't healthy to support long term and have instead moved that power to more accessible parts of his kit. \n",
        "PASSIVE - UNSEEN PREDATOR\n",
        "UPDATEDHERE, KITTY KITTY Rengar's next leap will grant 1 Ferocity only if he has 0 Ferocity ⇒ upon losing all Ferocity stacks (no matter how much Ferocity he gains before his next leap)\n",
        "UPDATEDPURRFECT POUNCES Rengar will be able to leap after 0.35 seconds in brush or camouflage (or Senna's E - Curse of the Black Mist camouflage) consistently, rather than based on a 0.3-0.45 second timer (Leap range has been slightly increased to offset variability)\n",
        "NEWFEROCIOUS FELINE Rengar now has a Ferocity resource bar that indicates how much Ferocity he currently has (Stacks generated by leaps will have a different color so you'll know if you'll gain Ferocity on your next leap)\n",
        "ALL FEROCITY STACKS FALL OFF AFTER 8 seconds ⇒ 10 seconds out of combat\n",
        "BONETOOTH NECKLACE TAKEDOWN TIMER Within 1.5 seconds ⇒ 3 seconds of damaging an enemy champion\n",
        "Q - SAVAGERY\n",
        "NEWSAVAGE STRIKES Rengar's Q-empowered basic attack is now always a critical strike. Instead of regular critical strike damage, each 1% critical strike chance increases this empowered attack's damage by 0.66% (0.99% with Infinity Edge's Perfection passive)\n",
        "UPDATEDSCRATCHING POSTS Q - Savagery now also applies to basic attacks against towers\n",
        "UPDATEDTHAT WASN'T CATNIP Q - Savagery no longer applies to basic attacks against plants\n",
        "E - BOLA STRIKE\n",
        "UPDATEDNO CAST, ONLY THROW Rengar can now throw his E - Bola Strike instantly (with zero cast time) during leaps\n",
        "NEWPEEKABOO Now grants true sight and normal vision 150 units around the first enemy hit for 2 seconds\n",
        "R - THRILL OF THE HUNT\n",
        "UPDATEDPREDATORY INSTINCT Now grants not only true sight, but also normal vision 100 units around the nearest enemy\n",
        "\n",
        "TRYNDAMERE\n",
        "E cooldown reduction per crit decreased. R cooldown increased.\n",
        "\n",
        " Tryndamere is too strong at the highest levels of play. His kit scales too well with Ability Haste, so we're readjusting his cooldowns to account for the higher amounts of Ability Haste available to him through items. \n",
        "E - SPINNING SLASH\n",
        "COOLDOWN REDUCTION PER CRITICAL STRIKE 1 second (2 seconds against champions) ⇒ 0.75 seconds (1.5 seconds against champions)\n",
        "R - UNDYING RAGE\n",
        "COOLDOWN 110/100/90 seconds ⇒ 130/110/90 seconds\n",
        "\n",
        "GANGPLANK\n",
        "Passive burn base damage increased late. W mana cost decreased.\n",
        "\n",
        " Gangplank is arrrguably struggling at all levels of play. He's already got enough gunpowder in his Q and barrels, so we're putting some power into less explosive and more… orange… parts of his kit. \n",
        "PASSIVE - TRIAL BY FIRE\n",
        "BURN BASE DAMAGE 55-225 (levels 1-18) ⇒ 55-310 (levels 1-18)\n",
        "W - REMOVE SCURVY\n",
        "MANA COST 80/90/100/110/120 ⇒ 60/70/80/90/100\n",
        "\n",
        "GWEN\n",
        "E cooldown refund increased. R cooldown decreased early.\n",
        "\n",
        " Gwen's been hanging by a thread after her most recent nerfs, so we're stitching her up with some cooldown buffs that should help her across all skill levels. Needle-ss to say, we don't think these changes will fully address her issues, but we're being extra careful considering her pattern of dominating Pro. \n",
        "E - SKIP ‘N SLASH\n",
        "COOLDOWN REFUND UPON FIRST BASIC ATTACK 50% ⇒ 60%\n",
        "R - NEEDLEWORK\n",
        "COOLDOWN 120/100/80 seconds ⇒ 100/90/80 seconds\n",
        "\n",
        "JAYCE\n",
        "Base health decreased, health growth increased, and armor adjusted.\n",
        "\n",
        " Jayce has also been a popular pick in Pro. We're lowering his laning power by making him squishier early on, but increasing his growth to make sure he still scales to late game. \n",
        "BASE STATS\n",
        "HEALTH GROWTH 90 ⇒ 95\n",
        "BASE HEALTH 560 ⇒ 520\n",
        "HEALTH 560-2090 (levels 1-18) ⇒ 520-2135 (levels 1-18)\n",
        "BASE ARMOR 27 ⇒ 22\n",
        "ARMOR GROWTH 3.5 ⇒ 3.8 (armor at level 18 unchanged)\n",
        "\n",
        "KALISTA\n",
        "Base mana, move speed, and attack speed growth increased.\n",
        "\n",
        " Kalista hasn’t been seen often in Pro this season, and is generally weak in all levels of play. We're buffing some of her baseline stats which should especially help her out in Average play. Super speedy spooky spears incoming. \n",
        "BASE STATS\n",
        "BASE MANA 250 ⇒ 300\n",
        "MOVE SPEED 325 ⇒ 330\n",
        "ATTACK SPEED GROWTH 4% ⇒ 4.5%\n",
        "\n",
        "KARTHUS\n",
        "Q damage against monsters increased.\n",
        "\n",
        " While the Deathsinger remains powerful in bot lane, his voice has been faltering in the jungle. We're amping up his clear strength to bring jungle Karthus back from the dead. \n",
        "Q - LAY WASTE\n",
        "DAMAGE AGAINST MONSTERS 85% ⇒ 95%\n",
        "\n",
        "LEE SIN\n",
        "Base AD decreased. Q base damage decreased.\n",
        "\n",
        " We're looking (no pun intended) to bring down Lee Sin's jungle clear speed and early game threat in order to reduce his impact on Pro play. We're targeting his base damage instead of his cooldowns to ensure his passive's rhythm remains the same. \n",
        "BASE STATS\n",
        "BASE AD 68 ⇒ 66\n",
        "Q - SONIC WAVE / RESONATING STRIKE\n",
        "SONIC WAVE DAMAGE 55/80/105/130/155 (+100% bonus AD) ⇒ 50/75/100/125/150 (+100% bonus AD)\n",
        "RESONATING STRIKE MINIMUM DAMAGE 55/80/105/130/155 (+100% bonus AD) ⇒ 50/75/100/125/150 (+100% bonus AD)\n",
        "RESONATING STRIKE MAXIMUM DAMAGE 110/160/210/260/310 (+200% bonus AD) ⇒ 100/150/200/250/300 (+200% bonus AD)\n",
        "\n",
        "LILLIA\n",
        "Passive healing against champions increased. W base damage increased.\n",
        "\n",
        " We're giving Lillia some more scaling sustain with her AP builds while also boosting her early jungle clear. These buffs should give her W damage a bit more oomph—or rather, eep! \n",
        "PASSIVE - DREAM-LADEN BOUGH\n",
        "HEALING AGAINST CHAMPIONS 12-140 (levels 1-18) (+12% AP) ⇒ 12-140 (levels 1-18) (+20% AP)\n",
        "W - WATCH OUT! EEP!\n",
        "DAMAGE 70/90/110/130/150 (+35% AP) ⇒ 80/100/120/140/160 (+35% AP)\n",
        "\n",
        "NEEKO\n",
        "W passive base damage and move speed increased.\n",
        "\n",
        " Neeko's been hidden from Pro play despite being a strong tomato in solo queue. Her on-hit build was quite popular in past metas, so we're bringing it back to lure the Curious Chameleon out of hiding! \n",
        "W - SHAPESPLITTER\n",
        "PASSIVE BONUS MAGIC DAMAGE 50/70/90/110/130 (+60% AP) ⇒ 50/80/110/140/170 (+60% AP)\n",
        "PASSIVE BONUS MOVE SPEED 10/15/20/25/30% ⇒ 10/17.5/25/32.5/40%\n",
        "\n",
        "PANTHEON\n",
        "Base health regen decreased. Tap Q range increased and width decreased. E self-slow no longer applies when moving backwards. R crash now lands faster.\n",
        "\n",
        " Pantheon hasn't been living up to his Spartan spirit, so we're sharpening his spear to make him feel more like the paragon of Rakkor warriors. Skilled Pantheon players should now be able to showcase their strength with more timely ults, more maneuverable shields, and better trading tools. \n",
        "BASE STATS\n",
        "BASE HEALTH REGENERATION 9 ⇒ 7.5\n",
        "Q - COMET SPEAR\n",
        "TAP Q LENGTH 550 units ⇒ 600 units\n",
        "TAP Q WIDTH 150 units ⇒ 120 units\n",
        "E - AEGIS ASSAULT\n",
        "REMOVEDSTEADFAST SHIELDING Pantheon is no longer slowed if moving backwards while E - Aegis Assault is active\n",
        "R - GRAND STARFALL\n",
        "UPDATEDCRASH LANDING ON YOU Pantheon now crashes down on his destination 0.25 seconds sooner\n",
        "\n",
        "RENGAR\n",
        "Q bonus damage against structures reduced. W bonus damage against monsters increased.\n",
        "\n",
        " Rengar's become a serious destroyer of furniture structures after his most recent changes. This is a new and flexible strength in his kit that we want to preserve, but he's taking down those (scratching) towers a bit too fast, so we're tapping down the damage on that part of his Q. We're also bumping up his damage against monsters to compensate for some of the clear speed he lost because of the changes to Q against plants last patch. \n",
        "Q - SAVAGERY\n",
        "NEWKITTEN MITTENS Q - Savagery's bonus damage is reduced by 40% against structures\n",
        "W - BATTLE ROAR\n",
        "BONUS MAGIC DAMAGE AGAINST MONSTERS 65-130 (levels 1-18) ⇒ 85-150 (levels 1-18)\n",
        "BUGFIXES\n",
        "Fixed a bug where Gromp did not grant Rengar a stack of Ferocity\n",
        "\n",
        "RYZE\n",
        "Q damage AP ratio increased; bonus mana ratio decreased.\n",
        "\n",
        " Ryze's tank builds make him a safe yet potent split pusher by allowing him to stack health while dealing carry levels of damage, making him particularly lethal in Pro play. The mid-patch 12.5 nerfs didn't quite do the job at refining his hypercarry identity, so we're shifting his mana scaling to incentivize him to build a few more AP items before stacking health items like Winter’s Approach (which will also be receiving nerfs this patch) . \n",
        "Q - OVERLOAD\n",
        "MAGIC DAMAGE 70/90/110/130/150 (+45% AP) (+3% bonus mana) ⇒ 70/90/110/130/150 (+50% AP) (+2% bonus mana)\n",
        "\n",
        "WUKONG\n",
        "Q cooldown decreased. W cooldown decreased late; dash can now go through terrain. E AP ratio and damage against monsters increased.\n",
        "\n",
        " Wukong hasn't been seen in Pro much despite having a theoretically good matchup into meta staples like Jayce and Graves. We're helping him claim his place in top lane while also reinvigorating jungle Wu so he can be a viable counter or flex pick. \n",
        "Q - CRUSHING BLOW\n",
        "COOLDOWN 9/8.5/8/7.5/7 seconds ⇒ 8/7.5/7/6.5/6 seconds\n",
        "W - WARRIOR TRICKSTER\n",
        "COOLDOWN 20/19/18/17/16 seconds ⇒ 20/18/16/14/12 seconds\n",
        "NEWTO THE WINDOWS, THROUGH THE WALLS Wukong can now dash through terrain using W - Warrior Trickster\n",
        "E - NIMBUS STRIKE\n",
        "MAGIC DAMAGE 80/110/140/170/200 (+80% AP) ⇒ 80/110/140/170/200 (+100% AP)\n",
        "BONUS MAGIC DAMAGE AGAINST MONSTERS 50% ⇒ 80%\n",
        "\n",
        "YASUO\n",
        "Base health increased. R cooldown decreased early.\n",
        "\n",
        " Despite my match history, Yasuo and Yone have been relatively weak (and the sustain nerfs in 12.6 didn’t do them any favors either). Rather than increasing their damage, we're giving the wind brothers more opportunity to flex their skills. For Yasuo, we're increasing his early combat durability and ability to synergize with teammates during laning phase. \n",
        "BASE STATS\n",
        "HEALTH 490 ⇒ 520\n",
        "R - LAST BREATH\n",
        "COOLDOWN 80/55/30 seconds ⇒ 70/50/30 seconds\n",
        "\n",
        "YONE\n",
        "R cooldown decreased late.\n",
        "\n",
        " Yone is also getting more access to his ult, but with a focus on late game which is when it's usually harder for him to close gaps (unless he's already extremely far ahead). \n",
        "R - FATE SEALED\n",
        "COOLDOWN 120/100/80 seconds ⇒ 120/90/60 seconds\n",
        "\n",
        "ZERI\n",
        "Base AD, AD growth, and armor decreased; health growth increased. Q base damage decreased, AD ratio increased; now applies on-hit effects only once per cast; now grants at most one R stack and E cooldown reduction once per cast, but crits can grant one more of each. W base damage decreased, AD and AP ratio increased. E cooldown increased early and decreases with rank again. R cooldown increased early and decreased late.\n",
        "\n",
        " Zeri, Zeri, you’ve been a little too unfair-y. Despite the nerfs in previous patches, Zeri has been shockingly resilient and continues to dominate Pro play. With this round of nerfs, we’re aiming to bring her bruiser build more in line with her crit build, as well as make her stacks and on-hits more predictable. This should give enemies more time to catch Zeri before she starts zipping circles around them. \n",
        "BASE STATS\n",
        "AD GROWTH 2 ⇒ 1.5\n",
        "ATTACK DAMAGE 53-87 (levels 1-18) ⇒ 50-75.5 (levels 1-18)\n",
        "BASE ARMOR 22 ⇒ 20\n",
        "HEALTH GROWTH 90 ⇒ 95\n",
        "HEALTH AT LEVEL 18 2030 ⇒ 2115\n",
        "Q - BURST FIRE\n",
        "TOTAL PHYSICAL DAMAGE 10/15/20/25/30 (+110% total AD) ⇒ 7/9/11/13/15 (+110/112.5/115/117.5/120% total AD)\n",
        "UPDATEDONCE UPON A CAST Q - Burst Fire now only applies on-hit effects once per cast\n",
        "UPDATEDNOT SO FAST Zeri can now only gain one stack of R - Lightning Crash and one instance of E - Spark Surge cooldown reduction per Q - Burst Fire cast (excluding critical strikes)\n",
        "NEWDOUBLE THE SHOCK Critical strikes on Q - Burst Fire grant Zeri an additional R - Lightning Crash stack and an additional instance of E - Spark Surge’s cooldown reduction (at most two procs per cast: one for Q upon hitting a champion and another if it crits on a champion)\n",
        "W - ULTRASHOCK LASER\n",
        "MAGIC DAMAGE 40/75/110/145/180 (+100% total AD)(+60% AP) ⇒ 10/45/80/115/150 (+120% total AD)(+70% AP)\n",
        "E - SPARK SURGE\n",
        "COOLDOWN 23 seconds ⇒ 28/26.5/25/23.5/22 seconds\n",
        "R - LIGHTNING CRASH\n",
        "COOLDOWN 100/90/80 seconds ⇒ 120/95/70 seconds\n",
        "      \"\"\""
      ],
      "metadata": {
        "id": "WpaN6gmE7l4j"
      },
      "execution_count": 61,
      "outputs": []
    },
    {
      "cell_type": "code",
      "source": [
        "n_gram_range = (1, 3)\n",
        "stop_words = \"english\"\n",
        "\n",
        "count = CountVectorizer(ngram_range=n_gram_range, stop_words=stop_words).fit([doc])\n",
        "candidates = count.get_feature_names_out()\n",
        "\n",
        "print('trigram 개수 :',len(candidates))\n",
        "print('trigram 다섯개만 출력 :',candidates[:5])"
      ],
      "metadata": {
        "colab": {
          "base_uri": "https://localhost:8080/"
        },
        "id": "XUDCO98w7pBI",
        "outputId": "63546bf1-8c78-4d6c-d7e7-80eee2f3dcc3"
      },
      "execution_count": 62,
      "outputs": [
        {
          "output_type": "stream",
          "name": "stdout",
          "text": [
            "trigram 개수 : 3789\n",
            "trigram 다섯개만 출력 : ['10' '10 15' '10 15 20' '10 17' '10 17 25']\n"
          ]
        }
      ]
    },
    {
      "cell_type": "code",
      "source": [
        "model = SentenceTransformer('distilbert-base-nli-mean-tokens')\n",
        "doc_embedding = model.encode([doc])\n",
        "candidate_embeddings = model.encode(candidates)"
      ],
      "metadata": {
        "id": "zAXOwRsHAklW"
      },
      "execution_count": 63,
      "outputs": []
    },
    {
      "cell_type": "code",
      "source": [
        "top_n = 10\n",
        "distances = cosine_similarity(doc_embedding, candidate_embeddings)\n",
        "keywords = [candidates[index] for index in distances.argsort()[0][-top_n:]]\n",
        "print(keywords)"
      ],
      "metadata": {
        "colab": {
          "base_uri": "https://localhost:8080/"
        },
        "id": "5RRi-ET8Bv7y",
        "outputId": "32c62169-1ff8-4ccd-f2de-32e7c05fdf74"
      },
      "execution_count": 64,
      "outputs": [
        {
          "output_type": "stream",
          "name": "stdout",
          "text": [
            "['cast hitting champion', 'crits champion ultrashock', 'monsters increased wukong', 'bigger claw enemies', 'lagging juggernauts fighter', 'speedy spooky spears', 'monsters increased deathsinger', 'seconds combat bonetooth', 'champion ultrashock laser', 'increased jax mediocre']\n"
          ]
        }
      ]
    },
    {
      "cell_type": "code",
      "source": [
        "def max_sum_sim(doc_embedding, candidate_embeddings, words, top_n, nr_candidates):\n",
        "    # 문서와 각 키워드들 간의 유사도\n",
        "    distances = cosine_similarity(doc_embedding, candidate_embeddings)\n",
        "\n",
        "    # 각 키워드들 간의 유사도\n",
        "    distances_candidates = cosine_similarity(candidate_embeddings, \n",
        "                                            candidate_embeddings)\n",
        "\n",
        "    # 코사인 유사도에 기반하여 키워드들 중 상위 top_n개의 단어를 pick.\n",
        "    words_idx = list(distances.argsort()[0][-nr_candidates:])\n",
        "    words_vals = [candidates[index] for index in words_idx]\n",
        "    distances_candidates = distances_candidates[np.ix_(words_idx, words_idx)]\n",
        "\n",
        "    # 각 키워드들 중에서 가장 덜 유사한 키워드들간의 조합을 계산\n",
        "    min_sim = np.inf\n",
        "    candidate = None\n",
        "    for combination in itertools.combinations(range(len(words_idx)), top_n):\n",
        "        sim = sum([distances_candidates[i][j] for i in combination for j in combination if i != j])\n",
        "        if sim < min_sim:\n",
        "            candidate = combination\n",
        "            min_sim = sim\n",
        "\n",
        "    return [words_vals[idx] for idx in candidate]"
      ],
      "metadata": {
        "id": "sixrx_BMB31L"
      },
      "execution_count": 41,
      "outputs": []
    },
    {
      "cell_type": "code",
      "source": [
        "max_sum_sim(doc_embedding, candidate_embeddings, candidates, top_n=10, nr_candidates=10)"
      ],
      "metadata": {
        "colab": {
          "base_uri": "https://localhost:8080/"
        },
        "id": "a3pBAGF8CCRH",
        "outputId": "8a248120-5141-4a80-a286-10946ff4d2a2"
      },
      "execution_count": 65,
      "outputs": [
        {
          "output_type": "execute_result",
          "data": {
            "text/plain": [
              "['cast hitting champion',\n",
              " 'crits champion ultrashock',\n",
              " 'monsters increased wukong',\n",
              " 'bigger claw enemies',\n",
              " 'lagging juggernauts fighter',\n",
              " 'speedy spooky spears',\n",
              " 'monsters increased deathsinger',\n",
              " 'seconds combat bonetooth',\n",
              " 'champion ultrashock laser',\n",
              " 'increased jax mediocre']"
            ]
          },
          "metadata": {},
          "execution_count": 65
        }
      ]
    },
    {
      "cell_type": "code",
      "source": [
        "max_sum_sim(doc_embedding, candidate_embeddings, candidates, top_n=10, nr_candidates=20)"
      ],
      "metadata": {
        "colab": {
          "base_uri": "https://localhost:8080/"
        },
        "id": "5qfk8O72CEFx",
        "outputId": "024378a2-1900-4adf-f696-1d08af7b9649"
      },
      "execution_count": 66,
      "outputs": [
        {
          "output_type": "execute_result",
          "data": {
            "text/plain": [
              "['jax mediocre giving',\n",
              " 'changes giving beefy',\n",
              " 'seconds damaging enemy',\n",
              " 'fairer horseplay rampage',\n",
              " 'recent nerfs stitching',\n",
              " 'health regeneration comet',\n",
              " 'crits champion ultrashock',\n",
              " 'bigger claw enemies',\n",
              " 'lagging juggernauts fighter',\n",
              " 'champion ultrashock laser']"
            ]
          },
          "metadata": {},
          "execution_count": 66
        }
      ]
    },
    {
      "cell_type": "code",
      "source": [
        "def mmr(doc_embedding, candidate_embeddings, words, top_n, diversity):\n",
        "\n",
        "    # 문서와 각 키워드들 간의 유사도가 적혀있는 리스트\n",
        "    word_doc_similarity = cosine_similarity(candidate_embeddings, doc_embedding)\n",
        "\n",
        "    # 각 키워드들 간의 유사도\n",
        "    word_similarity = cosine_similarity(candidate_embeddings)\n",
        "\n",
        "    # 문서와 가장 높은 유사도를 가진 키워드의 인덱스를 추출.\n",
        "    # 만약, 2번 문서가 가장 유사도가 높았다면\n",
        "    # keywords_idx = [2]\n",
        "    keywords_idx = [np.argmax(word_doc_similarity)]\n",
        "\n",
        "    # 가장 높은 유사도를 가진 키워드의 인덱스를 제외한 문서의 인덱스들\n",
        "    # 만약, 2번 문서가 가장 유사도가 높았다면\n",
        "    # ==> candidates_idx = [0, 1, 3, 4, 5, 6, 7, 8, 9, 10 ... 중략 ...]\n",
        "    candidates_idx = [i for i in range(len(words)) if i != keywords_idx[0]]\n",
        "\n",
        "    # 최고의 키워드는 이미 추출했으므로 top_n-1번만큼 아래를 반복.\n",
        "    # ex) top_n = 5라면, 아래의 loop는 4번 반복됨.\n",
        "    for _ in range(top_n - 1):\n",
        "        candidate_similarities = word_doc_similarity[candidates_idx, :]\n",
        "        target_similarities = np.max(word_similarity[candidates_idx][:, keywords_idx], axis=1)\n",
        "\n",
        "        # MMR을 계산\n",
        "        mmr = (1-diversity) * candidate_similarities - diversity * target_similarities.reshape(-1, 1)\n",
        "        mmr_idx = candidates_idx[np.argmax(mmr)]\n",
        "\n",
        "        # keywords & candidates를 업데이트\n",
        "        keywords_idx.append(mmr_idx)\n",
        "        candidates_idx.remove(mmr_idx)\n",
        "\n",
        "    return [words[idx] for idx in keywords_idx]"
      ],
      "metadata": {
        "id": "S6wHde9BCItw"
      },
      "execution_count": 10,
      "outputs": []
    },
    {
      "cell_type": "code",
      "source": [
        "mmr(doc_embedding, candidate_embeddings, candidates, top_n=10, diversity=0.2)"
      ],
      "metadata": {
        "colab": {
          "base_uri": "https://localhost:8080/"
        },
        "id": "Jr-ijuYACMDm",
        "outputId": "1b3e8fe0-8d27-429e-b1cf-46f3845e472a"
      },
      "execution_count": 67,
      "outputs": [
        {
          "output_type": "execute_result",
          "data": {
            "text/plain": [
              "['increased jax mediocre',\n",
              " 'champion ultrashock laser',\n",
              " 'seconds combat bonetooth',\n",
              " 'lagging juggernauts fighter',\n",
              " 'speedy spooky spears',\n",
              " 'recent nerfs stitching',\n",
              " 'health regeneration comet',\n",
              " 'monsters increased deathsinger',\n",
              " 'changes giving beefy',\n",
              " 'fairer horseplay rampage']"
            ]
          },
          "metadata": {},
          "execution_count": 67
        }
      ]
    },
    {
      "cell_type": "code",
      "source": [
        "mmr(doc_embedding, candidate_embeddings, candidates, top_n=10, diversity=0.7)"
      ],
      "metadata": {
        "colab": {
          "base_uri": "https://localhost:8080/"
        },
        "id": "3Bb10do6COMK",
        "outputId": "9e716b05-f5a6-4fd2-96c9-a7984dc29b06"
      },
      "execution_count": 68,
      "outputs": [
        {
          "output_type": "execute_result",
          "data": {
            "text/plain": [
              "['increased jax mediocre',\n",
              " 'wind brothers',\n",
              " 'seconds brush camouflage',\n",
              " 'champion ultrashock laser',\n",
              " '2116 2337 darius',\n",
              " 'fairer horseplay rampage',\n",
              " 'recent nerfs stitching',\n",
              " 'bonus magic damage',\n",
              " 'strong tomato solo',\n",
              " 'jungle karthus dead']"
            ]
          },
          "metadata": {},
          "execution_count": 68
        }
      ]
    },
    {
      "cell_type": "code",
      "source": [
        ""
      ],
      "metadata": {
        "id": "5na2A76SCQcf"
      },
      "execution_count": null,
      "outputs": []
    }
  ]
}