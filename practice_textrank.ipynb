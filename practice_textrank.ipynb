{
  "nbformat": 4,
  "nbformat_minor": 0,
  "metadata": {
    "colab": {
      "name": "Untitled4.ipynb",
      "provenance": []
    },
    "kernelspec": {
      "name": "python3",
      "display_name": "Python 3"
    },
    "language_info": {
      "name": "python"
    }
  },
  "cells": [
    {
      "cell_type": "code",
      "execution_count": 1,
      "metadata": {
        "id": "RAIUdq_9c3ek"
      },
      "outputs": [],
      "source": [
        "from collections import Counter\n",
        "\n",
        "def scan_vocabulary(sents, tokenize, min_count=2):\n",
        "    counter = Counter(w for sent in sents for w in tokenize(sent))\n",
        "    counter = {w:c for w,c in counter.items() if c >= min_count}\n",
        "    idx_to_vocab = [w for w, _ in sorted(counter.items(), key=lambda x:-x[1])]\n",
        "    vocab_to_idx = {vocab:idx for idx, vocab in enumerate(idx_to_vocab)}\n",
        "    return idx_to_vocab, vocab_to_idx"
      ]
    },
    {
      "cell_type": "code",
      "source": [
        "from collections import defaultdict\n",
        "\n",
        "def cooccurrence(tokens, vocab_to_idx, window=2, min_cooccurrence=2):\n",
        "    counter = defaultdict(int)\n",
        "    for s, tokens_i in enumerate(tokens):\n",
        "        vocabs = [vocab_to_idx[w] for w in tokens_i if w in vocab_to_idx]\n",
        "        n = len(vocabs)\n",
        "        for i, v in enumerate(vocabs):\n",
        "            if window <= 0:\n",
        "                b, e = 0, n\n",
        "            else:\n",
        "                b = max(0, i - window)\n",
        "                e = min(i + window, n)\n",
        "            for j in range(b, e):\n",
        "                if i == j:\n",
        "                    continue\n",
        "                counter[(v, vocabs[j])] += 1\n",
        "                counter[(vocabs[j], v)] += 1\n",
        "    counter = {k:v for k,v in counter.items() if v >= min_cooccurrence}\n",
        "    n_vocabs = len(vocab_to_idx)\n",
        "    return dict_to_mat(counter, n_vocabs, n_vocabs)"
      ],
      "metadata": {
        "id": "-a1AM8qFc6KP"
      },
      "execution_count": 2,
      "outputs": []
    },
    {
      "cell_type": "code",
      "source": [
        "from scipy.sparse import csr_matrix\n",
        "\n",
        "def dict_to_mat(d, n_rows, n_cols):\n",
        "    rows, cols, data = [], [], []\n",
        "    for (i, j), v in d.items():\n",
        "        rows.append(i)\n",
        "        cols.append(j)\n",
        "        data.append(v)\n",
        "    return csr_matrix((data, (rows, cols)), shape=(n_rows, n_cols))"
      ],
      "metadata": {
        "id": "03nZviCcc8n7"
      },
      "execution_count": 3,
      "outputs": []
    },
    {
      "cell_type": "code",
      "source": [
        "def word_graph(sents, tokenize=None, min_count=2, window=2, min_cooccurrence=2):\n",
        "    idx_to_vocab, vocab_to_idx = scan_vocabulary(sents, tokenize, min_count)\n",
        "    tokens = [tokenize(sent) for sent in sents]\n",
        "    g = cooccurrence(tokens, vocab_to_idx, window, min_cooccurrence, verbose)\n",
        "    return g, idx_to_vocab"
      ],
      "metadata": {
        "id": "ZYTcuDqDc-Wp"
      },
      "execution_count": 4,
      "outputs": []
    },
    {
      "cell_type": "code",
      "source": [
        "import numpy as np\n",
        "from sklearn.preprocessing import normalize\n",
        "\n",
        "def pagerank(x, df=0.85, max_iter=30):\n",
        "    assert 0 < df < 1\n",
        "\n",
        "    # initialize\n",
        "    A = normalize(x, axis=0, norm='l1')\n",
        "    R = np.ones(A.shape[0]).reshape(-1,1)\n",
        "    bias = (1 - df) * np.ones(A.shape[0]).reshape(-1,1)\n",
        "\n",
        "    # iteration\n",
        "    for _ in range(max_iter):\n",
        "        R = df * (A * R) + bias\n",
        "\n",
        "    return R"
      ],
      "metadata": {
        "id": "sTbdcLkBdCmH"
      },
      "execution_count": 5,
      "outputs": []
    },
    {
      "cell_type": "code",
      "source": [
        "def textrank_keyword(sents, tokenize, min_count, window, min_cooccurrence, df=0.85, max_iter=30, topk=30):\n",
        "    g, idx_to_vocab = word_graph(sents, tokenize, min_count, window, min_cooccurrence)\n",
        "    R = pagerank(g, df, max_iter).reshape(-1)\n",
        "    idxs = R.argsort()[-topk:]\n",
        "    keywords = [(idx_to_vocab[idx], R[idx]) for idx in reversed(idxs)]\n",
        "    return keywords"
      ],
      "metadata": {
        "id": "Z3K44HQEdD7E"
      },
      "execution_count": 6,
      "outputs": []
    },
    {
      "cell_type": "code",
      "source": [
        "from collections import Counter\n",
        "from scipy.sparse import csr_matrix\n",
        "import math\n",
        "\n",
        "def sent_graph(sents, tokenize, similarity, min_count=2, min_sim=0.3):\n",
        "    _, vocab_to_idx = scan_vocabulary(sents, tokenize, min_count)\n",
        "\n",
        "    tokens = [[w for w in tokenize(sent) if w in vocab_to_idx] for sent in sents]\n",
        "    rows, cols, data = [], [], []\n",
        "    n_sents = len(tokens)\n",
        "    for i, tokens_i in enumerate(tokens):\n",
        "        for j, tokens_j in enumerate(tokens):\n",
        "            if i >= j:\n",
        "                continue\n",
        "            sim = similarity(tokens_i, tokens_j)\n",
        "            if sim < min_sim:\n",
        "                continue\n",
        "            rows.append(i)\n",
        "            cols.append(j)\n",
        "            data.append(sim)\n",
        "    return csr_matrix((data, (rows, cols)), shape=(n_sents, n_sents))\n",
        "\n",
        "def textrank_sent_sim(s1, s2):\n",
        "    n1 = len(s1)\n",
        "    n2 = len(s2)\n",
        "    if (n1 <= 1) or (n2 <= 1):\n",
        "        return 0\n",
        "    common = len(set(s1).intersection(set(s2)))\n",
        "    base = math.log(n1) + math.log(n2)\n",
        "    return common / base\n",
        "\n",
        "def cosine_sent_sim(s1, s2):\n",
        "    if (not s1) or (not s2):\n",
        "        return 0\n",
        "\n",
        "    s1 = Counter(s1)\n",
        "    s2 = Counter(s2)\n",
        "    norm1 = math.sqrt(sum(v ** 2 for v in s1.values()))\n",
        "    norm2 = math.sqrt(sum(v ** 2 for v in s2.values()))\n",
        "    prod = 0\n",
        "    for k, v in s1.items():\n",
        "        prod += v * s2.get(k, 0)\n",
        "    return prod / (norm1 * norm2)"
      ],
      "metadata": {
        "id": "hGRH8c8XdE96"
      },
      "execution_count": 7,
      "outputs": []
    },
    {
      "cell_type": "code",
      "source": [
        "def textrank_keysentence(sents, tokenize, min_count, similarity, df=0.85, max_iter=30, topk=5):\n",
        "    g = sent_graph(sents, tokenize, min_count, min_sim, similarity)\n",
        "    R = pagerank(g, df, max_iter).reshape(-1)\n",
        "    idxs = R.argsort()[-topk:]\n",
        "    keysents = [(idx, R[idx], sents[idx]) for idx in reversed(idxs)]\n",
        "    return keysents"
      ],
      "metadata": {
        "id": "rnNoJTZxdI_I"
      },
      "execution_count": 9,
      "outputs": []
    },
    {
      "cell_type": "code",
      "source": [
        "import nltk\n",
        "nltk.download('punkt')\n",
        "nltk.download('averaged_perceptron_tagger')"
      ],
      "metadata": {
        "colab": {
          "base_uri": "https://localhost:8080/"
        },
        "id": "JThp9i-ifaca",
        "outputId": "15de8762-3534-410d-8352-0fa06873125e"
      },
      "execution_count": 20,
      "outputs": [
        {
          "output_type": "stream",
          "name": "stdout",
          "text": [
            "[nltk_data] Downloading package punkt to /root/nltk_data...\n",
            "[nltk_data]   Package punkt is already up-to-date!\n",
            "[nltk_data] Downloading package averaged_perceptron_tagger to\n",
            "[nltk_data]     /root/nltk_data...\n",
            "[nltk_data]   Unzipping taggers/averaged_perceptron_tagger.zip.\n"
          ]
        },
        {
          "output_type": "execute_result",
          "data": {
            "text/plain": [
              "True"
            ]
          },
          "metadata": {},
          "execution_count": 20
        }
      ]
    },
    {
      "cell_type": "code",
      "source": [
        "from nltk.tokenize import word_tokenize\n",
        "from nltk.tag import pos_tag\n",
        "\n",
        "text=\"\"\"\n",
        " AZIR\n",
        "Health growth increased.\n",
        "\n",
        " A little birdy told us that Azir's been weak, and the numbers told us the birdy was right. His lack of Pro presence in a scaling meta that should favor him was the final confirmation, so we're giving him some base stat power that should help the Emperor of Shurima in all skill brackets. \n",
        "BASE STATS\n",
        "HEALTH GROWTH 92 ⇒ 105\n",
        "HEALTH AT LEVEL 18 2116 ⇒ 2337\n",
        "\n",
        "DARIUS\n",
        "R base damage increased.\n",
        "\n",
        " Darius has been lagging behind other juggernauts after the fighter item changes, so we're giving him a beefy damage boost. (As a reminder, his ult's total damage can increase by up to 100% based on his passive stacks.) \n",
        "R - NOXIAN GUILLOTINE\n",
        "MINIMUM TRUE DAMAGE 100/200/300 (+75% bonus AD) ⇒ 125/250/375 (+75% bonus AD)\n",
        "\n",
        "HECARIM\n",
        "Q and E base damage decreased late.\n",
        "\n",
        " Tankarim is taking over Pro again, so we're nerfing the base damage on some of his abilities to ensure fairer horseplay. \n",
        "Q - RAMPAGE\n",
        "BASE DAMAGE 60/97/134/171/208 (+85% bonus AD) ⇒ 60/90/120/150/180 (+85% bonus AD)\n",
        "E - DEVASTATING CHARGE\n",
        "MINIMUM TOTAL DAMAGE 30/50/70/90/110 (+55% bonus AD) ⇒ 30/45/60/75/90 (+55% bonus AD)\n",
        "MAXIMUM TOTAL DAMAGE 60/100/140/180/220 (+110% bonus AD) ⇒ 60/90/120/150/180 (+110% bonus AD)\n",
        "\n",
        "ILLAOI\n",
        "QoL change on R and several bugfixes.\n",
        "\n",
        " No balance changes here; instead, we fixed lots of bugs and updated Illaoi's ult to give her some more control over her tentacles. \n",
        "R - LEAP OF FAITH\n",
        "UPDATEDFACE ME R - Leap of Faith now casts with Illaoi facing toward your cursor, allowing for more favorable Tentacle spawn locations\n",
        "BUGFIXES\n",
        "When Illaoi attacks a Vessel while empowered by W - Harsh Lesson, nearby inactive Tentacles will now slam her target as soon as they become active (short delay removed)\n",
        "Spell queueing has been added to W - Harsh Lesson and R - Leap of Faith, so you can now buffer other spells while casting them\n",
        "W - Harsh Lesson's visual indicators have been fixed and will show the correct range of her empowered basic attacks\n",
        "Tentacles can no longer spawn on either team's base gates on Summoner's Rift\n",
        "Vessels no longer contribute to Illaoi's creep score when they expire or are destroyed\n",
        "Q - Tentacle Smash and E - Test of Spirit will now be visible to nearby enemy champions when cast from Fog of War\n",
        "\n",
        "JAX\n",
        "Base health increased. W base damage increased.\n",
        "\n",
        " Jax has been mediocre for a while, so we're giving him some early game power to help him get to his item power spikes. He may not have a real weapon at first, but now he can buy one a little sooner. :^) \n",
        "BASE STATS\n",
        "BASE HEALTH 593 ⇒ 615\n",
        "W - EMPOWER\n",
        "MAGIC DAMAGE 40/75/110/145/180 (+60% AP) ⇒ 50/85/120/155/190 (+60% AP)\n",
        "\n",
        "NIDALEE\n",
        "Human W cost decreased; E mana cost decreased late and cast range increased. Cougar W damage radius increased.\n",
        "\n",
        " Human-form Nidalee is a mana-hungry huntress, but her overall kit is much more compatible with the non-mana mage Mythics. We're giving her more access to her utility spells as well as making her AoE range bigger so she can claw enemies and jungle camps more effectively. Lastly, her heal cast range was pretty restrictive (especially for a character with so many other positioning constraints), so we're increasing it to match that of her Bushwhack trap placement. All in all, this should make her more accessible and stronger across all skill brackets. \n",
        "HUMAN FORM\n",
        "W - BUSHWHACK\n",
        "MANA COST 40/45/50/55/60 ⇒ 30/35/40/45/50\n",
        "E - PRIMAL SURGE\n",
        "MANA COST 50/60/70/89/90 ⇒ 50/55/60/65/70\n",
        "CAST RANGE 600 ⇒ 900 (now matches W - Bushwhack)\n",
        "COUGAR FORM\n",
        "W - POUNCE\n",
        "AOE DAMAGE RADIUS 225 ⇒ 250\n",
        "\n",
        "RENGAR\n",
        "Passive adjustments to Ferocity, leaps, and Bonetooth Necklace; new Ferocity resource bar added. Q basic attacks now always crit; damage now scales with crit chance; now applies against towers; no longer applies against plants. E cast time during leap removed; now grants true sight and some vision around target. R now also grants some vision around target.\n",
        "\n",
        "\n",
        " Our big kitty finally has some big changes coming to his kit! Our goals were to smooth out Rengar's gameplay, keep his current playstyle, and clarify his builds. We're going to keep a close eye on the Q crit damage ratio so he doesn't get too out of line. We also know that Q no longer applying on plants can be painful for seasoned players who used this mechanic to optimize Ferocity stacks, but we strongly believe it wasn't healthy to support long term and have instead moved that power to more accessible parts of his kit. \n",
        "PASSIVE - UNSEEN PREDATOR\n",
        "UPDATEDHERE, KITTY KITTY Rengar's next leap will grant 1 Ferocity only if he has 0 Ferocity ⇒ upon losing all Ferocity stacks (no matter how much Ferocity he gains before his next leap)\n",
        "UPDATEDPURRFECT POUNCES Rengar will be able to leap after 0.35 seconds in brush or camouflage (or Senna's E - Curse of the Black Mist camouflage) consistently, rather than based on a 0.3-0.45 second timer (Leap range has been slightly increased to offset variability)\n",
        "NEWFEROCIOUS FELINE Rengar now has a Ferocity resource bar that indicates how much Ferocity he currently has (Stacks generated by leaps will have a different color so you'll know if you'll gain Ferocity on your next leap)\n",
        "ALL FEROCITY STACKS FALL OFF AFTER 8 seconds ⇒ 10 seconds out of combat\n",
        "BONETOOTH NECKLACE TAKEDOWN TIMER Within 1.5 seconds ⇒ 3 seconds of damaging an enemy champion\n",
        "Q - SAVAGERY\n",
        "NEWSAVAGE STRIKES Rengar's Q-empowered basic attack is now always a critical strike. Instead of regular critical strike damage, each 1% critical strike chance increases this empowered attack's damage by 0.66% (0.99% with Infinity Edge's Perfection passive)\n",
        "UPDATEDSCRATCHING POSTS Q - Savagery now also applies to basic attacks against towers\n",
        "UPDATEDTHAT WASN'T CATNIP Q - Savagery no longer applies to basic attacks against plants\n",
        "E - BOLA STRIKE\n",
        "UPDATEDNO CAST, ONLY THROW Rengar can now throw his E - Bola Strike instantly (with zero cast time) during leaps\n",
        "NEWPEEKABOO Now grants true sight and normal vision 150 units around the first enemy hit for 2 seconds\n",
        "R - THRILL OF THE HUNT\n",
        "UPDATEDPREDATORY INSTINCT Now grants not only true sight, but also normal vision 100 units around the nearest enemy\n",
        "\n",
        "TRYNDAMERE\n",
        "E cooldown reduction per crit decreased. R cooldown increased.\n",
        "\n",
        " Tryndamere is too strong at the highest levels of play. His kit scales too well with Ability Haste, so we're readjusting his cooldowns to account for the higher amounts of Ability Haste available to him through items. \n",
        "E - SPINNING SLASH\n",
        "COOLDOWN REDUCTION PER CRITICAL STRIKE 1 second (2 seconds against champions) ⇒ 0.75 seconds (1.5 seconds against champions)\n",
        "R - UNDYING RAGE\n",
        "COOLDOWN 110/100/90 seconds ⇒ 130/110/90 seconds\n",
        "\n",
        "GANGPLANK\n",
        "Passive burn base damage increased late. W mana cost decreased.\n",
        "\n",
        " Gangplank is arrrguably struggling at all levels of play. He's already got enough gunpowder in his Q and barrels, so we're putting some power into less explosive and more… orange… parts of his kit. \n",
        "PASSIVE - TRIAL BY FIRE\n",
        "BURN BASE DAMAGE 55-225 (levels 1-18) ⇒ 55-310 (levels 1-18)\n",
        "W - REMOVE SCURVY\n",
        "MANA COST 80/90/100/110/120 ⇒ 60/70/80/90/100\n",
        "\n",
        "GWEN\n",
        "E cooldown refund increased. R cooldown decreased early.\n",
        "\n",
        " Gwen's been hanging by a thread after her most recent nerfs, so we're stitching her up with some cooldown buffs that should help her across all skill levels. Needle-ss to say, we don't think these changes will fully address her issues, but we're being extra careful considering her pattern of dominating Pro. \n",
        "E - SKIP ‘N SLASH\n",
        "COOLDOWN REFUND UPON FIRST BASIC ATTACK 50% ⇒ 60%\n",
        "R - NEEDLEWORK\n",
        "COOLDOWN 120/100/80 seconds ⇒ 100/90/80 seconds\n",
        "\n",
        "JAYCE\n",
        "Base health decreased, health growth increased, and armor adjusted.\n",
        "\n",
        " Jayce has also been a popular pick in Pro. We're lowering his laning power by making him squishier early on, but increasing his growth to make sure he still scales to late game. \n",
        "BASE STATS\n",
        "HEALTH GROWTH 90 ⇒ 95\n",
        "BASE HEALTH 560 ⇒ 520\n",
        "HEALTH 560-2090 (levels 1-18) ⇒ 520-2135 (levels 1-18)\n",
        "BASE ARMOR 27 ⇒ 22\n",
        "ARMOR GROWTH 3.5 ⇒ 3.8 (armor at level 18 unchanged)\n",
        "\n",
        "KALISTA\n",
        "Base mana, move speed, and attack speed growth increased.\n",
        "\n",
        " Kalista hasn’t been seen often in Pro this season, and is generally weak in all levels of play. We're buffing some of her baseline stats which should especially help her out in Average play. Super speedy spooky spears incoming. \n",
        "BASE STATS\n",
        "BASE MANA 250 ⇒ 300\n",
        "MOVE SPEED 325 ⇒ 330\n",
        "ATTACK SPEED GROWTH 4% ⇒ 4.5%\n",
        "\n",
        "KARTHUS\n",
        "Q damage against monsters increased.\n",
        "\n",
        " While the Deathsinger remains powerful in bot lane, his voice has been faltering in the jungle. We're amping up his clear strength to bring jungle Karthus back from the dead. \n",
        "Q - LAY WASTE\n",
        "DAMAGE AGAINST MONSTERS 85% ⇒ 95%\n",
        "\n",
        "LEE SIN\n",
        "Base AD decreased. Q base damage decreased.\n",
        "\n",
        " We're looking (no pun intended) to bring down Lee Sin's jungle clear speed and early game threat in order to reduce his impact on Pro play. We're targeting his base damage instead of his cooldowns to ensure his passive's rhythm remains the same. \n",
        "BASE STATS\n",
        "BASE AD 68 ⇒ 66\n",
        "Q - SONIC WAVE / RESONATING STRIKE\n",
        "SONIC WAVE DAMAGE 55/80/105/130/155 (+100% bonus AD) ⇒ 50/75/100/125/150 (+100% bonus AD)\n",
        "RESONATING STRIKE MINIMUM DAMAGE 55/80/105/130/155 (+100% bonus AD) ⇒ 50/75/100/125/150 (+100% bonus AD)\n",
        "RESONATING STRIKE MAXIMUM DAMAGE 110/160/210/260/310 (+200% bonus AD) ⇒ 100/150/200/250/300 (+200% bonus AD)\n",
        "\n",
        "LILLIA\n",
        "Passive healing against champions increased. W base damage increased.\n",
        "\n",
        " We're giving Lillia some more scaling sustain with her AP builds while also boosting her early jungle clear. These buffs should give her W damage a bit more oomph—or rather, eep! \n",
        "PASSIVE - DREAM-LADEN BOUGH\n",
        "HEALING AGAINST CHAMPIONS 12-140 (levels 1-18) (+12% AP) ⇒ 12-140 (levels 1-18) (+20% AP)\n",
        "W - WATCH OUT! EEP!\n",
        "DAMAGE 70/90/110/130/150 (+35% AP) ⇒ 80/100/120/140/160 (+35% AP)\n",
        "\n",
        "NEEKO\n",
        "W passive base damage and move speed increased.\n",
        "\n",
        " Neeko's been hidden from Pro play despite being a strong tomato in solo queue. Her on-hit build was quite popular in past metas, so we're bringing it back to lure the Curious Chameleon out of hiding! \n",
        "W - SHAPESPLITTER\n",
        "PASSIVE BONUS MAGIC DAMAGE 50/70/90/110/130 (+60% AP) ⇒ 50/80/110/140/170 (+60% AP)\n",
        "PASSIVE BONUS MOVE SPEED 10/15/20/25/30% ⇒ 10/17.5/25/32.5/40%\n",
        "\n",
        "PANTHEON\n",
        "Base health regen decreased. Tap Q range increased and width decreased. E self-slow no longer applies when moving backwards. R crash now lands faster.\n",
        "\n",
        " Pantheon hasn't been living up to his Spartan spirit, so we're sharpening his spear to make him feel more like the paragon of Rakkor warriors. Skilled Pantheon players should now be able to showcase their strength with more timely ults, more maneuverable shields, and better trading tools. \n",
        "BASE STATS\n",
        "BASE HEALTH REGENERATION 9 ⇒ 7.5\n",
        "Q - COMET SPEAR\n",
        "TAP Q LENGTH 550 units ⇒ 600 units\n",
        "TAP Q WIDTH 150 units ⇒ 120 units\n",
        "E - AEGIS ASSAULT\n",
        "REMOVEDSTEADFAST SHIELDING Pantheon is no longer slowed if moving backwards while E - Aegis Assault is active\n",
        "R - GRAND STARFALL\n",
        "UPDATEDCRASH LANDING ON YOU Pantheon now crashes down on his destination 0.25 seconds sooner\n",
        "\n",
        "RENGAR\n",
        "Q bonus damage against structures reduced. W bonus damage against monsters increased.\n",
        "\n",
        " Rengar's become a serious destroyer of furniture structures after his most recent changes. This is a new and flexible strength in his kit that we want to preserve, but he's taking down those (scratching) towers a bit too fast, so we're tapping down the damage on that part of his Q. We're also bumping up his damage against monsters to compensate for some of the clear speed he lost because of the changes to Q against plants last patch. \n",
        "Q - SAVAGERY\n",
        "NEWKITTEN MITTENS Q - Savagery's bonus damage is reduced by 40% against structures\n",
        "W - BATTLE ROAR\n",
        "BONUS MAGIC DAMAGE AGAINST MONSTERS 65-130 (levels 1-18) ⇒ 85-150 (levels 1-18)\n",
        "BUGFIXES\n",
        "Fixed a bug where Gromp did not grant Rengar a stack of Ferocity\n",
        "\n",
        "RYZE\n",
        "Q damage AP ratio increased; bonus mana ratio decreased.\n",
        "\n",
        " Ryze's tank builds make him a safe yet potent split pusher by allowing him to stack health while dealing carry levels of damage, making him particularly lethal in Pro play. The mid-patch 12.5 nerfs didn't quite do the job at refining his hypercarry identity, so we're shifting his mana scaling to incentivize him to build a few more AP items before stacking health items like Winter’s Approach (which will also be receiving nerfs this patch) . \n",
        "Q - OVERLOAD\n",
        "MAGIC DAMAGE 70/90/110/130/150 (+45% AP) (+3% bonus mana) ⇒ 70/90/110/130/150 (+50% AP) (+2% bonus mana)\n",
        "\n",
        "WUKONG\n",
        "Q cooldown decreased. W cooldown decreased late; dash can now go through terrain. E AP ratio and damage against monsters increased.\n",
        "\n",
        " Wukong hasn't been seen in Pro much despite having a theoretically good matchup into meta staples like Jayce and Graves. We're helping him claim his place in top lane while also reinvigorating jungle Wu so he can be a viable counter or flex pick. \n",
        "Q - CRUSHING BLOW\n",
        "COOLDOWN 9/8.5/8/7.5/7 seconds ⇒ 8/7.5/7/6.5/6 seconds\n",
        "W - WARRIOR TRICKSTER\n",
        "COOLDOWN 20/19/18/17/16 seconds ⇒ 20/18/16/14/12 seconds\n",
        "NEWTO THE WINDOWS, THROUGH THE WALLS Wukong can now dash through terrain using W - Warrior Trickster\n",
        "E - NIMBUS STRIKE\n",
        "MAGIC DAMAGE 80/110/140/170/200 (+80% AP) ⇒ 80/110/140/170/200 (+100% AP)\n",
        "BONUS MAGIC DAMAGE AGAINST MONSTERS 50% ⇒ 80%\n",
        "\n",
        "YASUO\n",
        "Base health increased. R cooldown decreased early.\n",
        "\n",
        " Despite my match history, Yasuo and Yone have been relatively weak (and the sustain nerfs in 12.6 didn’t do them any favors either). Rather than increasing their damage, we're giving the wind brothers more opportunity to flex their skills. For Yasuo, we're increasing his early combat durability and ability to synergize with teammates during laning phase. \n",
        "BASE STATS\n",
        "HEALTH 490 ⇒ 520\n",
        "R - LAST BREATH\n",
        "COOLDOWN 80/55/30 seconds ⇒ 70/50/30 seconds\n",
        "\n",
        "YONE\n",
        "R cooldown decreased late.\n",
        "\n",
        " Yone is also getting more access to his ult, but with a focus on late game which is when it's usually harder for him to close gaps (unless he's already extremely far ahead). \n",
        "R - FATE SEALED\n",
        "COOLDOWN 120/100/80 seconds ⇒ 120/90/60 seconds\n",
        "\n",
        "ZERI\n",
        "Base AD, AD growth, and armor decreased; health growth increased. Q base damage decreased, AD ratio increased; now applies on-hit effects only once per cast; now grants at most one R stack and E cooldown reduction once per cast, but crits can grant one more of each. W base damage decreased, AD and AP ratio increased. E cooldown increased early and decreases with rank again. R cooldown increased early and decreased late.\n",
        "\n",
        " Zeri, Zeri, you’ve been a little too unfair-y. Despite the nerfs in previous patches, Zeri has been shockingly resilient and continues to dominate Pro play. With this round of nerfs, we’re aiming to bring her bruiser build more in line with her crit build, as well as make her stacks and on-hits more predictable. This should give enemies more time to catch Zeri before she starts zipping circles around them. \n",
        "BASE STATS\n",
        "AD GROWTH 2 ⇒ 1.5\n",
        "ATTACK DAMAGE 53-87 (levels 1-18) ⇒ 50-75.5 (levels 1-18)\n",
        "BASE ARMOR 22 ⇒ 20\n",
        "HEALTH GROWTH 90 ⇒ 95\n",
        "HEALTH AT LEVEL 18 2030 ⇒ 2115\n",
        "Q - BURST FIRE\n",
        "TOTAL PHYSICAL DAMAGE 10/15/20/25/30 (+110% total AD) ⇒ 7/9/11/13/15 (+110/112.5/115/117.5/120% total AD)\n",
        "UPDATEDONCE UPON A CAST Q - Burst Fire now only applies on-hit effects once per cast\n",
        "UPDATEDNOT SO FAST Zeri can now only gain one stack of R - Lightning Crash and one instance of E - Spark Surge cooldown reduction per Q - Burst Fire cast (excluding critical strikes)\n",
        "NEWDOUBLE THE SHOCK Critical strikes on Q - Burst Fire grant Zeri an additional R - Lightning Crash stack and an additional instance of E - Spark Surge’s cooldown reduction (at most two procs per cast: one for Q upon hitting a champion and another if it crits on a champion)\n",
        "W - ULTRASHOCK LASER\n",
        "MAGIC DAMAGE 40/75/110/145/180 (+100% total AD)(+60% AP) ⇒ 10/45/80/115/150 (+120% total AD)(+70% AP)\n",
        "E - SPARK SURGE\n",
        "COOLDOWN 23 seconds ⇒ 28/26.5/25/23.5/22 seconds\n",
        "R - LIGHTNING CRASH\n",
        "COOLDOWN 100/90/80 seconds ⇒ 120/95/70 seconds\n",
        "\"\"\"\n"
      ],
      "metadata": {
        "id": "lSow-GrFdLD_"
      },
      "execution_count": 48,
      "outputs": []
    },
    {
      "cell_type": "code",
      "source": [
        "tokenized_sentence = word_tokenize(text)\n",
        "\n",
        "print('단어 토큰화 :',tokenized_sentence)\n",
        "print('품사 태깅 :',pos_tag(tokenized_sentence))"
      ],
      "metadata": {
        "colab": {
          "base_uri": "https://localhost:8080/"
        },
        "id": "skWjs6XUezFR",
        "outputId": "74df2b0b-bc16-44cf-8c7b-0da3acb232d6"
      },
      "execution_count": 52,
      "outputs": [
        {
          "output_type": "stream",
          "name": "stdout",
          "text": [
            "단어 토큰화 : ['AZIR', 'Health', 'growth', 'increased', '.', 'A', 'little', 'birdy', 'told', 'us', 'that', 'Azir', \"'s\", 'been', 'weak', ',', 'and', 'the', 'numbers', 'told', 'us', 'the', 'birdy', 'was', 'right', '.', 'His', 'lack', 'of', 'Pro', 'presence', 'in', 'a', 'scaling', 'meta', 'that', 'should', 'favor', 'him', 'was', 'the', 'final', 'confirmation', ',', 'so', 'we', \"'re\", 'giving', 'him', 'some', 'base', 'stat', 'power', 'that', 'should', 'help', 'the', 'Emperor', 'of', 'Shurima', 'in', 'all', 'skill', 'brackets', '.', 'BASE', 'STATS', 'HEALTH', 'GROWTH', '92', '⇒', '105', 'HEALTH', 'AT', 'LEVEL', '18', '2116', '⇒', '2337', 'DARIUS', 'R', 'base', 'damage', 'increased', '.', 'Darius', 'has', 'been', 'lagging', 'behind', 'other', 'juggernauts', 'after', 'the', 'fighter', 'item', 'changes', ',', 'so', 'we', \"'re\", 'giving', 'him', 'a', 'beefy', 'damage', 'boost', '.', '(', 'As', 'a', 'reminder', ',', 'his', 'ult', \"'s\", 'total', 'damage', 'can', 'increase', 'by', 'up', 'to', '100', '%', 'based', 'on', 'his', 'passive', 'stacks', '.', ')', 'R', '-', 'NOXIAN', 'GUILLOTINE', 'MINIMUM', 'TRUE', 'DAMAGE', '100/200/300', '(', '+75', '%', 'bonus', 'AD', ')', '⇒', '125/250/375', '(', '+75', '%', 'bonus', 'AD', ')', 'HECARIM', 'Q', 'and', 'E', 'base', 'damage', 'decreased', 'late', '.', 'Tankarim', 'is', 'taking', 'over', 'Pro', 'again', ',', 'so', 'we', \"'re\", 'nerfing', 'the', 'base', 'damage', 'on', 'some', 'of', 'his', 'abilities', 'to', 'ensure', 'fairer', 'horseplay', '.', 'Q', '-', 'RAMPAGE', 'BASE', 'DAMAGE', '60/97/134/171/208', '(', '+85', '%', 'bonus', 'AD', ')', '⇒', '60/90/120/150/180', '(', '+85', '%', 'bonus', 'AD', ')', 'E', '-', 'DEVASTATING', 'CHARGE', 'MINIMUM', 'TOTAL', 'DAMAGE', '30/50/70/90/110', '(', '+55', '%', 'bonus', 'AD', ')', '⇒', '30/45/60/75/90', '(', '+55', '%', 'bonus', 'AD', ')', 'MAXIMUM', 'TOTAL', 'DAMAGE', '60/100/140/180/220', '(', '+110', '%', 'bonus', 'AD', ')', '⇒', '60/90/120/150/180', '(', '+110', '%', 'bonus', 'AD', ')', 'ILLAOI', 'QoL', 'change', 'on', 'R', 'and', 'several', 'bugfixes', '.', 'No', 'balance', 'changes', 'here', ';', 'instead', ',', 'we', 'fixed', 'lots', 'of', 'bugs', 'and', 'updated', 'Illaoi', \"'s\", 'ult', 'to', 'give', 'her', 'some', 'more', 'control', 'over', 'her', 'tentacles', '.', 'R', '-', 'LEAP', 'OF', 'FAITH', 'UPDATEDFACE', 'ME', 'R', '-', 'Leap', 'of', 'Faith', 'now', 'casts', 'with', 'Illaoi', 'facing', 'toward', 'your', 'cursor', ',', 'allowing', 'for', 'more', 'favorable', 'Tentacle', 'spawn', 'locations', 'BUGFIXES', 'When', 'Illaoi', 'attacks', 'a', 'Vessel', 'while', 'empowered', 'by', 'W', '-', 'Harsh', 'Lesson', ',', 'nearby', 'inactive', 'Tentacles', 'will', 'now', 'slam', 'her', 'target', 'as', 'soon', 'as', 'they', 'become', 'active', '(', 'short', 'delay', 'removed', ')', 'Spell', 'queueing', 'has', 'been', 'added', 'to', 'W', '-', 'Harsh', 'Lesson', 'and', 'R', '-', 'Leap', 'of', 'Faith', ',', 'so', 'you', 'can', 'now', 'buffer', 'other', 'spells', 'while', 'casting', 'them', 'W', '-', 'Harsh', 'Lesson', \"'s\", 'visual', 'indicators', 'have', 'been', 'fixed', 'and', 'will', 'show', 'the', 'correct', 'range', 'of', 'her', 'empowered', 'basic', 'attacks', 'Tentacles', 'can', 'no', 'longer', 'spawn', 'on', 'either', 'team', \"'s\", 'base', 'gates', 'on', 'Summoner', \"'s\", 'Rift', 'Vessels', 'no', 'longer', 'contribute', 'to', 'Illaoi', \"'s\", 'creep', 'score', 'when', 'they', 'expire', 'or', 'are', 'destroyed', 'Q', '-', 'Tentacle', 'Smash', 'and', 'E', '-', 'Test', 'of', 'Spirit', 'will', 'now', 'be', 'visible', 'to', 'nearby', 'enemy', 'champions', 'when', 'cast', 'from', 'Fog', 'of', 'War', 'JAX', 'Base', 'health', 'increased', '.', 'W', 'base', 'damage', 'increased', '.', 'Jax', 'has', 'been', 'mediocre', 'for', 'a', 'while', ',', 'so', 'we', \"'re\", 'giving', 'him', 'some', 'early', 'game', 'power', 'to', 'help', 'him', 'get', 'to', 'his', 'item', 'power', 'spikes', '.', 'He', 'may', 'not', 'have', 'a', 'real', 'weapon', 'at', 'first', ',', 'but', 'now', 'he', 'can', 'buy', 'one', 'a', 'little', 'sooner', '.', ':', '^', ')', 'BASE', 'STATS', 'BASE', 'HEALTH', '593', '⇒', '615', 'W', '-', 'EMPOWER', 'MAGIC', 'DAMAGE', '40/75/110/145/180', '(', '+60', '%', 'AP', ')', '⇒', '50/85/120/155/190', '(', '+60', '%', 'AP', ')', 'NIDALEE', 'Human', 'W', 'cost', 'decreased', ';', 'E', 'mana', 'cost', 'decreased', 'late', 'and', 'cast', 'range', 'increased', '.', 'Cougar', 'W', 'damage', 'radius', 'increased', '.', 'Human-form', 'Nidalee', 'is', 'a', 'mana-hungry', 'huntress', ',', 'but', 'her', 'overall', 'kit', 'is', 'much', 'more', 'compatible', 'with', 'the', 'non-mana', 'mage', 'Mythics', '.', 'We', \"'re\", 'giving', 'her', 'more', 'access', 'to', 'her', 'utility', 'spells', 'as', 'well', 'as', 'making', 'her', 'AoE', 'range', 'bigger', 'so', 'she', 'can', 'claw', 'enemies', 'and', 'jungle', 'camps', 'more', 'effectively', '.', 'Lastly', ',', 'her', 'heal', 'cast', 'range', 'was', 'pretty', 'restrictive', '(', 'especially', 'for', 'a', 'character', 'with', 'so', 'many', 'other', 'positioning', 'constraints', ')', ',', 'so', 'we', \"'re\", 'increasing', 'it', 'to', 'match', 'that', 'of', 'her', 'Bushwhack', 'trap', 'placement', '.', 'All', 'in', 'all', ',', 'this', 'should', 'make', 'her', 'more', 'accessible', 'and', 'stronger', 'across', 'all', 'skill', 'brackets', '.', 'HUMAN', 'FORM', 'W', '-', 'BUSHWHACK', 'MANA', 'COST', '40/45/50/55/60', '⇒', '30/35/40/45/50', 'E', '-', 'PRIMAL', 'SURGE', 'MANA', 'COST', '50/60/70/89/90', '⇒', '50/55/60/65/70', 'CAST', 'RANGE', '600', '⇒', '900', '(', 'now', 'matches', 'W', '-', 'Bushwhack', ')', 'COUGAR', 'FORM', 'W', '-', 'POUNCE', 'AOE', 'DAMAGE', 'RADIUS', '225', '⇒', '250', 'RENGAR', 'Passive', 'adjustments', 'to', 'Ferocity', ',', 'leaps', ',', 'and', 'Bonetooth', 'Necklace', ';', 'new', 'Ferocity', 'resource', 'bar', 'added', '.', 'Q', 'basic', 'attacks', 'now', 'always', 'crit', ';', 'damage', 'now', 'scales', 'with', 'crit', 'chance', ';', 'now', 'applies', 'against', 'towers', ';', 'no', 'longer', 'applies', 'against', 'plants', '.', 'E', 'cast', 'time', 'during', 'leap', 'removed', ';', 'now', 'grants', 'true', 'sight', 'and', 'some', 'vision', 'around', 'target', '.', 'R', 'now', 'also', 'grants', 'some', 'vision', 'around', 'target', '.', 'Our', 'big', 'kitty', 'finally', 'has', 'some', 'big', 'changes', 'coming', 'to', 'his', 'kit', '!', 'Our', 'goals', 'were', 'to', 'smooth', 'out', 'Rengar', \"'s\", 'gameplay', ',', 'keep', 'his', 'current', 'playstyle', ',', 'and', 'clarify', 'his', 'builds', '.', 'We', \"'re\", 'going', 'to', 'keep', 'a', 'close', 'eye', 'on', 'the', 'Q', 'crit', 'damage', 'ratio', 'so', 'he', 'does', \"n't\", 'get', 'too', 'out', 'of', 'line', '.', 'We', 'also', 'know', 'that', 'Q', 'no', 'longer', 'applying', 'on', 'plants', 'can', 'be', 'painful', 'for', 'seasoned', 'players', 'who', 'used', 'this', 'mechanic', 'to', 'optimize', 'Ferocity', 'stacks', ',', 'but', 'we', 'strongly', 'believe', 'it', 'was', \"n't\", 'healthy', 'to', 'support', 'long', 'term', 'and', 'have', 'instead', 'moved', 'that', 'power', 'to', 'more', 'accessible', 'parts', 'of', 'his', 'kit', '.', 'PASSIVE', '-', 'UNSEEN', 'PREDATOR', 'UPDATEDHERE', ',', 'KITTY', 'KITTY', 'Rengar', \"'s\", 'next', 'leap', 'will', 'grant', '1', 'Ferocity', 'only', 'if', 'he', 'has', '0', 'Ferocity', '⇒', 'upon', 'losing', 'all', 'Ferocity', 'stacks', '(', 'no', 'matter', 'how', 'much', 'Ferocity', 'he', 'gains', 'before', 'his', 'next', 'leap', ')', 'UPDATEDPURRFECT', 'POUNCES', 'Rengar', 'will', 'be', 'able', 'to', 'leap', 'after', '0.35', 'seconds', 'in', 'brush', 'or', 'camouflage', '(', 'or', 'Senna', \"'s\", 'E', '-', 'Curse', 'of', 'the', 'Black', 'Mist', 'camouflage', ')', 'consistently', ',', 'rather', 'than', 'based', 'on', 'a', '0.3-0.45', 'second', 'timer', '(', 'Leap', 'range', 'has', 'been', 'slightly', 'increased', 'to', 'offset', 'variability', ')', 'NEWFEROCIOUS', 'FELINE', 'Rengar', 'now', 'has', 'a', 'Ferocity', 'resource', 'bar', 'that', 'indicates', 'how', 'much', 'Ferocity', 'he', 'currently', 'has', '(', 'Stacks', 'generated', 'by', 'leaps', 'will', 'have', 'a', 'different', 'color', 'so', 'you', \"'ll\", 'know', 'if', 'you', \"'ll\", 'gain', 'Ferocity', 'on', 'your', 'next', 'leap', ')', 'ALL', 'FEROCITY', 'STACKS', 'FALL', 'OFF', 'AFTER', '8', 'seconds', '⇒', '10', 'seconds', 'out', 'of', 'combat', 'BONETOOTH', 'NECKLACE', 'TAKEDOWN', 'TIMER', 'Within', '1.5', 'seconds', '⇒', '3', 'seconds', 'of', 'damaging', 'an', 'enemy', 'champion', 'Q', '-', 'SAVAGERY', 'NEWSAVAGE', 'STRIKES', 'Rengar', \"'s\", 'Q-empowered', 'basic', 'attack', 'is', 'now', 'always', 'a', 'critical', 'strike', '.', 'Instead', 'of', 'regular', 'critical', 'strike', 'damage', ',', 'each', '1', '%', 'critical', 'strike', 'chance', 'increases', 'this', 'empowered', 'attack', \"'s\", 'damage', 'by', '0.66', '%', '(', '0.99', '%', 'with', 'Infinity', 'Edge', \"'s\", 'Perfection', 'passive', ')', 'UPDATEDSCRATCHING', 'POSTS', 'Q', '-', 'Savagery', 'now', 'also', 'applies', 'to', 'basic', 'attacks', 'against', 'towers', 'UPDATEDTHAT', 'WAS', \"N'T\", 'CATNIP', 'Q', '-', 'Savagery', 'no', 'longer', 'applies', 'to', 'basic', 'attacks', 'against', 'plants', 'E', '-', 'BOLA', 'STRIKE', 'UPDATEDNO', 'CAST', ',', 'ONLY', 'THROW', 'Rengar', 'can', 'now', 'throw', 'his', 'E', '-', 'Bola', 'Strike', 'instantly', '(', 'with', 'zero', 'cast', 'time', ')', 'during', 'leaps', 'NEWPEEKABOO', 'Now', 'grants', 'true', 'sight', 'and', 'normal', 'vision', '150', 'units', 'around', 'the', 'first', 'enemy', 'hit', 'for', '2', 'seconds', 'R', '-', 'THRILL', 'OF', 'THE', 'HUNT', 'UPDATEDPREDATORY', 'INSTINCT', 'Now', 'grants', 'not', 'only', 'true', 'sight', ',', 'but', 'also', 'normal', 'vision', '100', 'units', 'around', 'the', 'nearest', 'enemy', 'TRYNDAMERE', 'E', 'cooldown', 'reduction', 'per', 'crit', 'decreased', '.', 'R', 'cooldown', 'increased', '.', 'Tryndamere', 'is', 'too', 'strong', 'at', 'the', 'highest', 'levels', 'of', 'play', '.', 'His', 'kit', 'scales', 'too', 'well', 'with', 'Ability', 'Haste', ',', 'so', 'we', \"'re\", 'readjusting', 'his', 'cooldowns', 'to', 'account', 'for', 'the', 'higher', 'amounts', 'of', 'Ability', 'Haste', 'available', 'to', 'him', 'through', 'items', '.', 'E', '-', 'SPINNING', 'SLASH', 'COOLDOWN', 'REDUCTION', 'PER', 'CRITICAL', 'STRIKE', '1', 'second', '(', '2', 'seconds', 'against', 'champions', ')', '⇒', '0.75', 'seconds', '(', '1.5', 'seconds', 'against', 'champions', ')', 'R', '-', 'UNDYING', 'RAGE', 'COOLDOWN', '110/100/90', 'seconds', '⇒', '130/110/90', 'seconds', 'GANGPLANK', 'Passive', 'burn', 'base', 'damage', 'increased', 'late', '.', 'W', 'mana', 'cost', 'decreased', '.', 'Gangplank', 'is', 'arrrguably', 'struggling', 'at', 'all', 'levels', 'of', 'play', '.', 'He', \"'s\", 'already', 'got', 'enough', 'gunpowder', 'in', 'his', 'Q', 'and', 'barrels', ',', 'so', 'we', \"'re\", 'putting', 'some', 'power', 'into', 'less', 'explosive', 'and', 'more…', 'orange…', 'parts', 'of', 'his', 'kit', '.', 'PASSIVE', '-', 'TRIAL', 'BY', 'FIRE', 'BURN', 'BASE', 'DAMAGE', '55-225', '(', 'levels', '1-18', ')', '⇒', '55-310', '(', 'levels', '1-18', ')', 'W', '-', 'REMOVE', 'SCURVY', 'MANA', 'COST', '80/90/100/110/120', '⇒', '60/70/80/90/100', 'GWEN', 'E', 'cooldown', 'refund', 'increased', '.', 'R', 'cooldown', 'decreased', 'early', '.', 'Gwen', \"'s\", 'been', 'hanging', 'by', 'a', 'thread', 'after', 'her', 'most', 'recent', 'nerfs', ',', 'so', 'we', \"'re\", 'stitching', 'her', 'up', 'with', 'some', 'cooldown', 'buffs', 'that', 'should', 'help', 'her', 'across', 'all', 'skill', 'levels', '.', 'Needle-ss', 'to', 'say', ',', 'we', 'do', \"n't\", 'think', 'these', 'changes', 'will', 'fully', 'address', 'her', 'issues', ',', 'but', 'we', \"'re\", 'being', 'extra', 'careful', 'considering', 'her', 'pattern', 'of', 'dominating', 'Pro', '.', 'E', '-', 'SKIP', '‘', 'N', 'SLASH', 'COOLDOWN', 'REFUND', 'UPON', 'FIRST', 'BASIC', 'ATTACK', '50', '%', '⇒', '60', '%', 'R', '-', 'NEEDLEWORK', 'COOLDOWN', '120/100/80', 'seconds', '⇒', '100/90/80', 'seconds', 'JAYCE', 'Base', 'health', 'decreased', ',', 'health', 'growth', 'increased', ',', 'and', 'armor', 'adjusted', '.', 'Jayce', 'has', 'also', 'been', 'a', 'popular', 'pick', 'in', 'Pro', '.', 'We', \"'re\", 'lowering', 'his', 'laning', 'power', 'by', 'making', 'him', 'squishier', 'early', 'on', ',', 'but', 'increasing', 'his', 'growth', 'to', 'make', 'sure', 'he', 'still', 'scales', 'to', 'late', 'game', '.', 'BASE', 'STATS', 'HEALTH', 'GROWTH', '90', '⇒', '95', 'BASE', 'HEALTH', '560', '⇒', '520', 'HEALTH', '560-2090', '(', 'levels', '1-18', ')', '⇒', '520-2135', '(', 'levels', '1-18', ')', 'BASE', 'ARMOR', '27', '⇒', '22', 'ARMOR', 'GROWTH', '3.5', '⇒', '3.8', '(', 'armor', 'at', 'level', '18', 'unchanged', ')', 'KALISTA', 'Base', 'mana', ',', 'move', 'speed', ',', 'and', 'attack', 'speed', 'growth', 'increased', '.', 'Kalista', 'hasn', '’', 't', 'been', 'seen', 'often', 'in', 'Pro', 'this', 'season', ',', 'and', 'is', 'generally', 'weak', 'in', 'all', 'levels', 'of', 'play', '.', 'We', \"'re\", 'buffing', 'some', 'of', 'her', 'baseline', 'stats', 'which', 'should', 'especially', 'help', 'her', 'out', 'in', 'Average', 'play', '.', 'Super', 'speedy', 'spooky', 'spears', 'incoming', '.', 'BASE', 'STATS', 'BASE', 'MANA', '250', '⇒', '300', 'MOVE', 'SPEED', '325', '⇒', '330', 'ATTACK', 'SPEED', 'GROWTH', '4', '%', '⇒', '4.5', '%', 'KARTHUS', 'Q', 'damage', 'against', 'monsters', 'increased', '.', 'While', 'the', 'Deathsinger', 'remains', 'powerful', 'in', 'bot', 'lane', ',', 'his', 'voice', 'has', 'been', 'faltering', 'in', 'the', 'jungle', '.', 'We', \"'re\", 'amping', 'up', 'his', 'clear', 'strength', 'to', 'bring', 'jungle', 'Karthus', 'back', 'from', 'the', 'dead', '.', 'Q', '-', 'LAY', 'WASTE', 'DAMAGE', 'AGAINST', 'MONSTERS', '85', '%', '⇒', '95', '%', 'LEE', 'SIN', 'Base', 'AD', 'decreased', '.', 'Q', 'base', 'damage', 'decreased', '.', 'We', \"'re\", 'looking', '(', 'no', 'pun', 'intended', ')', 'to', 'bring', 'down', 'Lee', 'Sin', \"'s\", 'jungle', 'clear', 'speed', 'and', 'early', 'game', 'threat', 'in', 'order', 'to', 'reduce', 'his', 'impact', 'on', 'Pro', 'play', '.', 'We', \"'re\", 'targeting', 'his', 'base', 'damage', 'instead', 'of', 'his', 'cooldowns', 'to', 'ensure', 'his', 'passive', \"'s\", 'rhythm', 'remains', 'the', 'same', '.', 'BASE', 'STATS', 'BASE', 'AD', '68', '⇒', '66', 'Q', '-', 'SONIC', 'WAVE', '/', 'RESONATING', 'STRIKE', 'SONIC', 'WAVE', 'DAMAGE', '55/80/105/130/155', '(', '+100', '%', 'bonus', 'AD', ')', '⇒', '50/75/100/125/150', '(', '+100', '%', 'bonus', 'AD', ')', 'RESONATING', 'STRIKE', 'MINIMUM', 'DAMAGE', '55/80/105/130/155', '(', '+100', '%', 'bonus', 'AD', ')', '⇒', '50/75/100/125/150', '(', '+100', '%', 'bonus', 'AD', ')', 'RESONATING', 'STRIKE', 'MAXIMUM', 'DAMAGE', '110/160/210/260/310', '(', '+200', '%', 'bonus', 'AD', ')', '⇒', '100/150/200/250/300', '(', '+200', '%', 'bonus', 'AD', ')', 'LILLIA', 'Passive', 'healing', 'against', 'champions', 'increased', '.', 'W', 'base', 'damage', 'increased', '.', 'We', \"'re\", 'giving', 'Lillia', 'some', 'more', 'scaling', 'sustain', 'with', 'her', 'AP', 'builds', 'while', 'also', 'boosting', 'her', 'early', 'jungle', 'clear', '.', 'These', 'buffs', 'should', 'give', 'her', 'W', 'damage', 'a', 'bit', 'more', 'oomph—or', 'rather', ',', 'eep', '!', 'PASSIVE', '-', 'DREAM-LADEN', 'BOUGH', 'HEALING', 'AGAINST', 'CHAMPIONS', '12-140', '(', 'levels', '1-18', ')', '(', '+12', '%', 'AP', ')', '⇒', '12-140', '(', 'levels', '1-18', ')', '(', '+20', '%', 'AP', ')', 'W', '-', 'WATCH', 'OUT', '!', 'EEP', '!', 'DAMAGE', '70/90/110/130/150', '(', '+35', '%', 'AP', ')', '⇒', '80/100/120/140/160', '(', '+35', '%', 'AP', ')', 'NEEKO', 'W', 'passive', 'base', 'damage', 'and', 'move', 'speed', 'increased', '.', 'Neeko', \"'s\", 'been', 'hidden', 'from', 'Pro', 'play', 'despite', 'being', 'a', 'strong', 'tomato', 'in', 'solo', 'queue', '.', 'Her', 'on-hit', 'build', 'was', 'quite', 'popular', 'in', 'past', 'metas', ',', 'so', 'we', \"'re\", 'bringing', 'it', 'back', 'to', 'lure', 'the', 'Curious', 'Chameleon', 'out', 'of', 'hiding', '!', 'W', '-', 'SHAPESPLITTER', 'PASSIVE', 'BONUS', 'MAGIC', 'DAMAGE', '50/70/90/110/130', '(', '+60', '%', 'AP', ')', '⇒', '50/80/110/140/170', '(', '+60', '%', 'AP', ')', 'PASSIVE', 'BONUS', 'MOVE', 'SPEED', '10/15/20/25/30', '%', '⇒', '10/17.5/25/32.5/40', '%', 'PANTHEON', 'Base', 'health', 'regen', 'decreased', '.', 'Tap', 'Q', 'range', 'increased', 'and', 'width', 'decreased', '.', 'E', 'self-slow', 'no', 'longer', 'applies', 'when', 'moving', 'backwards', '.', 'R', 'crash', 'now', 'lands', 'faster', '.', 'Pantheon', 'has', \"n't\", 'been', 'living', 'up', 'to', 'his', 'Spartan', 'spirit', ',', 'so', 'we', \"'re\", 'sharpening', 'his', 'spear', 'to', 'make', 'him', 'feel', 'more', 'like', 'the', 'paragon', 'of', 'Rakkor', 'warriors', '.', 'Skilled', 'Pantheon', 'players', 'should', 'now', 'be', 'able', 'to', 'showcase', 'their', 'strength', 'with', 'more', 'timely', 'ults', ',', 'more', 'maneuverable', 'shields', ',', 'and', 'better', 'trading', 'tools', '.', 'BASE', 'STATS', 'BASE', 'HEALTH', 'REGENERATION', '9', '⇒', '7.5', 'Q', '-', 'COMET', 'SPEAR', 'TAP', 'Q', 'LENGTH', '550', 'units', '⇒', '600', 'units', 'TAP', 'Q', 'WIDTH', '150', 'units', '⇒', '120', 'units', 'E', '-', 'AEGIS', 'ASSAULT', 'REMOVEDSTEADFAST', 'SHIELDING', 'Pantheon', 'is', 'no', 'longer', 'slowed', 'if', 'moving', 'backwards', 'while', 'E', '-', 'Aegis', 'Assault', 'is', 'active', 'R', '-', 'GRAND', 'STARFALL', 'UPDATEDCRASH', 'LANDING', 'ON', 'YOU', 'Pantheon', 'now', 'crashes', 'down', 'on', 'his', 'destination', '0.25', 'seconds', 'sooner', 'RENGAR', 'Q', 'bonus', 'damage', 'against', 'structures', 'reduced', '.', 'W', 'bonus', 'damage', 'against', 'monsters', 'increased', '.', 'Rengar', \"'s\", 'become', 'a', 'serious', 'destroyer', 'of', 'furniture', 'structures', 'after', 'his', 'most', 'recent', 'changes', '.', 'This', 'is', 'a', 'new', 'and', 'flexible', 'strength', 'in', 'his', 'kit', 'that', 'we', 'want', 'to', 'preserve', ',', 'but', 'he', \"'s\", 'taking', 'down', 'those', '(', 'scratching', ')', 'towers', 'a', 'bit', 'too', 'fast', ',', 'so', 'we', \"'re\", 'tapping', 'down', 'the', 'damage', 'on', 'that', 'part', 'of', 'his', 'Q', '.', 'We', \"'re\", 'also', 'bumping', 'up', 'his', 'damage', 'against', 'monsters', 'to', 'compensate', 'for', 'some', 'of', 'the', 'clear', 'speed', 'he', 'lost', 'because', 'of', 'the', 'changes', 'to', 'Q', 'against', 'plants', 'last', 'patch', '.', 'Q', '-', 'SAVAGERY', 'NEWKITTEN', 'MITTENS', 'Q', '-', 'Savagery', \"'s\", 'bonus', 'damage', 'is', 'reduced', 'by', '40', '%', 'against', 'structures', 'W', '-', 'BATTLE', 'ROAR', 'BONUS', 'MAGIC', 'DAMAGE', 'AGAINST', 'MONSTERS', '65-130', '(', 'levels', '1-18', ')', '⇒', '85-150', '(', 'levels', '1-18', ')', 'BUGFIXES', 'Fixed', 'a', 'bug', 'where', 'Gromp', 'did', 'not', 'grant', 'Rengar', 'a', 'stack', 'of', 'Ferocity', 'RYZE', 'Q', 'damage', 'AP', 'ratio', 'increased', ';', 'bonus', 'mana', 'ratio', 'decreased', '.', 'Ryze', \"'s\", 'tank', 'builds', 'make', 'him', 'a', 'safe', 'yet', 'potent', 'split', 'pusher', 'by', 'allowing', 'him', 'to', 'stack', 'health', 'while', 'dealing', 'carry', 'levels', 'of', 'damage', ',', 'making', 'him', 'particularly', 'lethal', 'in', 'Pro', 'play', '.', 'The', 'mid-patch', '12.5', 'nerfs', 'did', \"n't\", 'quite', 'do', 'the', 'job', 'at', 'refining', 'his', 'hypercarry', 'identity', ',', 'so', 'we', \"'re\", 'shifting', 'his', 'mana', 'scaling', 'to', 'incentivize', 'him', 'to', 'build', 'a', 'few', 'more', 'AP', 'items', 'before', 'stacking', 'health', 'items', 'like', 'Winter', '’', 's', 'Approach', '(', 'which', 'will', 'also', 'be', 'receiving', 'nerfs', 'this', 'patch', ')', '.', 'Q', '-', 'OVERLOAD', 'MAGIC', 'DAMAGE', '70/90/110/130/150', '(', '+45', '%', 'AP', ')', '(', '+3', '%', 'bonus', 'mana', ')', '⇒', '70/90/110/130/150', '(', '+50', '%', 'AP', ')', '(', '+2', '%', 'bonus', 'mana', ')', 'WUKONG', 'Q', 'cooldown', 'decreased', '.', 'W', 'cooldown', 'decreased', 'late', ';', 'dash', 'can', 'now', 'go', 'through', 'terrain', '.', 'E', 'AP', 'ratio', 'and', 'damage', 'against', 'monsters', 'increased', '.', 'Wukong', 'has', \"n't\", 'been', 'seen', 'in', 'Pro', 'much', 'despite', 'having', 'a', 'theoretically', 'good', 'matchup', 'into', 'meta', 'staples', 'like', 'Jayce', 'and', 'Graves', '.', 'We', \"'re\", 'helping', 'him', 'claim', 'his', 'place', 'in', 'top', 'lane', 'while', 'also', 'reinvigorating', 'jungle', 'Wu', 'so', 'he', 'can', 'be', 'a', 'viable', 'counter', 'or', 'flex', 'pick', '.', 'Q', '-', 'CRUSHING', 'BLOW', 'COOLDOWN', '9/8.5/8/7.5/7', 'seconds', '⇒', '8/7.5/7/6.5/6', 'seconds', 'W', '-', 'WARRIOR', 'TRICKSTER', 'COOLDOWN', '20/19/18/17/16', 'seconds', '⇒', '20/18/16/14/12', 'seconds', 'NEWTO', 'THE', 'WINDOWS', ',', 'THROUGH', 'THE', 'WALLS', 'Wukong', 'can', 'now', 'dash', 'through', 'terrain', 'using', 'W', '-', 'Warrior', 'Trickster', 'E', '-', 'NIMBUS', 'STRIKE', 'MAGIC', 'DAMAGE', '80/110/140/170/200', '(', '+80', '%', 'AP', ')', '⇒', '80/110/140/170/200', '(', '+100', '%', 'AP', ')', 'BONUS', 'MAGIC', 'DAMAGE', 'AGAINST', 'MONSTERS', '50', '%', '⇒', '80', '%', 'YASUO', 'Base', 'health', 'increased', '.', 'R', 'cooldown', 'decreased', 'early', '.', 'Despite', 'my', 'match', 'history', ',', 'Yasuo', 'and', 'Yone', 'have', 'been', 'relatively', 'weak', '(', 'and', 'the', 'sustain', 'nerfs', 'in', '12.6', 'didn', '’', 't', 'do', 'them', 'any', 'favors', 'either', ')', '.', 'Rather', 'than', 'increasing', 'their', 'damage', ',', 'we', \"'re\", 'giving', 'the', 'wind', 'brothers', 'more', 'opportunity', 'to', 'flex', 'their', 'skills', '.', 'For', 'Yasuo', ',', 'we', \"'re\", 'increasing', 'his', 'early', 'combat', 'durability', 'and', 'ability', 'to', 'synergize', 'with', 'teammates', 'during', 'laning', 'phase', '.', 'BASE', 'STATS', 'HEALTH', '490', '⇒', '520', 'R', '-', 'LAST', 'BREATH', 'COOLDOWN', '80/55/30', 'seconds', '⇒', '70/50/30', 'seconds', 'YONE', 'R', 'cooldown', 'decreased', 'late', '.', 'Yone', 'is', 'also', 'getting', 'more', 'access', 'to', 'his', 'ult', ',', 'but', 'with', 'a', 'focus', 'on', 'late', 'game', 'which', 'is', 'when', 'it', \"'s\", 'usually', 'harder', 'for', 'him', 'to', 'close', 'gaps', '(', 'unless', 'he', \"'s\", 'already', 'extremely', 'far', 'ahead', ')', '.', 'R', '-', 'FATE', 'SEALED', 'COOLDOWN', '120/100/80', 'seconds', '⇒', '120/90/60', 'seconds', 'ZERI', 'Base', 'AD', ',', 'AD', 'growth', ',', 'and', 'armor', 'decreased', ';', 'health', 'growth', 'increased', '.', 'Q', 'base', 'damage', 'decreased', ',', 'AD', 'ratio', 'increased', ';', 'now', 'applies', 'on-hit', 'effects', 'only', 'once', 'per', 'cast', ';', 'now', 'grants', 'at', 'most', 'one', 'R', 'stack', 'and', 'E', 'cooldown', 'reduction', 'once', 'per', 'cast', ',', 'but', 'crits', 'can', 'grant', 'one', 'more', 'of', 'each', '.', 'W', 'base', 'damage', 'decreased', ',', 'AD', 'and', 'AP', 'ratio', 'increased', '.', 'E', 'cooldown', 'increased', 'early', 'and', 'decreases', 'with', 'rank', 'again', '.', 'R', 'cooldown', 'increased', 'early', 'and', 'decreased', 'late', '.', 'Zeri', ',', 'Zeri', ',', 'you', '’', 've', 'been', 'a', 'little', 'too', 'unfair-y', '.', 'Despite', 'the', 'nerfs', 'in', 'previous', 'patches', ',', 'Zeri', 'has', 'been', 'shockingly', 'resilient', 'and', 'continues', 'to', 'dominate', 'Pro', 'play', '.', 'With', 'this', 'round', 'of', 'nerfs', ',', 'we', '’', 're', 'aiming', 'to', 'bring', 'her', 'bruiser', 'build', 'more', 'in', 'line', 'with', 'her', 'crit', 'build', ',', 'as', 'well', 'as', 'make', 'her', 'stacks', 'and', 'on-hits', 'more', 'predictable', '.', 'This', 'should', 'give', 'enemies', 'more', 'time', 'to', 'catch', 'Zeri', 'before', 'she', 'starts', 'zipping', 'circles', 'around', 'them', '.', 'BASE', 'STATS', 'AD', 'GROWTH', '2', '⇒', '1.5', 'ATTACK', 'DAMAGE', '53-87', '(', 'levels', '1-18', ')', '⇒', '50-75.5', '(', 'levels', '1-18', ')', 'BASE', 'ARMOR', '22', '⇒', '20', 'HEALTH', 'GROWTH', '90', '⇒', '95', 'HEALTH', 'AT', 'LEVEL', '18', '2030', '⇒', '2115', 'Q', '-', 'BURST', 'FIRE', 'TOTAL', 'PHYSICAL', 'DAMAGE', '10/15/20/25/30', '(', '+110', '%', 'total', 'AD', ')', '⇒', '7/9/11/13/15', '(', '+110/112.5/115/117.5/120', '%', 'total', 'AD', ')', 'UPDATEDONCE', 'UPON', 'A', 'CAST', 'Q', '-', 'Burst', 'Fire', 'now', 'only', 'applies', 'on-hit', 'effects', 'once', 'per', 'cast', 'UPDATEDNOT', 'SO', 'FAST', 'Zeri', 'can', 'now', 'only', 'gain', 'one', 'stack', 'of', 'R', '-', 'Lightning', 'Crash', 'and', 'one', 'instance', 'of', 'E', '-', 'Spark', 'Surge', 'cooldown', 'reduction', 'per', 'Q', '-', 'Burst', 'Fire', 'cast', '(', 'excluding', 'critical', 'strikes', ')', 'NEWDOUBLE', 'THE', 'SHOCK', 'Critical', 'strikes', 'on', 'Q', '-', 'Burst', 'Fire', 'grant', 'Zeri', 'an', 'additional', 'R', '-', 'Lightning', 'Crash', 'stack', 'and', 'an', 'additional', 'instance', 'of', 'E', '-', 'Spark', 'Surge', '’', 's', 'cooldown', 'reduction', '(', 'at', 'most', 'two', 'procs', 'per', 'cast', ':', 'one', 'for', 'Q', 'upon', 'hitting', 'a', 'champion', 'and', 'another', 'if', 'it', 'crits', 'on', 'a', 'champion', ')', 'W', '-', 'ULTRASHOCK', 'LASER', 'MAGIC', 'DAMAGE', '40/75/110/145/180', '(', '+100', '%', 'total', 'AD', ')', '(', '+60', '%', 'AP', ')', '⇒', '10/45/80/115/150', '(', '+120', '%', 'total', 'AD', ')', '(', '+70', '%', 'AP', ')', 'E', '-', 'SPARK', 'SURGE', 'COOLDOWN', '23', 'seconds', '⇒', '28/26.5/25/23.5/22', 'seconds', 'R', '-', 'LIGHTNING', 'CRASH', 'COOLDOWN', '100/90/80', 'seconds', '⇒', '120/95/70', 'seconds']\n",
            "품사 태깅 : [('AZIR', 'NNP'), ('Health', 'NNP'), ('growth', 'NN'), ('increased', 'VBD'), ('.', '.'), ('A', 'DT'), ('little', 'JJ'), ('birdy', 'NN'), ('told', 'VBD'), ('us', 'PRP'), ('that', 'IN'), ('Azir', 'NNP'), (\"'s\", 'POS'), ('been', 'VBN'), ('weak', 'JJ'), (',', ','), ('and', 'CC'), ('the', 'DT'), ('numbers', 'NNS'), ('told', 'VBD'), ('us', 'PRP'), ('the', 'DT'), ('birdy', 'NN'), ('was', 'VBD'), ('right', 'JJ'), ('.', '.'), ('His', 'PRP$'), ('lack', 'NN'), ('of', 'IN'), ('Pro', 'NNP'), ('presence', 'NN'), ('in', 'IN'), ('a', 'DT'), ('scaling', 'NN'), ('meta', 'NN'), ('that', 'WDT'), ('should', 'MD'), ('favor', 'VB'), ('him', 'PRP'), ('was', 'VBD'), ('the', 'DT'), ('final', 'JJ'), ('confirmation', 'NN'), (',', ','), ('so', 'IN'), ('we', 'PRP'), (\"'re\", 'VBP'), ('giving', 'VBG'), ('him', 'PRP'), ('some', 'DT'), ('base', 'NN'), ('stat', 'JJ'), ('power', 'NN'), ('that', 'WDT'), ('should', 'MD'), ('help', 'VB'), ('the', 'DT'), ('Emperor', 'NNP'), ('of', 'IN'), ('Shurima', 'NNP'), ('in', 'IN'), ('all', 'DT'), ('skill', 'JJ'), ('brackets', 'NNS'), ('.', '.'), ('BASE', 'NNP'), ('STATS', 'NNP'), ('HEALTH', 'NNP'), ('GROWTH', 'NNP'), ('92', 'CD'), ('⇒', 'NNP'), ('105', 'CD'), ('HEALTH', 'NNP'), ('AT', 'NNP'), ('LEVEL', 'NNP'), ('18', 'CD'), ('2116', 'CD'), ('⇒', 'NN'), ('2337', 'CD'), ('DARIUS', 'NNP'), ('R', 'NNP'), ('base', 'NN'), ('damage', 'NN'), ('increased', 'VBD'), ('.', '.'), ('Darius', 'NNP'), ('has', 'VBZ'), ('been', 'VBN'), ('lagging', 'VBG'), ('behind', 'IN'), ('other', 'JJ'), ('juggernauts', 'NNS'), ('after', 'IN'), ('the', 'DT'), ('fighter', 'NN'), ('item', 'NN'), ('changes', 'NNS'), (',', ','), ('so', 'IN'), ('we', 'PRP'), (\"'re\", 'VBP'), ('giving', 'VBG'), ('him', 'PRP'), ('a', 'DT'), ('beefy', 'NN'), ('damage', 'NN'), ('boost', 'NN'), ('.', '.'), ('(', '('), ('As', 'IN'), ('a', 'DT'), ('reminder', 'NN'), (',', ','), ('his', 'PRP$'), ('ult', 'NN'), (\"'s\", 'POS'), ('total', 'JJ'), ('damage', 'NN'), ('can', 'MD'), ('increase', 'VB'), ('by', 'IN'), ('up', 'IN'), ('to', 'TO'), ('100', 'CD'), ('%', 'NN'), ('based', 'VBN'), ('on', 'IN'), ('his', 'PRP$'), ('passive', 'JJ'), ('stacks', 'NNS'), ('.', '.'), (')', ')'), ('R', 'NNP'), ('-', ':'), ('NOXIAN', 'NNP'), ('GUILLOTINE', 'NNP'), ('MINIMUM', 'NNP'), ('TRUE', 'NNP'), ('DAMAGE', 'NNP'), ('100/200/300', 'CD'), ('(', '('), ('+75', 'CD'), ('%', 'NN'), ('bonus', 'CC'), ('AD', 'NNP'), (')', ')'), ('⇒', 'VBZ'), ('125/250/375', 'CD'), ('(', '('), ('+75', 'CD'), ('%', 'NN'), ('bonus', 'CC'), ('AD', 'NNP'), (')', ')'), ('HECARIM', 'NNP'), ('Q', 'NNP'), ('and', 'CC'), ('E', 'NNP'), ('base', 'NN'), ('damage', 'NN'), ('decreased', 'VBN'), ('late', 'RB'), ('.', '.'), ('Tankarim', 'NNP'), ('is', 'VBZ'), ('taking', 'VBG'), ('over', 'RP'), ('Pro', 'NNP'), ('again', 'RB'), (',', ','), ('so', 'IN'), ('we', 'PRP'), (\"'re\", 'VBP'), ('nerfing', 'VBG'), ('the', 'DT'), ('base', 'NN'), ('damage', 'NN'), ('on', 'IN'), ('some', 'DT'), ('of', 'IN'), ('his', 'PRP$'), ('abilities', 'NNS'), ('to', 'TO'), ('ensure', 'VB'), ('fairer', 'JJR'), ('horseplay', 'NN'), ('.', '.'), ('Q', 'NNP'), ('-', ':'), ('RAMPAGE', 'NN'), ('BASE', 'NNP'), ('DAMAGE', 'NNP'), ('60/97/134/171/208', 'CD'), ('(', '('), ('+85', 'CD'), ('%', 'NN'), ('bonus', 'CC'), ('AD', 'NNP'), (')', ')'), ('⇒', 'VBZ'), ('60/90/120/150/180', 'CD'), ('(', '('), ('+85', 'CD'), ('%', 'NN'), ('bonus', 'CC'), ('AD', 'NNP'), (')', ')'), ('E', 'NNP'), ('-', ':'), ('DEVASTATING', 'NN'), ('CHARGE', 'NNP'), ('MINIMUM', 'NNP'), ('TOTAL', 'NNP'), ('DAMAGE', 'NNP'), ('30/50/70/90/110', 'CD'), ('(', '('), ('+55', 'CD'), ('%', 'NN'), ('bonus', 'CC'), ('AD', 'NNP'), (')', ')'), ('⇒', 'VBZ'), ('30/45/60/75/90', 'CD'), ('(', '('), ('+55', 'CD'), ('%', 'NN'), ('bonus', 'CC'), ('AD', 'NNP'), (')', ')'), ('MAXIMUM', 'NNP'), ('TOTAL', 'NNP'), ('DAMAGE', 'NNP'), ('60/100/140/180/220', 'CD'), ('(', '('), ('+110', 'CD'), ('%', 'NN'), ('bonus', 'CC'), ('AD', 'NNP'), (')', ')'), ('⇒', 'VBZ'), ('60/90/120/150/180', 'CD'), ('(', '('), ('+110', 'CD'), ('%', 'NN'), ('bonus', 'CC'), ('AD', 'NNP'), (')', ')'), ('ILLAOI', 'NNP'), ('QoL', 'NNP'), ('change', 'NN'), ('on', 'IN'), ('R', 'NNP'), ('and', 'CC'), ('several', 'JJ'), ('bugfixes', 'NNS'), ('.', '.'), ('No', 'DT'), ('balance', 'NN'), ('changes', 'NNS'), ('here', 'RB'), (';', ':'), ('instead', 'RB'), (',', ','), ('we', 'PRP'), ('fixed', 'VBD'), ('lots', 'NNS'), ('of', 'IN'), ('bugs', 'NNS'), ('and', 'CC'), ('updated', 'JJ'), ('Illaoi', 'NNP'), (\"'s\", 'POS'), ('ult', 'NN'), ('to', 'TO'), ('give', 'VB'), ('her', 'PRP$'), ('some', 'DT'), ('more', 'RBR'), ('control', 'NN'), ('over', 'IN'), ('her', 'PRP$'), ('tentacles', 'NNS'), ('.', '.'), ('R', 'NNP'), ('-', ':'), ('LEAP', 'NN'), ('OF', 'IN'), ('FAITH', 'NNP'), ('UPDATEDFACE', 'NNP'), ('ME', 'NNP'), ('R', 'NNP'), ('-', ':'), ('Leap', 'NNP'), ('of', 'IN'), ('Faith', 'NNP'), ('now', 'RB'), ('casts', 'VBZ'), ('with', 'IN'), ('Illaoi', 'NNP'), ('facing', 'VBG'), ('toward', 'IN'), ('your', 'PRP$'), ('cursor', 'NN'), (',', ','), ('allowing', 'VBG'), ('for', 'IN'), ('more', 'RBR'), ('favorable', 'JJ'), ('Tentacle', 'NNP'), ('spawn', 'NN'), ('locations', 'NNS'), ('BUGFIXES', 'NNP'), ('When', 'WRB'), ('Illaoi', 'NNP'), ('attacks', 'VBZ'), ('a', 'DT'), ('Vessel', 'NNP'), ('while', 'IN'), ('empowered', 'VBN'), ('by', 'IN'), ('W', 'NNP'), ('-', ':'), ('Harsh', 'NNP'), ('Lesson', 'NNP'), (',', ','), ('nearby', 'RB'), ('inactive', 'JJ'), ('Tentacles', 'NNS'), ('will', 'MD'), ('now', 'RB'), ('slam', 'VB'), ('her', 'PRP$'), ('target', 'NN'), ('as', 'RB'), ('soon', 'RB'), ('as', 'IN'), ('they', 'PRP'), ('become', 'VBP'), ('active', 'JJ'), ('(', '('), ('short', 'JJ'), ('delay', 'NN'), ('removed', 'VBD'), (')', ')'), ('Spell', 'NNP'), ('queueing', 'NN'), ('has', 'VBZ'), ('been', 'VBN'), ('added', 'VBN'), ('to', 'TO'), ('W', 'NNP'), ('-', ':'), ('Harsh', 'NNP'), ('Lesson', 'NNP'), ('and', 'CC'), ('R', 'NNP'), ('-', ':'), ('Leap', 'NNP'), ('of', 'IN'), ('Faith', 'NNP'), (',', ','), ('so', 'IN'), ('you', 'PRP'), ('can', 'MD'), ('now', 'RB'), ('buffer', 'VB'), ('other', 'JJ'), ('spells', 'NNS'), ('while', 'IN'), ('casting', 'VBG'), ('them', 'PRP'), ('W', 'NNP'), ('-', ':'), ('Harsh', 'NNP'), ('Lesson', 'NNP'), (\"'s\", 'POS'), ('visual', 'JJ'), ('indicators', 'NNS'), ('have', 'VBP'), ('been', 'VBN'), ('fixed', 'VBN'), ('and', 'CC'), ('will', 'MD'), ('show', 'VB'), ('the', 'DT'), ('correct', 'JJ'), ('range', 'NN'), ('of', 'IN'), ('her', 'PRP$'), ('empowered', 'JJ'), ('basic', 'JJ'), ('attacks', 'NNS'), ('Tentacles', 'NNS'), ('can', 'MD'), ('no', 'RB'), ('longer', 'RB'), ('spawn', 'VB'), ('on', 'IN'), ('either', 'DT'), ('team', 'NN'), (\"'s\", 'POS'), ('base', 'NN'), ('gates', 'VBZ'), ('on', 'IN'), ('Summoner', 'NNP'), (\"'s\", 'POS'), ('Rift', 'NNP'), ('Vessels', 'NNP'), ('no', 'RB'), ('longer', 'RB'), ('contribute', 'VB'), ('to', 'TO'), ('Illaoi', 'NNP'), (\"'s\", 'POS'), ('creep', 'NN'), ('score', 'NN'), ('when', 'WRB'), ('they', 'PRP'), ('expire', 'VBP'), ('or', 'CC'), ('are', 'VBP'), ('destroyed', 'VBN'), ('Q', 'NNP'), ('-', ':'), ('Tentacle', 'NN'), ('Smash', 'NNP'), ('and', 'CC'), ('E', 'NNP'), ('-', ':'), ('Test', 'NN'), ('of', 'IN'), ('Spirit', 'NNP'), ('will', 'MD'), ('now', 'RB'), ('be', 'VB'), ('visible', 'JJ'), ('to', 'TO'), ('nearby', 'JJ'), ('enemy', 'NN'), ('champions', 'NNS'), ('when', 'WRB'), ('cast', 'NN'), ('from', 'IN'), ('Fog', 'NNP'), ('of', 'IN'), ('War', 'NNP'), ('JAX', 'NNP'), ('Base', 'NNP'), ('health', 'NN'), ('increased', 'VBD'), ('.', '.'), ('W', 'NNP'), ('base', 'JJ'), ('damage', 'NN'), ('increased', 'VBD'), ('.', '.'), ('Jax', 'NNP'), ('has', 'VBZ'), ('been', 'VBN'), ('mediocre', 'VBN'), ('for', 'IN'), ('a', 'DT'), ('while', 'NN'), (',', ','), ('so', 'IN'), ('we', 'PRP'), (\"'re\", 'VBP'), ('giving', 'VBG'), ('him', 'PRP'), ('some', 'DT'), ('early', 'JJ'), ('game', 'NN'), ('power', 'NN'), ('to', 'TO'), ('help', 'VB'), ('him', 'PRP'), ('get', 'VB'), ('to', 'TO'), ('his', 'PRP$'), ('item', 'NN'), ('power', 'NN'), ('spikes', 'NNS'), ('.', '.'), ('He', 'PRP'), ('may', 'MD'), ('not', 'RB'), ('have', 'VB'), ('a', 'DT'), ('real', 'JJ'), ('weapon', 'NN'), ('at', 'IN'), ('first', 'JJ'), (',', ','), ('but', 'CC'), ('now', 'RB'), ('he', 'PRP'), ('can', 'MD'), ('buy', 'VB'), ('one', 'CD'), ('a', 'DT'), ('little', 'JJ'), ('sooner', 'NN'), ('.', '.'), (':', ':'), ('^', 'NN'), (')', ')'), ('BASE', 'NNP'), ('STATS', 'NNP'), ('BASE', 'NNP'), ('HEALTH', 'NNP'), ('593', 'CD'), ('⇒', 'NNP'), ('615', 'CD'), ('W', 'NNP'), ('-', ':'), ('EMPOWER', 'NNP'), ('MAGIC', 'NNP'), ('DAMAGE', 'NNP'), ('40/75/110/145/180', 'CD'), ('(', '('), ('+60', 'CD'), ('%', 'NN'), ('AP', 'NNP'), (')', ')'), ('⇒', 'VBZ'), ('50/85/120/155/190', 'CD'), ('(', '('), ('+60', 'CD'), ('%', 'NN'), ('AP', 'NNP'), (')', ')'), ('NIDALEE', 'NNP'), ('Human', 'NNP'), ('W', 'NNP'), ('cost', 'NN'), ('decreased', 'VBD'), (';', ':'), ('E', 'NNP'), ('mana', 'VBZ'), ('cost', 'NN'), ('decreased', 'VBN'), ('late', 'RB'), ('and', 'CC'), ('cast', 'JJ'), ('range', 'NN'), ('increased', 'VBD'), ('.', '.'), ('Cougar', 'NNP'), ('W', 'NNP'), ('damage', 'NN'), ('radius', 'NN'), ('increased', 'VBD'), ('.', '.'), ('Human-form', 'JJ'), ('Nidalee', 'NNP'), ('is', 'VBZ'), ('a', 'DT'), ('mana-hungry', 'JJ'), ('huntress', 'NN'), (',', ','), ('but', 'CC'), ('her', 'PRP$'), ('overall', 'JJ'), ('kit', 'NN'), ('is', 'VBZ'), ('much', 'RB'), ('more', 'RBR'), ('compatible', 'JJ'), ('with', 'IN'), ('the', 'DT'), ('non-mana', 'JJ'), ('mage', 'NN'), ('Mythics', 'NNPS'), ('.', '.'), ('We', 'PRP'), (\"'re\", 'VBP'), ('giving', 'VBG'), ('her', 'PRP$'), ('more', 'JJR'), ('access', 'NN'), ('to', 'TO'), ('her', 'PRP$'), ('utility', 'NN'), ('spells', 'VBZ'), ('as', 'RB'), ('well', 'RB'), ('as', 'IN'), ('making', 'VBG'), ('her', 'PRP$'), ('AoE', 'NNP'), ('range', 'NN'), ('bigger', 'JJR'), ('so', 'IN'), ('she', 'PRP'), ('can', 'MD'), ('claw', 'VB'), ('enemies', 'NNS'), ('and', 'CC'), ('jungle', 'NN'), ('camps', 'NNS'), ('more', 'RBR'), ('effectively', 'RB'), ('.', '.'), ('Lastly', 'RB'), (',', ','), ('her', 'PRP'), ('heal', 'VBP'), ('cast', 'JJ'), ('range', 'NN'), ('was', 'VBD'), ('pretty', 'RB'), ('restrictive', 'JJ'), ('(', '('), ('especially', 'RB'), ('for', 'IN'), ('a', 'DT'), ('character', 'NN'), ('with', 'IN'), ('so', 'RB'), ('many', 'JJ'), ('other', 'JJ'), ('positioning', 'VBG'), ('constraints', 'NNS'), (')', ')'), (',', ','), ('so', 'IN'), ('we', 'PRP'), (\"'re\", 'VBP'), ('increasing', 'VBG'), ('it', 'PRP'), ('to', 'TO'), ('match', 'VB'), ('that', 'IN'), ('of', 'IN'), ('her', 'PRP$'), ('Bushwhack', 'NNP'), ('trap', 'NN'), ('placement', 'NN'), ('.', '.'), ('All', 'DT'), ('in', 'IN'), ('all', 'DT'), (',', ','), ('this', 'DT'), ('should', 'MD'), ('make', 'VB'), ('her', 'PRP$'), ('more', 'RBR'), ('accessible', 'JJ'), ('and', 'CC'), ('stronger', 'JJR'), ('across', 'IN'), ('all', 'DT'), ('skill', 'JJ'), ('brackets', 'NNS'), ('.', '.'), ('HUMAN', 'NNP'), ('FORM', 'NNP'), ('W', 'NNP'), ('-', ':'), ('BUSHWHACK', 'NNP'), ('MANA', 'NNP'), ('COST', 'NNP'), ('40/45/50/55/60', 'CD'), ('⇒', 'VBD'), ('30/35/40/45/50', 'CD'), ('E', 'NNP'), ('-', ':'), ('PRIMAL', 'NNP'), ('SURGE', 'NNP'), ('MANA', 'NNP'), ('COST', 'NNP'), ('50/60/70/89/90', 'CD'), ('⇒', 'VBD'), ('50/55/60/65/70', 'CD'), ('CAST', 'NNP'), ('RANGE', 'NNP'), ('600', 'CD'), ('⇒', 'NN'), ('900', 'CD'), ('(', '('), ('now', 'RB'), ('matches', 'VBZ'), ('W', 'NNP'), ('-', ':'), ('Bushwhack', 'NN'), (')', ')'), ('COUGAR', 'NNP'), ('FORM', 'NNP'), ('W', 'NNP'), ('-', ':'), ('POUNCE', 'NNP'), ('AOE', 'NNP'), ('DAMAGE', 'NNP'), ('RADIUS', 'NNP'), ('225', 'CD'), ('⇒', 'VBD'), ('250', 'CD'), ('RENGAR', 'NNP'), ('Passive', 'NNP'), ('adjustments', 'NNS'), ('to', 'TO'), ('Ferocity', 'NNP'), (',', ','), ('leaps', 'VBZ'), (',', ','), ('and', 'CC'), ('Bonetooth', 'NNP'), ('Necklace', 'NNP'), (';', ':'), ('new', 'JJ'), ('Ferocity', 'NNP'), ('resource', 'NN'), ('bar', 'NN'), ('added', 'VBD'), ('.', '.'), ('Q', 'NNP'), ('basic', 'JJ'), ('attacks', 'NNS'), ('now', 'RB'), ('always', 'RB'), ('crit', 'VBP'), (';', ':'), ('damage', 'NN'), ('now', 'RB'), ('scales', 'VBZ'), ('with', 'IN'), ('crit', 'NN'), ('chance', 'NN'), (';', ':'), ('now', 'RB'), ('applies', 'VBZ'), ('against', 'IN'), ('towers', 'NNS'), (';', ':'), ('no', 'DT'), ('longer', 'JJR'), ('applies', 'NNS'), ('against', 'IN'), ('plants', 'NNS'), ('.', '.'), ('E', 'NNP'), ('cast', 'VBD'), ('time', 'NN'), ('during', 'IN'), ('leap', 'JJ'), ('removed', 'VBD'), (';', ':'), ('now', 'RB'), ('grants', 'VBZ'), ('true', 'JJ'), ('sight', 'NN'), ('and', 'CC'), ('some', 'DT'), ('vision', 'NN'), ('around', 'IN'), ('target', 'NN'), ('.', '.'), ('R', 'NN'), ('now', 'RB'), ('also', 'RB'), ('grants', 'VBZ'), ('some', 'DT'), ('vision', 'NN'), ('around', 'IN'), ('target', 'NN'), ('.', '.'), ('Our', 'PRP$'), ('big', 'JJ'), ('kitty', 'NN'), ('finally', 'RB'), ('has', 'VBZ'), ('some', 'DT'), ('big', 'JJ'), ('changes', 'NNS'), ('coming', 'VBG'), ('to', 'TO'), ('his', 'PRP$'), ('kit', 'NN'), ('!', '.'), ('Our', 'PRP$'), ('goals', 'NNS'), ('were', 'VBD'), ('to', 'TO'), ('smooth', 'VB'), ('out', 'RP'), ('Rengar', 'NNP'), (\"'s\", 'POS'), ('gameplay', 'NN'), (',', ','), ('keep', 'VB'), ('his', 'PRP$'), ('current', 'JJ'), ('playstyle', 'NN'), (',', ','), ('and', 'CC'), ('clarify', 'VB'), ('his', 'PRP$'), ('builds', 'NNS'), ('.', '.'), ('We', 'PRP'), (\"'re\", 'VBP'), ('going', 'VBG'), ('to', 'TO'), ('keep', 'VB'), ('a', 'DT'), ('close', 'JJ'), ('eye', 'NN'), ('on', 'IN'), ('the', 'DT'), ('Q', 'NNP'), ('crit', 'NN'), ('damage', 'NN'), ('ratio', 'NN'), ('so', 'RB'), ('he', 'PRP'), ('does', 'VBZ'), (\"n't\", 'RB'), ('get', 'VB'), ('too', 'RB'), ('out', 'IN'), ('of', 'IN'), ('line', 'NN'), ('.', '.'), ('We', 'PRP'), ('also', 'RB'), ('know', 'VBP'), ('that', 'IN'), ('Q', 'NNP'), ('no', 'RB'), ('longer', 'RB'), ('applying', 'VBG'), ('on', 'IN'), ('plants', 'NNS'), ('can', 'MD'), ('be', 'VB'), ('painful', 'JJ'), ('for', 'IN'), ('seasoned', 'JJ'), ('players', 'NNS'), ('who', 'WP'), ('used', 'VBD'), ('this', 'DT'), ('mechanic', 'JJ'), ('to', 'TO'), ('optimize', 'VB'), ('Ferocity', 'NNP'), ('stacks', 'NNS'), (',', ','), ('but', 'CC'), ('we', 'PRP'), ('strongly', 'RB'), ('believe', 'VBP'), ('it', 'PRP'), ('was', 'VBD'), (\"n't\", 'RB'), ('healthy', 'JJ'), ('to', 'TO'), ('support', 'VB'), ('long', 'JJ'), ('term', 'NN'), ('and', 'CC'), ('have', 'VBP'), ('instead', 'RB'), ('moved', 'VBN'), ('that', 'DT'), ('power', 'NN'), ('to', 'TO'), ('more', 'RBR'), ('accessible', 'JJ'), ('parts', 'NNS'), ('of', 'IN'), ('his', 'PRP$'), ('kit', 'NN'), ('.', '.'), ('PASSIVE', 'NNP'), ('-', ':'), ('UNSEEN', 'NNP'), ('PREDATOR', 'NNP'), ('UPDATEDHERE', 'NNP'), (',', ','), ('KITTY', 'NNP'), ('KITTY', 'NNP'), ('Rengar', 'NNP'), (\"'s\", 'POS'), ('next', 'JJ'), ('leap', 'NN'), ('will', 'MD'), ('grant', 'VB'), ('1', 'CD'), ('Ferocity', 'NNP'), ('only', 'RB'), ('if', 'IN'), ('he', 'PRP'), ('has', 'VBZ'), ('0', 'CD'), ('Ferocity', 'NNP'), ('⇒', 'NNP'), ('upon', 'IN'), ('losing', 'VBG'), ('all', 'DT'), ('Ferocity', 'NNP'), ('stacks', 'NNS'), ('(', '('), ('no', 'DT'), ('matter', 'NN'), ('how', 'WRB'), ('much', 'JJ'), ('Ferocity', 'NN'), ('he', 'PRP'), ('gains', 'NNS'), ('before', 'IN'), ('his', 'PRP$'), ('next', 'JJ'), ('leap', 'NN'), (')', ')'), ('UPDATEDPURRFECT', 'NNP'), ('POUNCES', 'NNP'), ('Rengar', 'NNP'), ('will', 'MD'), ('be', 'VB'), ('able', 'JJ'), ('to', 'TO'), ('leap', 'VB'), ('after', 'IN'), ('0.35', 'CD'), ('seconds', 'NNS'), ('in', 'IN'), ('brush', 'NN'), ('or', 'CC'), ('camouflage', 'NN'), ('(', '('), ('or', 'CC'), ('Senna', 'NNP'), (\"'s\", 'POS'), ('E', 'NNP'), ('-', ':'), ('Curse', 'NN'), ('of', 'IN'), ('the', 'DT'), ('Black', 'NNP'), ('Mist', 'NNP'), ('camouflage', 'NN'), (')', ')'), ('consistently', 'RB'), (',', ','), ('rather', 'RB'), ('than', 'IN'), ('based', 'VBN'), ('on', 'IN'), ('a', 'DT'), ('0.3-0.45', 'JJ'), ('second', 'JJ'), ('timer', 'NN'), ('(', '('), ('Leap', 'NNP'), ('range', 'NN'), ('has', 'VBZ'), ('been', 'VBN'), ('slightly', 'RB'), ('increased', 'VBN'), ('to', 'TO'), ('offset', 'VB'), ('variability', 'NN'), (')', ')'), ('NEWFEROCIOUS', 'NNP'), ('FELINE', 'NNP'), ('Rengar', 'NNP'), ('now', 'RB'), ('has', 'VBZ'), ('a', 'DT'), ('Ferocity', 'NNP'), ('resource', 'NN'), ('bar', 'NN'), ('that', 'WDT'), ('indicates', 'VBZ'), ('how', 'WRB'), ('much', 'JJ'), ('Ferocity', 'NN'), ('he', 'PRP'), ('currently', 'RB'), ('has', 'VBZ'), ('(', '('), ('Stacks', 'NNP'), ('generated', 'VBN'), ('by', 'IN'), ('leaps', 'NNS'), ('will', 'MD'), ('have', 'VB'), ('a', 'DT'), ('different', 'JJ'), ('color', 'NN'), ('so', 'IN'), ('you', 'PRP'), (\"'ll\", 'MD'), ('know', 'VB'), ('if', 'IN'), ('you', 'PRP'), (\"'ll\", 'MD'), ('gain', 'VB'), ('Ferocity', 'NNP'), ('on', 'IN'), ('your', 'PRP$'), ('next', 'JJ'), ('leap', 'NN'), (')', ')'), ('ALL', 'DT'), ('FEROCITY', 'NNP'), ('STACKS', 'NNP'), ('FALL', 'NNP'), ('OFF', 'NNP'), ('AFTER', 'NNP'), ('8', 'CD'), ('seconds', 'NNS'), ('⇒', 'JJ'), ('10', 'CD'), ('seconds', 'VBZ'), ('out', 'IN'), ('of', 'IN'), ('combat', 'NN'), ('BONETOOTH', 'NNP'), ('NECKLACE', 'NNP'), ('TAKEDOWN', 'NNP'), ('TIMER', 'NNP'), ('Within', 'NNP'), ('1.5', 'CD'), ('seconds', 'NNS'), ('⇒', 'JJ'), ('3', 'CD'), ('seconds', 'NNS'), ('of', 'IN'), ('damaging', 'VBG'), ('an', 'DT'), ('enemy', 'NN'), ('champion', 'NN'), ('Q', 'NNP'), ('-', ':'), ('SAVAGERY', 'NNP'), ('NEWSAVAGE', 'NNP'), ('STRIKES', 'NNP'), ('Rengar', 'NNP'), (\"'s\", 'POS'), ('Q-empowered', 'JJ'), ('basic', 'JJ'), ('attack', 'NN'), ('is', 'VBZ'), ('now', 'RB'), ('always', 'RB'), ('a', 'DT'), ('critical', 'JJ'), ('strike', 'NN'), ('.', '.'), ('Instead', 'RB'), ('of', 'IN'), ('regular', 'JJ'), ('critical', 'JJ'), ('strike', 'NN'), ('damage', 'NN'), (',', ','), ('each', 'DT'), ('1', 'CD'), ('%', 'NN'), ('critical', 'JJ'), ('strike', 'NN'), ('chance', 'NN'), ('increases', 'VBZ'), ('this', 'DT'), ('empowered', 'JJ'), ('attack', 'NN'), (\"'s\", 'POS'), ('damage', 'NN'), ('by', 'IN'), ('0.66', 'CD'), ('%', 'NN'), ('(', '('), ('0.99', 'CD'), ('%', 'NN'), ('with', 'IN'), ('Infinity', 'NNP'), ('Edge', 'NNP'), (\"'s\", 'POS'), ('Perfection', 'NNP'), ('passive', 'NN'), (')', ')'), ('UPDATEDSCRATCHING', 'NN'), ('POSTS', 'NNP'), ('Q', 'NNP'), ('-', ':'), ('Savagery', 'NN'), ('now', 'RB'), ('also', 'RB'), ('applies', 'VBZ'), ('to', 'TO'), ('basic', 'VB'), ('attacks', 'NNS'), ('against', 'IN'), ('towers', 'NNS'), ('UPDATEDTHAT', 'NNP'), ('WAS', 'VBP'), (\"N'T\", 'NNP'), ('CATNIP', 'NNP'), ('Q', 'NNP'), ('-', ':'), ('Savagery', 'NN'), ('no', 'RB'), ('longer', 'RB'), ('applies', 'VBZ'), ('to', 'TO'), ('basic', 'VB'), ('attacks', 'NNS'), ('against', 'IN'), ('plants', 'NNS'), ('E', 'NNP'), ('-', ':'), ('BOLA', 'NNP'), ('STRIKE', 'NNP'), ('UPDATEDNO', 'NNP'), ('CAST', 'NNP'), (',', ','), ('ONLY', 'NNP'), ('THROW', 'NNP'), ('Rengar', 'NNP'), ('can', 'MD'), ('now', 'RB'), ('throw', 'VB'), ('his', 'PRP$'), ('E', 'NNP'), ('-', ':'), ('Bola', 'NNP'), ('Strike', 'NNP'), ('instantly', 'RB'), ('(', '('), ('with', 'IN'), ('zero', 'CD'), ('cast', 'NN'), ('time', 'NN'), (')', ')'), ('during', 'IN'), ('leaps', 'JJ'), ('NEWPEEKABOO', 'NNP'), ('Now', 'RB'), ('grants', 'VBZ'), ('true', 'JJ'), ('sight', 'NN'), ('and', 'CC'), ('normal', 'JJ'), ('vision', 'NN'), ('150', 'CD'), ('units', 'NNS'), ('around', 'IN'), ('the', 'DT'), ('first', 'JJ'), ('enemy', 'NN'), ('hit', 'NN'), ('for', 'IN'), ('2', 'CD'), ('seconds', 'NNS'), ('R', 'NNP'), ('-', ':'), ('THRILL', 'NN'), ('OF', 'IN'), ('THE', 'NNP'), ('HUNT', 'NNP'), ('UPDATEDPREDATORY', 'NNP'), ('INSTINCT', 'NNP'), ('Now', 'RB'), ('grants', 'VBZ'), ('not', 'RB'), ('only', 'RB'), ('true', 'JJ'), ('sight', 'NN'), (',', ','), ('but', 'CC'), ('also', 'RB'), ('normal', 'JJ'), ('vision', 'NN'), ('100', 'CD'), ('units', 'NNS'), ('around', 'IN'), ('the', 'DT'), ('nearest', 'JJS'), ('enemy', 'NN'), ('TRYNDAMERE', 'NNP'), ('E', 'NNP'), ('cooldown', 'JJ'), ('reduction', 'NN'), ('per', 'IN'), ('crit', 'NN'), ('decreased', 'VBN'), ('.', '.'), ('R', 'NNP'), ('cooldown', 'NN'), ('increased', 'VBD'), ('.', '.'), ('Tryndamere', 'NNP'), ('is', 'VBZ'), ('too', 'RB'), ('strong', 'JJ'), ('at', 'IN'), ('the', 'DT'), ('highest', 'JJS'), ('levels', 'NNS'), ('of', 'IN'), ('play', 'NN'), ('.', '.'), ('His', 'PRP$'), ('kit', 'NN'), ('scales', 'NNS'), ('too', 'RB'), ('well', 'RB'), ('with', 'IN'), ('Ability', 'NNP'), ('Haste', 'NNP'), (',', ','), ('so', 'IN'), ('we', 'PRP'), (\"'re\", 'VBP'), ('readjusting', 'VBG'), ('his', 'PRP$'), ('cooldowns', 'NNS'), ('to', 'TO'), ('account', 'VB'), ('for', 'IN'), ('the', 'DT'), ('higher', 'JJR'), ('amounts', 'NNS'), ('of', 'IN'), ('Ability', 'NNP'), ('Haste', 'NNP'), ('available', 'JJ'), ('to', 'TO'), ('him', 'PRP'), ('through', 'IN'), ('items', 'NNS'), ('.', '.'), ('E', 'NNP'), ('-', ':'), ('SPINNING', 'NN'), ('SLASH', 'NNP'), ('COOLDOWN', 'NNP'), ('REDUCTION', 'NNP'), ('PER', 'NNP'), ('CRITICAL', 'NNP'), ('STRIKE', 'NNP'), ('1', 'CD'), ('second', 'NN'), ('(', '('), ('2', 'CD'), ('seconds', 'NNS'), ('against', 'IN'), ('champions', 'NNS'), (')', ')'), ('⇒', 'VBP'), ('0.75', 'CD'), ('seconds', 'NNS'), ('(', '('), ('1.5', 'CD'), ('seconds', 'NNS'), ('against', 'IN'), ('champions', 'NNS'), (')', ')'), ('R', 'NNP'), ('-', ':'), ('UNDYING', 'NN'), ('RAGE', 'NNP'), ('COOLDOWN', 'NNP'), ('110/100/90', 'CD'), ('seconds', 'NNS'), ('⇒', 'JJ'), ('130/110/90', 'CD'), ('seconds', 'NNS'), ('GANGPLANK', 'NNP'), ('Passive', 'NNP'), ('burn', 'NN'), ('base', 'NN'), ('damage', 'NN'), ('increased', 'VBD'), ('late', 'RB'), ('.', '.'), ('W', 'NNP'), ('mana', 'VBD'), ('cost', 'NN'), ('decreased', 'VBN'), ('.', '.'), ('Gangplank', 'NNP'), ('is', 'VBZ'), ('arrrguably', 'RB'), ('struggling', 'VBG'), ('at', 'IN'), ('all', 'DT'), ('levels', 'NNS'), ('of', 'IN'), ('play', 'NN'), ('.', '.'), ('He', 'PRP'), (\"'s\", 'VBZ'), ('already', 'RB'), ('got', 'VBN'), ('enough', 'JJ'), ('gunpowder', 'NN'), ('in', 'IN'), ('his', 'PRP$'), ('Q', 'NNP'), ('and', 'CC'), ('barrels', 'NNS'), (',', ','), ('so', 'IN'), ('we', 'PRP'), (\"'re\", 'VBP'), ('putting', 'VBG'), ('some', 'DT'), ('power', 'NN'), ('into', 'IN'), ('less', 'RBR'), ('explosive', 'JJ'), ('and', 'CC'), ('more…', 'JJ'), ('orange…', 'NN'), ('parts', 'NNS'), ('of', 'IN'), ('his', 'PRP$'), ('kit', 'NN'), ('.', '.'), ('PASSIVE', 'NNP'), ('-', ':'), ('TRIAL', 'NN'), ('BY', 'NNP'), ('FIRE', 'NNP'), ('BURN', 'NNP'), ('BASE', 'NNP'), ('DAMAGE', 'NNP'), ('55-225', 'JJ'), ('(', '('), ('levels', 'NNS'), ('1-18', 'CD'), (')', ')'), ('⇒', 'CD'), ('55-310', 'JJ'), ('(', '('), ('levels', 'NNS'), ('1-18', 'CD'), (')', ')'), ('W', 'NNP'), ('-', ':'), ('REMOVE', 'NNP'), ('SCURVY', 'NNP'), ('MANA', 'NNP'), ('COST', 'NNP'), ('80/90/100/110/120', 'CD'), ('⇒', 'VBD'), ('60/70/80/90/100', 'CD'), ('GWEN', 'NNP'), ('E', 'NNP'), ('cooldown', 'JJ'), ('refund', 'NN'), ('increased', 'VBD'), ('.', '.'), ('R', 'NNP'), ('cooldown', 'NN'), ('decreased', 'VBD'), ('early', 'RB'), ('.', '.'), ('Gwen', 'NNP'), (\"'s\", 'POS'), ('been', 'VBN'), ('hanging', 'VBG'), ('by', 'IN'), ('a', 'DT'), ('thread', 'NN'), ('after', 'IN'), ('her', 'PRP$'), ('most', 'RBS'), ('recent', 'JJ'), ('nerfs', 'NN'), (',', ','), ('so', 'IN'), ('we', 'PRP'), (\"'re\", 'VBP'), ('stitching', 'VBG'), ('her', 'PRP$'), ('up', 'RP'), ('with', 'IN'), ('some', 'DT'), ('cooldown', 'JJ'), ('buffs', 'NNS'), ('that', 'WDT'), ('should', 'MD'), ('help', 'VB'), ('her', 'PRP$'), ('across', 'IN'), ('all', 'DT'), ('skill', 'NN'), ('levels', 'NNS'), ('.', '.'), ('Needle-ss', 'NN'), ('to', 'TO'), ('say', 'VB'), (',', ','), ('we', 'PRP'), ('do', 'VBP'), (\"n't\", 'RB'), ('think', 'VB'), ('these', 'DT'), ('changes', 'NNS'), ('will', 'MD'), ('fully', 'RB'), ('address', 'VB'), ('her', 'PRP$'), ('issues', 'NNS'), (',', ','), ('but', 'CC'), ('we', 'PRP'), (\"'re\", 'VBP'), ('being', 'VBG'), ('extra', 'JJ'), ('careful', 'JJ'), ('considering', 'VBG'), ('her', 'PRP$'), ('pattern', 'NN'), ('of', 'IN'), ('dominating', 'VBG'), ('Pro', 'NNP'), ('.', '.'), ('E', 'NNP'), ('-', ':'), ('SKIP', 'NNP'), ('‘', 'NNP'), ('N', 'NNP'), ('SLASH', 'NNP'), ('COOLDOWN', 'NNP'), ('REFUND', 'NNP'), ('UPON', 'NNP'), ('FIRST', 'NNP'), ('BASIC', 'NNP'), ('ATTACK', 'NNP'), ('50', 'CD'), ('%', 'NN'), ('⇒', 'JJ'), ('60', 'CD'), ('%', 'NN'), ('R', 'NNP'), ('-', ':'), ('NEEDLEWORK', 'NNP'), ('COOLDOWN', 'NNP'), ('120/100/80', 'CD'), ('seconds', 'NNS'), ('⇒', 'JJ'), ('100/90/80', 'CD'), ('seconds', 'NNS'), ('JAYCE', 'NNP'), ('Base', 'NNP'), ('health', 'NN'), ('decreased', 'VBD'), (',', ','), ('health', 'NN'), ('growth', 'NN'), ('increased', 'VBD'), (',', ','), ('and', 'CC'), ('armor', 'RB'), ('adjusted', 'VBN'), ('.', '.'), ('Jayce', 'NNP'), ('has', 'VBZ'), ('also', 'RB'), ('been', 'VBN'), ('a', 'DT'), ('popular', 'JJ'), ('pick', 'NN'), ('in', 'IN'), ('Pro', 'NNP'), ('.', '.'), ('We', 'PRP'), (\"'re\", 'VBP'), ('lowering', 'VBG'), ('his', 'PRP$'), ('laning', 'VBG'), ('power', 'NN'), ('by', 'IN'), ('making', 'VBG'), ('him', 'PRP'), ('squishier', 'JJR'), ('early', 'RB'), ('on', 'IN'), (',', ','), ('but', 'CC'), ('increasing', 'VBG'), ('his', 'PRP$'), ('growth', 'NN'), ('to', 'TO'), ('make', 'VB'), ('sure', 'JJ'), ('he', 'PRP'), ('still', 'RB'), ('scales', 'VBZ'), ('to', 'TO'), ('late', 'JJ'), ('game', 'NN'), ('.', '.'), ('BASE', 'NNP'), ('STATS', 'NNP'), ('HEALTH', 'NNP'), ('GROWTH', 'NNP'), ('90', 'CD'), ('⇒', 'NNP'), ('95', 'CD'), ('BASE', 'NNP'), ('HEALTH', 'NNP'), ('560', 'CD'), ('⇒', 'NNP'), ('520', 'CD'), ('HEALTH', 'NNP'), ('560-2090', 'JJ'), ('(', '('), ('levels', 'NNS'), ('1-18', 'CD'), (')', ')'), ('⇒', 'CD'), ('520-2135', 'JJ'), ('(', '('), ('levels', 'NNS'), ('1-18', 'CD'), (')', ')'), ('BASE', 'NNP'), ('ARMOR', 'NNP'), ('27', 'CD'), ('⇒', 'VBD'), ('22', 'CD'), ('ARMOR', 'NNP'), ('GROWTH', 'NNP'), ('3.5', 'CD'), ('⇒', 'NN'), ('3.8', 'CD'), ('(', '('), ('armor', 'NN'), ('at', 'IN'), ('level', 'NN'), ('18', 'CD'), ('unchanged', 'JJ'), (')', ')'), ('KALISTA', 'NNP'), ('Base', 'NNP'), ('mana', 'NN'), (',', ','), ('move', 'VBP'), ('speed', 'NN'), (',', ','), ('and', 'CC'), ('attack', 'VBP'), ('speed', 'NN'), ('growth', 'NN'), ('increased', 'VBD'), ('.', '.'), ('Kalista', 'NNP'), ('hasn', 'JJ'), ('’', 'NNP'), ('t', 'NN'), ('been', 'VBN'), ('seen', 'VBN'), ('often', 'RB'), ('in', 'IN'), ('Pro', 'NNP'), ('this', 'DT'), ('season', 'NN'), (',', ','), ('and', 'CC'), ('is', 'VBZ'), ('generally', 'RB'), ('weak', 'JJ'), ('in', 'IN'), ('all', 'DT'), ('levels', 'NNS'), ('of', 'IN'), ('play', 'NN'), ('.', '.'), ('We', 'PRP'), (\"'re\", 'VBP'), ('buffing', 'VBG'), ('some', 'DT'), ('of', 'IN'), ('her', 'PRP$'), ('baseline', 'NN'), ('stats', 'NNS'), ('which', 'WDT'), ('should', 'MD'), ('especially', 'RB'), ('help', 'VB'), ('her', 'PRP'), ('out', 'RP'), ('in', 'IN'), ('Average', 'JJ'), ('play', 'NN'), ('.', '.'), ('Super', 'NNP'), ('speedy', 'NN'), ('spooky', 'NN'), ('spears', 'NNS'), ('incoming', 'VBG'), ('.', '.'), ('BASE', 'NNP'), ('STATS', 'NNP'), ('BASE', 'NNP'), ('MANA', 'NNP'), ('250', 'CD'), ('⇒', 'NN'), ('300', 'CD'), ('MOVE', 'NNP'), ('SPEED', 'NNP'), ('325', 'CD'), ('⇒', 'VBD'), ('330', 'CD'), ('ATTACK', 'NNP'), ('SPEED', 'NNP'), ('GROWTH', 'NNP'), ('4', 'CD'), ('%', 'NN'), ('⇒', 'JJ'), ('4.5', 'CD'), ('%', 'NN'), ('KARTHUS', 'NNP'), ('Q', 'NNP'), ('damage', 'NN'), ('against', 'IN'), ('monsters', 'NNS'), ('increased', 'VBD'), ('.', '.'), ('While', 'IN'), ('the', 'DT'), ('Deathsinger', 'NNP'), ('remains', 'VBZ'), ('powerful', 'JJ'), ('in', 'IN'), ('bot', 'NN'), ('lane', 'NN'), (',', ','), ('his', 'PRP$'), ('voice', 'NN'), ('has', 'VBZ'), ('been', 'VBN'), ('faltering', 'VBG'), ('in', 'IN'), ('the', 'DT'), ('jungle', 'NN'), ('.', '.'), ('We', 'PRP'), (\"'re\", 'VBP'), ('amping', 'VBG'), ('up', 'RP'), ('his', 'PRP$'), ('clear', 'JJ'), ('strength', 'NN'), ('to', 'TO'), ('bring', 'VB'), ('jungle', 'NN'), ('Karthus', 'NNP'), ('back', 'RB'), ('from', 'IN'), ('the', 'DT'), ('dead', 'JJ'), ('.', '.'), ('Q', 'NNP'), ('-', ':'), ('LAY', 'NNP'), ('WASTE', 'NNP'), ('DAMAGE', 'NNP'), ('AGAINST', 'NNP'), ('MONSTERS', 'NNP'), ('85', 'CD'), ('%', 'NN'), ('⇒', 'JJ'), ('95', 'CD'), ('%', 'NN'), ('LEE', 'NNP'), ('SIN', 'NNP'), ('Base', 'NNP'), ('AD', 'NNP'), ('decreased', 'VBD'), ('.', '.'), ('Q', 'NNP'), ('base', 'NN'), ('damage', 'NN'), ('decreased', 'VBN'), ('.', '.'), ('We', 'PRP'), (\"'re\", 'VBP'), ('looking', 'VBG'), ('(', '('), ('no', 'DT'), ('pun', 'NN'), ('intended', 'VBN'), (')', ')'), ('to', 'TO'), ('bring', 'VB'), ('down', 'RP'), ('Lee', 'NNP'), ('Sin', 'NNP'), (\"'s\", 'POS'), ('jungle', 'NN'), ('clear', 'JJ'), ('speed', 'NN'), ('and', 'CC'), ('early', 'JJ'), ('game', 'NN'), ('threat', 'NN'), ('in', 'IN'), ('order', 'NN'), ('to', 'TO'), ('reduce', 'VB'), ('his', 'PRP$'), ('impact', 'NN'), ('on', 'IN'), ('Pro', 'NNP'), ('play', 'NN'), ('.', '.'), ('We', 'PRP'), (\"'re\", 'VBP'), ('targeting', 'VBG'), ('his', 'PRP$'), ('base', 'NN'), ('damage', 'NN'), ('instead', 'RB'), ('of', 'IN'), ('his', 'PRP$'), ('cooldowns', 'NNS'), ('to', 'TO'), ('ensure', 'VB'), ('his', 'PRP$'), ('passive', 'NN'), (\"'s\", 'POS'), ('rhythm', 'NN'), ('remains', 'VBZ'), ('the', 'DT'), ('same', 'JJ'), ('.', '.'), ('BASE', 'NNP'), ('STATS', 'NNP'), ('BASE', 'NNP'), ('AD', 'NNP'), ('68', 'CD'), ('⇒', 'NNP'), ('66', 'CD'), ('Q', 'NNP'), ('-', ':'), ('SONIC', 'NNP'), ('WAVE', 'NNP'), ('/', 'NNP'), ('RESONATING', 'NNP'), ('STRIKE', 'NNP'), ('SONIC', 'NNP'), ('WAVE', 'NNP'), ('DAMAGE', 'NNP'), ('55/80/105/130/155', 'CD'), ('(', '('), ('+100', 'CD'), ('%', 'NN'), ('bonus', 'CC'), ('AD', 'NNP'), (')', ')'), ('⇒', 'VBZ'), ('50/75/100/125/150', 'CD'), ('(', '('), ('+100', 'CD'), ('%', 'NN'), ('bonus', 'CC'), ('AD', 'NNP'), (')', ')'), ('RESONATING', 'NN'), ('STRIKE', 'NNP'), ('MINIMUM', 'NNP'), ('DAMAGE', 'NNP'), ('55/80/105/130/155', 'CD'), ('(', '('), ('+100', 'CD'), ('%', 'NN'), ('bonus', 'CC'), ('AD', 'NNP'), (')', ')'), ('⇒', 'VBZ'), ('50/75/100/125/150', 'CD'), ('(', '('), ('+100', 'CD'), ('%', 'NN'), ('bonus', 'CC'), ('AD', 'NNP'), (')', ')'), ('RESONATING', 'NN'), ('STRIKE', 'NNP'), ('MAXIMUM', 'NNP'), ('DAMAGE', 'NNP'), ('110/160/210/260/310', 'CD'), ('(', '('), ('+200', 'CD'), ('%', 'NN'), ('bonus', 'CC'), ('AD', 'NNP'), (')', ')'), ('⇒', 'VBZ'), ('100/150/200/250/300', 'CD'), ('(', '('), ('+200', 'CD'), ('%', 'NN'), ('bonus', 'CC'), ('AD', 'NNP'), (')', ')'), ('LILLIA', 'NNP'), ('Passive', 'NNP'), ('healing', 'VBG'), ('against', 'IN'), ('champions', 'NNS'), ('increased', 'VBD'), ('.', '.'), ('W', 'NNP'), ('base', 'JJ'), ('damage', 'NN'), ('increased', 'VBD'), ('.', '.'), ('We', 'PRP'), (\"'re\", 'VBP'), ('giving', 'VBG'), ('Lillia', 'NNP'), ('some', 'DT'), ('more', 'RBR'), ('scaling', 'JJ'), ('sustain', 'NN'), ('with', 'IN'), ('her', 'PRP$'), ('AP', 'NNP'), ('builds', 'NN'), ('while', 'IN'), ('also', 'RB'), ('boosting', 'VBG'), ('her', 'PRP$'), ('early', 'JJ'), ('jungle', 'NN'), ('clear', 'JJ'), ('.', '.'), ('These', 'DT'), ('buffs', 'NNS'), ('should', 'MD'), ('give', 'VB'), ('her', 'PRP$'), ('W', 'NNP'), ('damage', 'NN'), ('a', 'DT'), ('bit', 'NN'), ('more', 'RBR'), ('oomph—or', 'JJ'), ('rather', 'RB'), (',', ','), ('eep', 'VB'), ('!', '.'), ('PASSIVE', 'NNP'), ('-', ':'), ('DREAM-LADEN', 'JJ'), ('BOUGH', 'NNP'), ('HEALING', 'NNP'), ('AGAINST', 'NNP'), ('CHAMPIONS', 'NNP'), ('12-140', 'JJ'), ('(', '('), ('levels', 'NNS'), ('1-18', 'CD'), (')', ')'), ('(', '('), ('+12', 'CD'), ('%', 'NN'), ('AP', 'NNP'), (')', ')'), ('⇒', 'VBZ'), ('12-140', 'JJ'), ('(', '('), ('levels', 'NNS'), ('1-18', 'CD'), (')', ')'), ('(', '('), ('+20', 'CD'), ('%', 'NN'), ('AP', 'NNP'), (')', ')'), ('W', 'NNP'), ('-', ':'), ('WATCH', 'VBD'), ('OUT', 'RP'), ('!', '.'), ('EEP', 'NN'), ('!', '.'), ('DAMAGE', 'NN'), ('70/90/110/130/150', 'CD'), ('(', '('), ('+35', 'CD'), ('%', 'NN'), ('AP', 'NNP'), (')', ')'), ('⇒', 'VBZ'), ('80/100/120/140/160', 'CD'), ('(', '('), ('+35', 'CD'), ('%', 'NN'), ('AP', 'NNP'), (')', ')'), ('NEEKO', 'NNP'), ('W', 'NNP'), ('passive', 'JJ'), ('base', 'NN'), ('damage', 'NN'), ('and', 'CC'), ('move', 'VB'), ('speed', 'NN'), ('increased', 'VBN'), ('.', '.'), ('Neeko', 'NNP'), (\"'s\", 'POS'), ('been', 'VBN'), ('hidden', 'VBN'), ('from', 'IN'), ('Pro', 'NNP'), ('play', 'FW'), ('despite', 'IN'), ('being', 'VBG'), ('a', 'DT'), ('strong', 'JJ'), ('tomato', 'NN'), ('in', 'IN'), ('solo', 'NN'), ('queue', 'NN'), ('.', '.'), ('Her', 'PRP$'), ('on-hit', 'JJ'), ('build', 'NN'), ('was', 'VBD'), ('quite', 'RB'), ('popular', 'JJ'), ('in', 'IN'), ('past', 'JJ'), ('metas', 'NNS'), (',', ','), ('so', 'IN'), ('we', 'PRP'), (\"'re\", 'VBP'), ('bringing', 'VBG'), ('it', 'PRP'), ('back', 'RB'), ('to', 'TO'), ('lure', 'VB'), ('the', 'DT'), ('Curious', 'NNP'), ('Chameleon', 'NNP'), ('out', 'IN'), ('of', 'IN'), ('hiding', 'NN'), ('!', '.'), ('W', 'NNP'), ('-', ':'), ('SHAPESPLITTER', 'NNP'), ('PASSIVE', 'NNP'), ('BONUS', 'NNP'), ('MAGIC', 'NNP'), ('DAMAGE', 'NNP'), ('50/70/90/110/130', 'CD'), ('(', '('), ('+60', 'CD'), ('%', 'NN'), ('AP', 'NNP'), (')', ')'), ('⇒', 'VBZ'), ('50/80/110/140/170', 'CD'), ('(', '('), ('+60', 'CD'), ('%', 'NN'), ('AP', 'NNP'), (')', ')'), ('PASSIVE', 'NNP'), ('BONUS', 'NNP'), ('MOVE', 'NNP'), ('SPEED', 'NNP'), ('10/15/20/25/30', 'CD'), ('%', 'NN'), ('⇒', 'JJ'), ('10/17.5/25/32.5/40', 'CD'), ('%', 'NN'), ('PANTHEON', 'NNP'), ('Base', 'NNP'), ('health', 'NN'), ('regen', 'NN'), ('decreased', 'VBN'), ('.', '.'), ('Tap', 'NNP'), ('Q', 'NNP'), ('range', 'NN'), ('increased', 'VBD'), ('and', 'CC'), ('width', 'NN'), ('decreased', 'VBN'), ('.', '.'), ('E', 'NNP'), ('self-slow', 'JJ'), ('no', 'RB'), ('longer', 'JJR'), ('applies', 'NNS'), ('when', 'WRB'), ('moving', 'VBG'), ('backwards', 'NNS'), ('.', '.'), ('R', 'NNP'), ('crash', 'NN'), ('now', 'RB'), ('lands', 'VBZ'), ('faster', 'RBR'), ('.', '.'), ('Pantheon', 'NNP'), ('has', 'VBZ'), (\"n't\", 'RB'), ('been', 'VBN'), ('living', 'VBG'), ('up', 'RP'), ('to', 'TO'), ('his', 'PRP$'), ('Spartan', 'NNP'), ('spirit', 'NN'), (',', ','), ('so', 'IN'), ('we', 'PRP'), (\"'re\", 'VBP'), ('sharpening', 'VBG'), ('his', 'PRP$'), ('spear', 'NN'), ('to', 'TO'), ('make', 'VB'), ('him', 'PRP'), ('feel', 'VB'), ('more', 'RBR'), ('like', 'IN'), ('the', 'DT'), ('paragon', 'NN'), ('of', 'IN'), ('Rakkor', 'NNP'), ('warriors', 'NNS'), ('.', '.'), ('Skilled', 'VBN'), ('Pantheon', 'NN'), ('players', 'NNS'), ('should', 'MD'), ('now', 'RB'), ('be', 'VB'), ('able', 'JJ'), ('to', 'TO'), ('showcase', 'VB'), ('their', 'PRP$'), ('strength', 'NN'), ('with', 'IN'), ('more', 'RBR'), ('timely', 'JJ'), ('ults', 'JJ'), (',', ','), ('more', 'RBR'), ('maneuverable', 'JJ'), ('shields', 'NNS'), (',', ','), ('and', 'CC'), ('better', 'JJR'), ('trading', 'NN'), ('tools', 'NNS'), ('.', '.'), ('BASE', 'NNP'), ('STATS', 'NNP'), ('BASE', 'NNP'), ('HEALTH', 'NNP'), ('REGENERATION', 'NNP'), ('9', 'CD'), ('⇒', 'VBD'), ('7.5', 'CD'), ('Q', 'NNP'), ('-', ':'), ('COMET', 'NN'), ('SPEAR', 'NNP'), ('TAP', 'NNP'), ('Q', 'NNP'), ('LENGTH', 'NNP'), ('550', 'CD'), ('units', 'NNS'), ('⇒', 'RB'), ('600', 'CD'), ('units', 'NNS'), ('TAP', 'NNP'), ('Q', 'NNP'), ('WIDTH', 'NNP'), ('150', 'CD'), ('units', 'NNS'), ('⇒', 'RB'), ('120', 'CD'), ('units', 'NNS'), ('E', 'NNP'), ('-', ':'), ('AEGIS', 'NNP'), ('ASSAULT', 'NNP'), ('REMOVEDSTEADFAST', 'NNP'), ('SHIELDING', 'NNP'), ('Pantheon', 'NNP'), ('is', 'VBZ'), ('no', 'RB'), ('longer', 'RB'), ('slowed', 'VB'), ('if', 'IN'), ('moving', 'JJ'), ('backwards', 'NNS'), ('while', 'IN'), ('E', 'NNP'), ('-', ':'), ('Aegis', 'NNP'), ('Assault', 'NNP'), ('is', 'VBZ'), ('active', 'JJ'), ('R', 'NNP'), ('-', ':'), ('GRAND', 'NNP'), ('STARFALL', 'NNP'), ('UPDATEDCRASH', 'NNP'), ('LANDING', 'NNP'), ('ON', 'NNP'), ('YOU', 'NNP'), ('Pantheon', 'NNP'), ('now', 'RB'), ('crashes', 'VBZ'), ('down', 'RP'), ('on', 'IN'), ('his', 'PRP$'), ('destination', 'NN'), ('0.25', 'CD'), ('seconds', 'NNS'), ('sooner', 'RBR'), ('RENGAR', 'NNP'), ('Q', 'NNP'), ('bonus', 'NN'), ('damage', 'NN'), ('against', 'IN'), ('structures', 'NNS'), ('reduced', 'VBN'), ('.', '.'), ('W', 'NNP'), ('bonus', 'JJ'), ('damage', 'NN'), ('against', 'IN'), ('monsters', 'NNS'), ('increased', 'VBD'), ('.', '.'), ('Rengar', 'NNP'), (\"'s\", 'POS'), ('become', 'NN'), ('a', 'DT'), ('serious', 'JJ'), ('destroyer', 'NN'), ('of', 'IN'), ('furniture', 'NN'), ('structures', 'NNS'), ('after', 'IN'), ('his', 'PRP$'), ('most', 'RBS'), ('recent', 'JJ'), ('changes', 'NNS'), ('.', '.'), ('This', 'DT'), ('is', 'VBZ'), ('a', 'DT'), ('new', 'JJ'), ('and', 'CC'), ('flexible', 'JJ'), ('strength', 'NN'), ('in', 'IN'), ('his', 'PRP$'), ('kit', 'NN'), ('that', 'IN'), ('we', 'PRP'), ('want', 'VBP'), ('to', 'TO'), ('preserve', 'VB'), (',', ','), ('but', 'CC'), ('he', 'PRP'), (\"'s\", 'VBZ'), ('taking', 'VBG'), ('down', 'RP'), ('those', 'DT'), ('(', '('), ('scratching', 'VBG'), (')', ')'), ('towers', 'NNS'), ('a', 'DT'), ('bit', 'RB'), ('too', 'RB'), ('fast', 'RB'), (',', ','), ('so', 'IN'), ('we', 'PRP'), (\"'re\", 'VBP'), ('tapping', 'VBG'), ('down', 'RP'), ('the', 'DT'), ('damage', 'NN'), ('on', 'IN'), ('that', 'DT'), ('part', 'NN'), ('of', 'IN'), ('his', 'PRP$'), ('Q', 'NNP'), ('.', '.'), ('We', 'PRP'), (\"'re\", 'VBP'), ('also', 'RB'), ('bumping', 'VBG'), ('up', 'RP'), ('his', 'PRP$'), ('damage', 'NN'), ('against', 'IN'), ('monsters', 'NNS'), ('to', 'TO'), ('compensate', 'VB'), ('for', 'IN'), ('some', 'DT'), ('of', 'IN'), ('the', 'DT'), ('clear', 'JJ'), ('speed', 'NN'), ('he', 'PRP'), ('lost', 'VBD'), ('because', 'IN'), ('of', 'IN'), ('the', 'DT'), ('changes', 'NNS'), ('to', 'TO'), ('Q', 'NNP'), ('against', 'IN'), ('plants', 'NNS'), ('last', 'JJ'), ('patch', 'NN'), ('.', '.'), ('Q', 'NNP'), ('-', ':'), ('SAVAGERY', 'NNP'), ('NEWKITTEN', 'NNP'), ('MITTENS', 'NNP'), ('Q', 'NNP'), ('-', ':'), ('Savagery', 'NN'), (\"'s\", 'POS'), ('bonus', 'NN'), ('damage', 'NN'), ('is', 'VBZ'), ('reduced', 'VBN'), ('by', 'IN'), ('40', 'CD'), ('%', 'NN'), ('against', 'IN'), ('structures', 'NNS'), ('W', 'NNP'), ('-', ':'), ('BATTLE', 'NNP'), ('ROAR', 'NNP'), ('BONUS', 'NNP'), ('MAGIC', 'NNP'), ('DAMAGE', 'NNP'), ('AGAINST', 'NNP'), ('MONSTERS', 'NNP'), ('65-130', 'JJ'), ('(', '('), ('levels', 'NNS'), ('1-18', 'CD'), (')', ')'), ('⇒', 'CD'), ('85-150', 'JJ'), ('(', '('), ('levels', 'NNS'), ('1-18', 'CD'), (')', ')'), ('BUGFIXES', 'NNP'), ('Fixed', 'NNP'), ('a', 'DT'), ('bug', 'NN'), ('where', 'WRB'), ('Gromp', 'NNP'), ('did', 'VBD'), ('not', 'RB'), ('grant', 'VB'), ('Rengar', 'NNP'), ('a', 'DT'), ('stack', 'NN'), ('of', 'IN'), ('Ferocity', 'NNP'), ('RYZE', 'NNP'), ('Q', 'NNP'), ('damage', 'NN'), ('AP', 'NNP'), ('ratio', 'NN'), ('increased', 'VBD'), (';', ':'), ('bonus', 'CC'), ('mana', 'VB'), ('ratio', 'NN'), ('decreased', 'VBN'), ('.', '.'), ('Ryze', 'NNP'), (\"'s\", 'POS'), ('tank', 'NN'), ('builds', 'NNS'), ('make', 'VBP'), ('him', 'PRP'), ('a', 'DT'), ('safe', 'JJ'), ('yet', 'RB'), ('potent', 'JJ'), ('split', 'NN'), ('pusher', 'RB'), ('by', 'IN'), ('allowing', 'VBG'), ('him', 'PRP'), ('to', 'TO'), ('stack', 'VB'), ('health', 'NN'), ('while', 'IN'), ('dealing', 'VBG'), ('carry', 'JJ'), ('levels', 'NNS'), ('of', 'IN'), ('damage', 'NN'), (',', ','), ('making', 'VBG'), ('him', 'PRP'), ('particularly', 'RB'), ('lethal', 'RBR'), ('in', 'IN'), ('Pro', 'NNP'), ('play', 'NN'), ('.', '.'), ('The', 'DT'), ('mid-patch', 'JJ'), ('12.5', 'CD'), ('nerfs', 'NN'), ('did', 'VBD'), (\"n't\", 'RB'), ('quite', 'RB'), ('do', 'VB'), ('the', 'DT'), ('job', 'NN'), ('at', 'IN'), ('refining', 'VBG'), ('his', 'PRP$'), ('hypercarry', 'NN'), ('identity', 'NN'), (',', ','), ('so', 'IN'), ('we', 'PRP'), (\"'re\", 'VBP'), ('shifting', 'VBG'), ('his', 'PRP$'), ('mana', 'NN'), ('scaling', 'NN'), ('to', 'TO'), ('incentivize', 'VB'), ('him', 'PRP'), ('to', 'TO'), ('build', 'VB'), ('a', 'DT'), ('few', 'JJ'), ('more', 'JJR'), ('AP', 'JJ'), ('items', 'NNS'), ('before', 'IN'), ('stacking', 'VBG'), ('health', 'NN'), ('items', 'NNS'), ('like', 'IN'), ('Winter', 'NNP'), ('’', 'NNP'), ('s', 'NN'), ('Approach', 'NNP'), ('(', '('), ('which', 'WDT'), ('will', 'MD'), ('also', 'RB'), ('be', 'VB'), ('receiving', 'VBG'), ('nerfs', 'IN'), ('this', 'DT'), ('patch', 'NN'), (')', ')'), ('.', '.'), ('Q', 'NNP'), ('-', ':'), ('OVERLOAD', 'NNP'), ('MAGIC', 'NNP'), ('DAMAGE', 'NNP'), ('70/90/110/130/150', 'CD'), ('(', '('), ('+45', 'CD'), ('%', 'NN'), ('AP', 'NNP'), (')', ')'), ('(', '('), ('+3', 'CD'), ('%', 'NN'), ('bonus', 'CC'), ('mana', 'NN'), (')', ')'), ('⇒', 'VBZ'), ('70/90/110/130/150', 'CD'), ('(', '('), ('+50', 'CD'), ('%', 'NN'), ('AP', 'NNP'), (')', ')'), ('(', '('), ('+2', 'CD'), ('%', 'NN'), ('bonus', 'CC'), ('mana', 'NN'), (')', ')'), ('WUKONG', 'NNP'), ('Q', 'NNP'), ('cooldown', 'NN'), ('decreased', 'VBD'), ('.', '.'), ('W', 'NNP'), ('cooldown', 'JJ'), ('decreased', 'VBD'), ('late', 'RB'), (';', ':'), ('dash', 'NNS'), ('can', 'MD'), ('now', 'RB'), ('go', 'VB'), ('through', 'IN'), ('terrain', 'NN'), ('.', '.'), ('E', 'NNP'), ('AP', 'NNP'), ('ratio', 'NN'), ('and', 'CC'), ('damage', 'NN'), ('against', 'IN'), ('monsters', 'NNS'), ('increased', 'VBD'), ('.', '.'), ('Wukong', 'NNP'), ('has', 'VBZ'), (\"n't\", 'RB'), ('been', 'VBN'), ('seen', 'VBN'), ('in', 'IN'), ('Pro', 'NNP'), ('much', 'RB'), ('despite', 'IN'), ('having', 'VBG'), ('a', 'DT'), ('theoretically', 'RB'), ('good', 'JJ'), ('matchup', 'NN'), ('into', 'IN'), ('meta', 'JJ'), ('staples', 'NNS'), ('like', 'IN'), ('Jayce', 'NNP'), ('and', 'CC'), ('Graves', 'NNP'), ('.', '.'), ('We', 'PRP'), (\"'re\", 'VBP'), ('helping', 'VBG'), ('him', 'PRP'), ('claim', 'VB'), ('his', 'PRP$'), ('place', 'NN'), ('in', 'IN'), ('top', 'JJ'), ('lane', 'NN'), ('while', 'IN'), ('also', 'RB'), ('reinvigorating', 'VBG'), ('jungle', 'NN'), ('Wu', 'NNP'), ('so', 'IN'), ('he', 'PRP'), ('can', 'MD'), ('be', 'VB'), ('a', 'DT'), ('viable', 'JJ'), ('counter', 'NN'), ('or', 'CC'), ('flex', 'JJ'), ('pick', 'NN'), ('.', '.'), ('Q', 'NNP'), ('-', ':'), ('CRUSHING', 'NN'), ('BLOW', 'NNP'), ('COOLDOWN', 'NNP'), ('9/8.5/8/7.5/7', 'CD'), ('seconds', 'NNS'), ('⇒', 'JJ'), ('8/7.5/7/6.5/6', 'CD'), ('seconds', 'NNS'), ('W', 'NNP'), ('-', ':'), ('WARRIOR', 'NNP'), ('TRICKSTER', 'NNP'), ('COOLDOWN', 'NNP'), ('20/19/18/17/16', 'CD'), ('seconds', 'NNS'), ('⇒', 'JJ'), ('20/18/16/14/12', 'CD'), ('seconds', 'NNS'), ('NEWTO', 'NNP'), ('THE', 'NNP'), ('WINDOWS', 'NNP'), (',', ','), ('THROUGH', 'IN'), ('THE', 'NNP'), ('WALLS', 'NNP'), ('Wukong', 'NNP'), ('can', 'MD'), ('now', 'RB'), ('dash', 'VB'), ('through', 'IN'), ('terrain', 'NN'), ('using', 'VBG'), ('W', 'NNP'), ('-', ':'), ('Warrior', 'JJ'), ('Trickster', 'NNP'), ('E', 'NNP'), ('-', ':'), ('NIMBUS', 'NN'), ('STRIKE', 'NNP'), ('MAGIC', 'NNP'), ('DAMAGE', 'NNP'), ('80/110/140/170/200', 'CD'), ('(', '('), ('+80', 'CD'), ('%', 'NN'), ('AP', 'NNP'), (')', ')'), ('⇒', 'VBZ'), ('80/110/140/170/200', 'CD'), ('(', '('), ('+100', 'CD'), ('%', 'NN'), ('AP', 'NNP'), (')', ')'), ('BONUS', 'NNP'), ('MAGIC', 'NNP'), ('DAMAGE', 'NNP'), ('AGAINST', 'NNP'), ('MONSTERS', 'NNP'), ('50', 'CD'), ('%', 'NN'), ('⇒', 'JJ'), ('80', 'CD'), ('%', 'NN'), ('YASUO', 'NNP'), ('Base', 'NNP'), ('health', 'NN'), ('increased', 'VBD'), ('.', '.'), ('R', 'NNP'), ('cooldown', 'NN'), ('decreased', 'VBD'), ('early', 'RB'), ('.', '.'), ('Despite', 'IN'), ('my', 'PRP$'), ('match', 'NN'), ('history', 'NN'), (',', ','), ('Yasuo', 'NNP'), ('and', 'CC'), ('Yone', 'NNP'), ('have', 'VBP'), ('been', 'VBN'), ('relatively', 'RB'), ('weak', 'JJ'), ('(', '('), ('and', 'CC'), ('the', 'DT'), ('sustain', 'NN'), ('nerfs', 'NN'), ('in', 'IN'), ('12.6', 'CD'), ('didn', 'NN'), ('’', 'NNP'), ('t', 'NN'), ('do', 'VBP'), ('them', 'PRP'), ('any', 'DT'), ('favors', 'NNS'), ('either', 'CC'), (')', ')'), ('.', '.'), ('Rather', 'JJR'), ('than', 'IN'), ('increasing', 'VBG'), ('their', 'PRP$'), ('damage', 'NN'), (',', ','), ('we', 'PRP'), (\"'re\", 'VBP'), ('giving', 'VBG'), ('the', 'DT'), ('wind', 'NN'), ('brothers', 'NNS'), ('more', 'RBR'), ('opportunity', 'NN'), ('to', 'TO'), ('flex', 'VB'), ('their', 'PRP$'), ('skills', 'NNS'), ('.', '.'), ('For', 'IN'), ('Yasuo', 'NNP'), (',', ','), ('we', 'PRP'), (\"'re\", 'VBP'), ('increasing', 'VBG'), ('his', 'PRP$'), ('early', 'JJ'), ('combat', 'NN'), ('durability', 'NN'), ('and', 'CC'), ('ability', 'NN'), ('to', 'TO'), ('synergize', 'VB'), ('with', 'IN'), ('teammates', 'NNS'), ('during', 'IN'), ('laning', 'VBG'), ('phase', 'NN'), ('.', '.'), ('BASE', 'NNP'), ('STATS', 'NNP'), ('HEALTH', 'NNP'), ('490', 'CD'), ('⇒', 'NN'), ('520', 'CD'), ('R', 'NNP'), ('-', ':'), ('LAST', 'NNP'), ('BREATH', 'NNP'), ('COOLDOWN', 'NNP'), ('80/55/30', 'CD'), ('seconds', 'NNS'), ('⇒', 'JJ'), ('70/50/30', 'CD'), ('seconds', 'NNS'), ('YONE', 'NNP'), ('R', 'NNP'), ('cooldown', 'RB'), ('decreased', 'VBD'), ('late', 'JJ'), ('.', '.'), ('Yone', 'NN'), ('is', 'VBZ'), ('also', 'RB'), ('getting', 'VBG'), ('more', 'JJR'), ('access', 'NN'), ('to', 'TO'), ('his', 'PRP$'), ('ult', 'NN'), (',', ','), ('but', 'CC'), ('with', 'IN'), ('a', 'DT'), ('focus', 'NN'), ('on', 'IN'), ('late', 'JJ'), ('game', 'NN'), ('which', 'WDT'), ('is', 'VBZ'), ('when', 'WRB'), ('it', 'PRP'), (\"'s\", 'VBZ'), ('usually', 'RB'), ('harder', 'VBN'), ('for', 'IN'), ('him', 'PRP'), ('to', 'TO'), ('close', 'VB'), ('gaps', 'NNS'), ('(', '('), ('unless', 'IN'), ('he', 'PRP'), (\"'s\", 'VBZ'), ('already', 'RB'), ('extremely', 'RB'), ('far', 'RB'), ('ahead', 'RB'), (')', ')'), ('.', '.'), ('R', 'NNP'), ('-', ':'), ('FATE', 'NN'), ('SEALED', 'NNP'), ('COOLDOWN', 'NNP'), ('120/100/80', 'CD'), ('seconds', 'NNS'), ('⇒', 'JJ'), ('120/90/60', 'CD'), ('seconds', 'NNS'), ('ZERI', 'JJ'), ('Base', 'NNP'), ('AD', 'NNP'), (',', ','), ('AD', 'NNP'), ('growth', 'NN'), (',', ','), ('and', 'CC'), ('armor', 'NN'), ('decreased', 'VBD'), (';', ':'), ('health', 'NN'), ('growth', 'NN'), ('increased', 'VBD'), ('.', '.'), ('Q', 'NNP'), ('base', 'NN'), ('damage', 'NN'), ('decreased', 'VBN'), (',', ','), ('AD', 'NNP'), ('ratio', 'NN'), ('increased', 'VBD'), (';', ':'), ('now', 'RB'), ('applies', 'VBZ'), ('on-hit', 'JJ'), ('effects', 'NNS'), ('only', 'RB'), ('once', 'RB'), ('per', 'IN'), ('cast', 'NN'), (';', ':'), ('now', 'RB'), ('grants', 'VBZ'), ('at', 'IN'), ('most', 'JJS'), ('one', 'CD'), ('R', 'NNP'), ('stack', 'NN'), ('and', 'CC'), ('E', 'NNP'), ('cooldown', 'JJ'), ('reduction', 'NN'), ('once', 'RB'), ('per', 'IN'), ('cast', 'NN'), (',', ','), ('but', 'CC'), ('crits', 'NNS'), ('can', 'MD'), ('grant', 'VB'), ('one', 'CD'), ('more', 'JJR'), ('of', 'IN'), ('each', 'DT'), ('.', '.'), ('W', 'NNP'), ('base', 'NN'), ('damage', 'NN'), ('decreased', 'VBN'), (',', ','), ('AD', 'NNP'), ('and', 'CC'), ('AP', 'NNP'), ('ratio', 'NN'), ('increased', 'VBD'), ('.', '.'), ('E', 'NNP'), ('cooldown', 'NN'), ('increased', 'VBD'), ('early', 'JJ'), ('and', 'CC'), ('decreases', 'VBZ'), ('with', 'IN'), ('rank', 'NN'), ('again', 'RB'), ('.', '.'), ('R', 'NNP'), ('cooldown', 'NN'), ('increased', 'VBD'), ('early', 'JJ'), ('and', 'CC'), ('decreased', 'JJ'), ('late', 'RB'), ('.', '.'), ('Zeri', 'NNP'), (',', ','), ('Zeri', 'NNP'), (',', ','), ('you', 'PRP'), ('’', 'VBP'), ('ve', 'RB'), ('been', 'VBN'), ('a', 'DT'), ('little', 'JJ'), ('too', 'RB'), ('unfair-y', 'JJ'), ('.', '.'), ('Despite', 'IN'), ('the', 'DT'), ('nerfs', 'NN'), ('in', 'IN'), ('previous', 'JJ'), ('patches', 'NNS'), (',', ','), ('Zeri', 'NNP'), ('has', 'VBZ'), ('been', 'VBN'), ('shockingly', 'RB'), ('resilient', 'JJ'), ('and', 'CC'), ('continues', 'VBZ'), ('to', 'TO'), ('dominate', 'VB'), ('Pro', 'NNP'), ('play', 'NN'), ('.', '.'), ('With', 'IN'), ('this', 'DT'), ('round', 'NN'), ('of', 'IN'), ('nerfs', 'NN'), (',', ','), ('we', 'PRP'), ('’', 'VBP'), ('re', 'JJ'), ('aiming', 'VBG'), ('to', 'TO'), ('bring', 'VB'), ('her', 'PRP$'), ('bruiser', 'NN'), ('build', 'NN'), ('more', 'RBR'), ('in', 'IN'), ('line', 'NN'), ('with', 'IN'), ('her', 'PRP$'), ('crit', 'NN'), ('build', 'NN'), (',', ','), ('as', 'RB'), ('well', 'RB'), ('as', 'IN'), ('make', 'VB'), ('her', 'PRP$'), ('stacks', 'NNS'), ('and', 'CC'), ('on-hits', 'NNS'), ('more', 'RBR'), ('predictable', 'JJ'), ('.', '.'), ('This', 'DT'), ('should', 'MD'), ('give', 'VB'), ('enemies', 'NNS'), ('more', 'JJR'), ('time', 'NN'), ('to', 'TO'), ('catch', 'VB'), ('Zeri', 'NNP'), ('before', 'IN'), ('she', 'PRP'), ('starts', 'VBZ'), ('zipping', 'VBG'), ('circles', 'NNS'), ('around', 'IN'), ('them', 'PRP'), ('.', '.'), ('BASE', 'NNP'), ('STATS', 'NNP'), ('AD', 'NNP'), ('GROWTH', 'NNP'), ('2', 'CD'), ('⇒', 'NNP'), ('1.5', 'CD'), ('ATTACK', 'NNP'), ('DAMAGE', 'NNP'), ('53-87', 'JJ'), ('(', '('), ('levels', 'NNS'), ('1-18', 'CD'), (')', ')'), ('⇒', 'CD'), ('50-75.5', 'JJ'), ('(', '('), ('levels', 'NNS'), ('1-18', 'CD'), (')', ')'), ('BASE', 'NNP'), ('ARMOR', 'NNP'), ('22', 'CD'), ('⇒', 'NNP'), ('20', 'CD'), ('HEALTH', 'NNP'), ('GROWTH', 'NNP'), ('90', 'CD'), ('⇒', 'NNP'), ('95', 'CD'), ('HEALTH', 'NNP'), ('AT', 'NNP'), ('LEVEL', 'NNP'), ('18', 'CD'), ('2030', 'CD'), ('⇒', 'NN'), ('2115', 'CD'), ('Q', 'NNP'), ('-', ':'), ('BURST', 'NNP'), ('FIRE', 'NNP'), ('TOTAL', 'NNP'), ('PHYSICAL', 'NNP'), ('DAMAGE', 'NNP'), ('10/15/20/25/30', 'CD'), ('(', '('), ('+110', 'CD'), ('%', 'NN'), ('total', 'JJ'), ('AD', 'NNP'), (')', ')'), ('⇒', 'VBZ'), ('7/9/11/13/15', 'CD'), ('(', '('), ('+110/112.5/115/117.5/120', 'CD'), ('%', 'NN'), ('total', 'JJ'), ('AD', 'NNP'), (')', ')'), ('UPDATEDONCE', 'NNP'), ('UPON', 'IN'), ('A', 'NNP'), ('CAST', 'NNP'), ('Q', 'NNP'), ('-', ':'), ('Burst', 'NNP'), ('Fire', 'NNP'), ('now', 'RB'), ('only', 'RB'), ('applies', 'VBZ'), ('on-hit', 'JJ'), ('effects', 'NNS'), ('once', 'RB'), ('per', 'IN'), ('cast', 'NN'), ('UPDATEDNOT', 'NNP'), ('SO', 'NNP'), ('FAST', 'NNP'), ('Zeri', 'NNP'), ('can', 'MD'), ('now', 'RB'), ('only', 'RB'), ('gain', 'VB'), ('one', 'CD'), ('stack', 'NN'), ('of', 'IN'), ('R', 'NNP'), ('-', ':'), ('Lightning', 'VBG'), ('Crash', 'NNP'), ('and', 'CC'), ('one', 'CD'), ('instance', 'NN'), ('of', 'IN'), ('E', 'NNP'), ('-', ':'), ('Spark', 'NNP'), ('Surge', 'NNP'), ('cooldown', 'JJ'), ('reduction', 'NN'), ('per', 'IN'), ('Q', 'NNP'), ('-', ':'), ('Burst', 'NNP'), ('Fire', 'NNP'), ('cast', 'NN'), ('(', '('), ('excluding', 'VBG'), ('critical', 'JJ'), ('strikes', 'NNS'), (')', ')'), ('NEWDOUBLE', 'VBP'), ('THE', 'DT'), ('SHOCK', 'NNP'), ('Critical', 'NNP'), ('strikes', 'NNS'), ('on', 'IN'), ('Q', 'NNP'), ('-', ':'), ('Burst', 'NNP'), ('Fire', 'NNP'), ('grant', 'NN'), ('Zeri', 'NNP'), ('an', 'DT'), ('additional', 'JJ'), ('R', 'NNP'), ('-', ':'), ('Lightning', 'VBG'), ('Crash', 'NNP'), ('stack', 'NN'), ('and', 'CC'), ('an', 'DT'), ('additional', 'JJ'), ('instance', 'NN'), ('of', 'IN'), ('E', 'NNP'), ('-', ':'), ('Spark', 'NNP'), ('Surge', 'NNP'), ('’', 'NNP'), ('s', 'VBD'), ('cooldown', 'JJ'), ('reduction', 'NN'), ('(', '('), ('at', 'IN'), ('most', 'JJS'), ('two', 'CD'), ('procs', 'NN'), ('per', 'IN'), ('cast', 'NN'), (':', ':'), ('one', 'CD'), ('for', 'IN'), ('Q', 'NNP'), ('upon', 'IN'), ('hitting', 'VBG'), ('a', 'DT'), ('champion', 'NN'), ('and', 'CC'), ('another', 'DT'), ('if', 'IN'), ('it', 'PRP'), ('crits', 'VBZ'), ('on', 'IN'), ('a', 'DT'), ('champion', 'NN'), (')', ')'), ('W', 'NNP'), ('-', ':'), ('ULTRASHOCK', 'NNP'), ('LASER', 'NNP'), ('MAGIC', 'NNP'), ('DAMAGE', 'NNP'), ('40/75/110/145/180', 'CD'), ('(', '('), ('+100', 'CD'), ('%', 'NN'), ('total', 'JJ'), ('AD', 'NNP'), (')', ')'), ('(', '('), ('+60', 'CD'), ('%', 'NN'), ('AP', 'NNP'), (')', ')'), ('⇒', 'VBZ'), ('10/45/80/115/150', 'CD'), ('(', '('), ('+120', 'CD'), ('%', 'NN'), ('total', 'JJ'), ('AD', 'NNP'), (')', ')'), ('(', '('), ('+70', 'CD'), ('%', 'NN'), ('AP', 'NNP'), (')', ')'), ('E', 'NNP'), ('-', ':'), ('SPARK', 'NNP'), ('SURGE', 'NNP'), ('COOLDOWN', 'NNP'), ('23', 'CD'), ('seconds', 'NNS'), ('⇒', 'JJ'), ('28/26.5/25/23.5/22', 'CD'), ('seconds', 'NNS'), ('R', 'NNP'), ('-', ':'), ('LIGHTNING', 'NN'), ('CRASH', 'NNP'), ('COOLDOWN', 'NNP'), ('100/90/80', 'CD'), ('seconds', 'NNS'), ('⇒', 'JJ'), ('120/95/70', 'CD'), ('seconds', 'NNS')]\n"
          ]
        }
      ]
    },
    {
      "cell_type": "code",
      "source": [
        "#komo=pos_tag()\n",
        "def komo_tokenizer(sent):\n",
        "  words=pos_tag(sent)\n",
        "  words=[w for w in words if ('NN' in w or 'VBD' in w or 'JJ' in w or 'NNP' in w)] \n",
        "  return words\n"
      ],
      "metadata": {
        "id": "2H4QNzxdfH3j"
      },
      "execution_count": 53,
      "outputs": []
    },
    {
      "cell_type": "code",
      "source": [
        "pip install textrank"
      ],
      "metadata": {
        "colab": {
          "base_uri": "https://localhost:8080/"
        },
        "id": "3cNiIRGZgS5q",
        "outputId": "b86db424-3c0f-4ab3-c73c-807bf4474207"
      },
      "execution_count": 72,
      "outputs": [
        {
          "output_type": "stream",
          "name": "stdout",
          "text": [
            "Requirement already satisfied: textrank in /usr/local/lib/python3.7/dist-packages (0.1.0)\n"
          ]
        }
      ]
    },
    {
      "cell_type": "code",
      "source": [
        "from textrank import KeywordSummarizer\n"
      ],
      "metadata": {
        "colab": {
          "base_uri": "https://localhost:8080/",
          "height": 344
        },
        "id": "l2ePgAY6lLAQ",
        "outputId": "f627cb71-3694-4b08-b424-b7998f0f6011"
      },
      "execution_count": 71,
      "outputs": [
        {
          "output_type": "error",
          "ename": "ImportError",
          "evalue": "ignored",
          "traceback": [
            "\u001b[0;31m---------------------------------------------------------------------------\u001b[0m",
            "\u001b[0;31mImportError\u001b[0m                               Traceback (most recent call last)",
            "\u001b[0;32m<ipython-input-71-a69be11de436>\u001b[0m in \u001b[0;36m<module>\u001b[0;34m()\u001b[0m\n\u001b[0;32m----> 1\u001b[0;31m \u001b[0;32mfrom\u001b[0m \u001b[0mtextrank\u001b[0m \u001b[0;32mimport\u001b[0m \u001b[0mKeywordSummarizer\u001b[0m\u001b[0;34m\u001b[0m\u001b[0;34m\u001b[0m\u001b[0m\n\u001b[0m",
            "\u001b[0;31mImportError\u001b[0m: cannot import name 'KeywordSummarizer' from 'textrank' (/usr/local/lib/python3.7/dist-packages/textrank.py)",
            "",
            "\u001b[0;31m---------------------------------------------------------------------------\u001b[0;32m\nNOTE: If your import is failing due to a missing package, you can\nmanually install dependencies using either !pip or !apt.\n\nTo view examples of installing some common dependencies, click the\n\"Open Examples\" button below.\n\u001b[0;31m---------------------------------------------------------------------------\u001b[0m\n"
          ],
          "errorDetails": {
            "actions": [
              {
                "action": "open_url",
                "actionText": "Open Examples",
                "url": "/notebooks/snippets/importing_libraries.ipynb"
              }
            ]
          }
        }
      ]
    },
    {
      "cell_type": "code",
      "source": [
        "from gensim.summarization.summarizer import summarize\n"
      ],
      "metadata": {
        "id": "67TwFqNDgtct"
      },
      "execution_count": 56,
      "outputs": []
    },
    {
      "cell_type": "code",
      "source": [
        "print(summarize(text))"
      ],
      "metadata": {
        "colab": {
          "base_uri": "https://localhost:8080/"
        },
        "id": "HB7zAxmug0u5",
        "outputId": "b183fbcc-158f-4c19-cdfe-f282d9821c39"
      },
      "execution_count": 58,
      "outputs": [
        {
          "output_type": "stream",
          "name": "stdout",
          "text": [
            "His lack of Pro presence in a scaling meta that should favor him was the final confirmation, so we're giving him some base stat power that should help the Emperor of Shurima in all skill brackets.\n",
            "Darius has been lagging behind other juggernauts after the fighter item changes, so we're giving him a beefy damage boost.\n",
            "(As a reminder, his ult's total damage can increase by up to 100% based on his passive stacks.) \n",
            "Q and E base damage decreased late.\n",
            "Tankarim is taking over Pro again, so we're nerfing the base damage on some of his abilities to ensure fairer horseplay.\n",
            "BASE DAMAGE 60/97/134/171/208 (+85% bonus AD) ⇒ 60/90/120/150/180 (+85% bonus AD)\n",
            "When Illaoi attacks a Vessel while empowered by W - Harsh Lesson, nearby inactive Tentacles will now slam her target as soon as they become active (short delay removed)\n",
            "Human W cost decreased; E mana cost decreased late and cast range increased.\n",
            "Cougar W damage radius increased.\n",
            "Lastly, her heal cast range was pretty restrictive (especially for a character with so many other positioning constraints), so we're increasing it to match that of her Bushwhack trap placement.\n",
            "Q basic attacks now always crit; damage now scales with crit chance; now applies against towers; no longer applies against plants.\n",
            "E cast time during leap removed; now grants true sight and some vision around target.\n",
            "We also know that Q no longer applying on plants can be painful for seasoned players who used this mechanic to optimize Ferocity stacks, but we strongly believe it wasn't healthy to support long term and have instead moved that power to more accessible parts of his kit.\n",
            "UPDATEDPURRFECT POUNCES Rengar will be able to leap after 0.35 seconds in brush or camouflage (or Senna's E - Curse of the Black Mist camouflage) consistently, rather than based on a 0.3-0.45 second timer (Leap range has been slightly increased to offset variability)\n",
            "Instead of regular critical strike damage, each 1% critical strike chance increases this empowered attack's damage by 0.66% (0.99% with Infinity Edge's Perfection passive)\n",
            "Passive burn base damage increased late.\n",
            "BURN BASE DAMAGE 55-225 (levels 1-18) ⇒ 55-310 (levels 1-18)\n",
            "Base health decreased, health growth increased, and armor adjusted.\n",
            "Jayce has also been a popular pick in Pro. We're lowering his laning power by making him squishier early on, but increasing his growth to make sure he still scales to late game.\n",
            "Base mana, move speed, and attack speed growth increased.\n",
            "Q damage against monsters increased.\n",
            "Q base damage decreased.\n",
            "We're looking (no pun intended) to bring down Lee Sin's jungle clear speed and early game threat in order to reduce his impact on Pro play.\n",
            "We're targeting his base damage instead of his cooldowns to ensure his passive's rhythm remains the same.\n",
            "RESONATING STRIKE MINIMUM DAMAGE 55/80/105/130/155 (+100% bonus AD) ⇒ 50/75/100/125/150 (+100% bonus AD)\n",
            "W base damage increased.\n",
            "W base damage increased.\n",
            "W base damage increased.\n",
            "W passive base damage and move speed increased.\n",
            "PASSIVE BONUS MAGIC DAMAGE 50/70/90/110/130 (+60% AP) ⇒ 50/80/110/140/170 (+60% AP)\n",
            "Base health regen decreased.\n",
            "Tap Q range increased and width decreased.\n",
            "W bonus damage against monsters increased.\n",
            "We're also bumping up his damage against monsters to compensate for some of the clear speed he lost because of the changes to Q against plants last patch.\n",
            "BONUS MAGIC DAMAGE AGAINST MONSTERS 65-130 (levels 1-18) ⇒ 85-150 (levels 1-18)\n",
            "Q damage AP ratio increased; bonus mana ratio decreased.\n",
            "Ryze's tank builds make him a safe yet potent split pusher by allowing him to stack health while dealing carry levels of damage, making him particularly lethal in Pro play.\n",
            "E AP ratio and damage against monsters increased.\n",
            "BONUS MAGIC DAMAGE AGAINST MONSTERS 50% ⇒ 80%\n",
            "Base health increased.\n",
            "Base health increased.\n",
            "Rather than increasing their damage, we're giving the wind brothers more opportunity to flex their skills.\n",
            "Base AD, AD growth, and armor decreased; health growth increased.\n",
            "Q base damage decreased, AD ratio increased; now applies on-hit effects only once per cast; now grants at most one R stack and E cooldown reduction once per cast, but crits can grant one more of each.\n",
            "W base damage decreased, AD and AP ratio increased.\n",
            "E cooldown increased early and decreases with rank again.\n",
            "R cooldown increased early and decreased late.\n",
            "ATTACK DAMAGE 53-87 (levels 1-18) ⇒ 50-75.5 (levels 1-18)\n",
            "UPDATEDNOT SO FAST Zeri can now only gain one stack of R - Lightning Crash and one instance of E - Spark Surge cooldown reduction per Q - Burst Fire cast (excluding critical strikes)\n",
            "NEWDOUBLE THE SHOCK Critical strikes on Q - Burst Fire grant Zeri an additional R - Lightning Crash stack and an additional instance of E - Spark Surge’s cooldown reduction (at most two procs per cast: one for Q upon hitting a champion and another if it crits on a champion)\n"
          ]
        }
      ]
    },
    {
      "cell_type": "code",
      "source": [
        ""
      ],
      "metadata": {
        "id": "bi101Nlbk7nf"
      },
      "execution_count": null,
      "outputs": []
    }
  ]
}