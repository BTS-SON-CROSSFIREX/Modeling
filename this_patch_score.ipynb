{
 "cells": [
  {
   "cell_type": "code",
   "execution_count": 3,
   "id": "2f96d4cb",
   "metadata": {},
   "outputs": [
    {
     "name": "stdout",
     "output_type": "stream",
     "text": [
      "Requirement already satisfied: pymysql in c:\\users\\82102\\anaconda3\\lib\\site-packages (1.0.2)\n"
     ]
    }
   ],
   "source": [
    "!pip install pymysql"
   ]
  },
  {
   "cell_type": "code",
   "execution_count": 1,
   "id": "46689a03",
   "metadata": {},
   "outputs": [],
   "source": [
    "import math\n",
    "import pandas as pd\n",
    "import pymysql"
   ]
  },
  {
   "cell_type": "code",
   "execution_count": 2,
   "id": "36697697",
   "metadata": {},
   "outputs": [],
   "source": [
    "conn = pymysql.connect(\n",
    "    host='database-2.cxqxtozuatjf.ap-northeast-2.rds.amazonaws.com', \n",
    "    user='admin', password='12345678', \n",
    "    db='game', charset='utf8'\n",
    ")\n",
    "cur = conn.cursor()"
   ]
  },
  {
   "cell_type": "code",
   "execution_count": 3,
   "id": "c1f2e520",
   "metadata": {
    "scrolled": true
   },
   "outputs": [
    {
     "name": "stdout",
     "output_type": "stream",
     "text": [
      "pubg 88.9\n"
     ]
    }
   ],
   "source": [
    "game='pubg'\n",
    "sql = 'SELECT *FROM '+game\n",
    "df=pd.read_sql(sql, conn)\n",
    "a=math.log10(len(df))\n",
    "b=math.log10(max(df.groupby('Datetime').size()))\n",
    "c=df['Score'].mean()*0.5\n",
    "score=(a/b*0.5+c)*100\n",
    "print(game,round(score,1))"
   ]
  },
  {
   "cell_type": "code",
   "execution_count": 4,
   "id": "ed2ac84d",
   "metadata": {},
   "outputs": [
    {
     "name": "stdout",
     "output_type": "stream",
     "text": [
      "overwatch 87.1\n"
     ]
    }
   ],
   "source": [
    "game='overwatch'\n",
    "sql = 'SELECT *FROM '+game\n",
    "df=pd.read_sql(sql, conn)\n",
    "a=math.log10(len(df))\n",
    "b=math.log10(max(df.groupby('Datetime').size()))\n",
    "c=df['Score'].mean()*0.5\n",
    "score=(a/b*0.5+c)*100\n",
    "print(game,round(score,1))"
   ]
  },
  {
   "cell_type": "code",
   "execution_count": 5,
   "id": "e39930f8",
   "metadata": {},
   "outputs": [
    {
     "name": "stdout",
     "output_type": "stream",
     "text": [
      "hearthstone 91.4\n"
     ]
    }
   ],
   "source": [
    "game='hearthstone'\n",
    "sql = 'SELECT *FROM '+game\n",
    "df=pd.read_sql(sql, conn)\n",
    "a=math.log10(len(df))\n",
    "b=math.log10(max(df.groupby('Datetime').size()))\n",
    "c=df['Score'].mean()*0.5\n",
    "score=(a/b*0.5+c)*100\n",
    "print(game,round(score,1))"
   ]
  },
  {
   "cell_type": "code",
   "execution_count": 6,
   "id": "abb9bfdc",
   "metadata": {},
   "outputs": [
    {
     "name": "stdout",
     "output_type": "stream",
     "text": [
      "crossfireX 82.3\n"
     ]
    }
   ],
   "source": [
    "game='crossfireX'\n",
    "sql = 'SELECT *FROM '+game\n",
    "df=pd.read_sql(sql, conn)\n",
    "a=math.log10(len(df))\n",
    "b=math.log10(max(df.groupby('Datetime').size()))\n",
    "c=df['Score'].mean()*0.5\n",
    "score=(a/b*0.5+c)*100\n",
    "print(game,round(score,1))"
   ]
  },
  {
   "cell_type": "code",
   "execution_count": null,
   "id": "10dda792",
   "metadata": {},
   "outputs": [],
   "source": []
  }
 ],
 "metadata": {
  "kernelspec": {
   "display_name": "Python 3 (ipykernel)",
   "language": "python",
   "name": "python3"
  },
  "language_info": {
   "codemirror_mode": {
    "name": "ipython",
    "version": 3
   },
   "file_extension": ".py",
   "mimetype": "text/x-python",
   "name": "python",
   "nbconvert_exporter": "python",
   "pygments_lexer": "ipython3",
   "version": "3.9.7"
  }
 },
 "nbformat": 4,
 "nbformat_minor": 5
}
